{
 "cells": [
  {
   "cell_type": "markdown",
   "metadata": {},
   "source": [
    "### Importing Libraries"
   ]
  },
  {
   "cell_type": "code",
   "execution_count": 1,
   "metadata": {
    "ExecuteTime": {
     "end_time": "2021-04-25T12:43:49.695915Z",
     "start_time": "2021-04-25T12:43:29.566809Z"
    }
   },
   "outputs": [],
   "source": [
    "import pandas as pd \n",
    "import numpy as np\n",
    "import seaborn as sns \n",
    "import matplotlib.pyplot as plt \n",
    "%matplotlib inline \n",
    "pd.set_option('display.max_columns',500)"
   ]
  },
  {
   "cell_type": "code",
   "execution_count": 2,
   "metadata": {
    "ExecuteTime": {
     "end_time": "2021-04-25T12:43:51.001678Z",
     "start_time": "2021-04-25T12:43:49.703902Z"
    }
   },
   "outputs": [],
   "source": [
    "tweets_df = pd.read_csv('vaccine_tweets.csv')"
   ]
  },
  {
   "cell_type": "code",
   "execution_count": 3,
   "metadata": {
    "ExecuteTime": {
     "end_time": "2021-04-25T12:43:51.175706Z",
     "start_time": "2021-04-25T12:43:51.004680Z"
    }
   },
   "outputs": [
    {
     "data": {
      "text/html": [
       "<div>\n",
       "<style scoped>\n",
       "    .dataframe tbody tr th:only-of-type {\n",
       "        vertical-align: middle;\n",
       "    }\n",
       "\n",
       "    .dataframe tbody tr th {\n",
       "        vertical-align: top;\n",
       "    }\n",
       "\n",
       "    .dataframe thead th {\n",
       "        text-align: right;\n",
       "    }\n",
       "</style>\n",
       "<table border=\"1\" class=\"dataframe\">\n",
       "  <thead>\n",
       "    <tr style=\"text-align: right;\">\n",
       "      <th></th>\n",
       "      <th>id</th>\n",
       "      <th>conversation_id</th>\n",
       "      <th>created_at</th>\n",
       "      <th>date</th>\n",
       "      <th>time</th>\n",
       "      <th>timezone</th>\n",
       "      <th>user_id</th>\n",
       "      <th>username</th>\n",
       "      <th>name</th>\n",
       "      <th>place</th>\n",
       "      <th>tweet</th>\n",
       "      <th>language</th>\n",
       "      <th>mentions</th>\n",
       "      <th>urls</th>\n",
       "      <th>photos</th>\n",
       "      <th>replies_count</th>\n",
       "      <th>retweets_count</th>\n",
       "      <th>likes_count</th>\n",
       "      <th>hashtags</th>\n",
       "      <th>cashtags</th>\n",
       "      <th>link</th>\n",
       "      <th>retweet</th>\n",
       "      <th>quote_url</th>\n",
       "      <th>video</th>\n",
       "      <th>thumbnail</th>\n",
       "      <th>near</th>\n",
       "      <th>geo</th>\n",
       "      <th>source</th>\n",
       "      <th>user_rt_id</th>\n",
       "      <th>user_rt</th>\n",
       "      <th>retweet_id</th>\n",
       "      <th>reply_to</th>\n",
       "      <th>retweet_date</th>\n",
       "      <th>translate</th>\n",
       "      <th>trans_src</th>\n",
       "      <th>trans_dest</th>\n",
       "    </tr>\n",
       "  </thead>\n",
       "  <tbody>\n",
       "    <tr>\n",
       "      <td>0</td>\n",
       "      <td>1386122456713228288</td>\n",
       "      <td>1386122456713228288</td>\n",
       "      <td>2021-04-25 06:28:41 India Standard Time</td>\n",
       "      <td>2021-04-25</td>\n",
       "      <td>06:28:41</td>\n",
       "      <td>530</td>\n",
       "      <td>1373531468744552448</td>\n",
       "      <td>vaxhunterscan</td>\n",
       "      <td>Vaccine Hunters Canada</td>\n",
       "      <td>NaN</td>\n",
       "      <td>We had an issue where twitter seemed to have m...</td>\n",
       "      <td>en</td>\n",
       "      <td>[{'screen_name': 'twittercanada', 'name': 'twi...</td>\n",
       "      <td>[]</td>\n",
       "      <td>[]</td>\n",
       "      <td>46</td>\n",
       "      <td>127</td>\n",
       "      <td>1704</td>\n",
       "      <td>[]</td>\n",
       "      <td>[]</td>\n",
       "      <td>https://twitter.com/VaxHuntersCan/status/13861...</td>\n",
       "      <td>False</td>\n",
       "      <td>NaN</td>\n",
       "      <td>0</td>\n",
       "      <td>NaN</td>\n",
       "      <td>NaN</td>\n",
       "      <td>NaN</td>\n",
       "      <td>NaN</td>\n",
       "      <td>NaN</td>\n",
       "      <td>NaN</td>\n",
       "      <td>NaN</td>\n",
       "      <td>[]</td>\n",
       "      <td>NaN</td>\n",
       "      <td>NaN</td>\n",
       "      <td>NaN</td>\n",
       "      <td>NaN</td>\n",
       "    </tr>\n",
       "    <tr>\n",
       "      <td>1</td>\n",
       "      <td>1386111987608821763</td>\n",
       "      <td>1386111987608821763</td>\n",
       "      <td>2021-04-25 05:47:05 India Standard Time</td>\n",
       "      <td>2021-04-25</td>\n",
       "      <td>05:47:05</td>\n",
       "      <td>530</td>\n",
       "      <td>166985027</td>\n",
       "      <td>naheedd</td>\n",
       "      <td>Naheed Dosani</td>\n",
       "      <td>NaN</td>\n",
       "      <td>Can someone nominate the team @VaxHuntersCan f...</td>\n",
       "      <td>en</td>\n",
       "      <td>[{'screen_name': 'vaxhunterscan', 'name': 'vac...</td>\n",
       "      <td>[]</td>\n",
       "      <td>[]</td>\n",
       "      <td>10</td>\n",
       "      <td>161</td>\n",
       "      <td>1325</td>\n",
       "      <td>['covid19']</td>\n",
       "      <td>[]</td>\n",
       "      <td>https://twitter.com/NaheedD/status/13861119876...</td>\n",
       "      <td>False</td>\n",
       "      <td>NaN</td>\n",
       "      <td>0</td>\n",
       "      <td>NaN</td>\n",
       "      <td>NaN</td>\n",
       "      <td>NaN</td>\n",
       "      <td>NaN</td>\n",
       "      <td>NaN</td>\n",
       "      <td>NaN</td>\n",
       "      <td>NaN</td>\n",
       "      <td>[]</td>\n",
       "      <td>NaN</td>\n",
       "      <td>NaN</td>\n",
       "      <td>NaN</td>\n",
       "      <td>NaN</td>\n",
       "    </tr>\n",
       "  </tbody>\n",
       "</table>\n",
       "</div>"
      ],
      "text/plain": [
       "                    id      conversation_id  \\\n",
       "0  1386122456713228288  1386122456713228288   \n",
       "1  1386111987608821763  1386111987608821763   \n",
       "\n",
       "                                created_at        date      time  timezone  \\\n",
       "0  2021-04-25 06:28:41 India Standard Time  2021-04-25  06:28:41       530   \n",
       "1  2021-04-25 05:47:05 India Standard Time  2021-04-25  05:47:05       530   \n",
       "\n",
       "               user_id       username                    name place  \\\n",
       "0  1373531468744552448  vaxhunterscan  Vaccine Hunters Canada   NaN   \n",
       "1            166985027        naheedd           Naheed Dosani   NaN   \n",
       "\n",
       "                                               tweet language  \\\n",
       "0  We had an issue where twitter seemed to have m...       en   \n",
       "1  Can someone nominate the team @VaxHuntersCan f...       en   \n",
       "\n",
       "                                            mentions urls photos  \\\n",
       "0  [{'screen_name': 'twittercanada', 'name': 'twi...   []     []   \n",
       "1  [{'screen_name': 'vaxhunterscan', 'name': 'vac...   []     []   \n",
       "\n",
       "   replies_count  retweets_count  likes_count     hashtags cashtags  \\\n",
       "0             46             127         1704           []       []   \n",
       "1             10             161         1325  ['covid19']       []   \n",
       "\n",
       "                                                link  retweet quote_url  \\\n",
       "0  https://twitter.com/VaxHuntersCan/status/13861...    False       NaN   \n",
       "1  https://twitter.com/NaheedD/status/13861119876...    False       NaN   \n",
       "\n",
       "   video thumbnail  near  geo  source  user_rt_id  user_rt  retweet_id  \\\n",
       "0      0       NaN   NaN  NaN     NaN         NaN      NaN         NaN   \n",
       "1      0       NaN   NaN  NaN     NaN         NaN      NaN         NaN   \n",
       "\n",
       "  reply_to  retweet_date  translate  trans_src  trans_dest  \n",
       "0       []           NaN        NaN        NaN         NaN  \n",
       "1       []           NaN        NaN        NaN         NaN  "
      ]
     },
     "execution_count": 3,
     "metadata": {},
     "output_type": "execute_result"
    }
   ],
   "source": [
    "tweets_df.head(2) "
   ]
  },
  {
   "cell_type": "code",
   "execution_count": 4,
   "metadata": {
    "ExecuteTime": {
     "end_time": "2021-04-25T12:43:51.317882Z",
     "start_time": "2021-04-25T12:43:51.182701Z"
    }
   },
   "outputs": [
    {
     "data": {
      "text/plain": [
       "(24744, 36)"
      ]
     },
     "execution_count": 4,
     "metadata": {},
     "output_type": "execute_result"
    }
   ],
   "source": [
    "tweets_df.shape"
   ]
  },
  {
   "cell_type": "code",
   "execution_count": 5,
   "metadata": {
    "ExecuteTime": {
     "end_time": "2021-04-25T12:43:51.678876Z",
     "start_time": "2021-04-25T12:43:51.327843Z"
    }
   },
   "outputs": [
    {
     "name": "stdout",
     "output_type": "stream",
     "text": [
      "<class 'pandas.core.frame.DataFrame'>\n",
      "RangeIndex: 24744 entries, 0 to 24743\n",
      "Data columns (total 36 columns):\n",
      "id                 24744 non-null int64\n",
      "conversation_id    24744 non-null int64\n",
      "created_at         24744 non-null object\n",
      "date               24744 non-null object\n",
      "time               24744 non-null object\n",
      "timezone           24744 non-null int64\n",
      "user_id            24744 non-null int64\n",
      "username           24744 non-null object\n",
      "name               24744 non-null object\n",
      "place              3 non-null object\n",
      "tweet              24744 non-null object\n",
      "language           24744 non-null object\n",
      "mentions           24744 non-null object\n",
      "urls               24744 non-null object\n",
      "photos             24744 non-null object\n",
      "replies_count      24744 non-null int64\n",
      "retweets_count     24744 non-null int64\n",
      "likes_count        24744 non-null int64\n",
      "hashtags           24744 non-null object\n",
      "cashtags           24744 non-null object\n",
      "link               24744 non-null object\n",
      "retweet            24744 non-null bool\n",
      "quote_url          2191 non-null object\n",
      "video              24744 non-null int64\n",
      "thumbnail          5024 non-null object\n",
      "near               0 non-null float64\n",
      "geo                0 non-null float64\n",
      "source             0 non-null float64\n",
      "user_rt_id         0 non-null float64\n",
      "user_rt            0 non-null float64\n",
      "retweet_id         0 non-null float64\n",
      "reply_to           24744 non-null object\n",
      "retweet_date       0 non-null float64\n",
      "translate          0 non-null float64\n",
      "trans_src          0 non-null float64\n",
      "trans_dest         0 non-null float64\n",
      "dtypes: bool(1), float64(10), int64(8), object(17)\n",
      "memory usage: 6.6+ MB\n"
     ]
    }
   ],
   "source": [
    "tweets_df.info()"
   ]
  },
  {
   "cell_type": "code",
   "execution_count": 6,
   "metadata": {
    "ExecuteTime": {
     "end_time": "2021-04-25T12:43:52.744380Z",
     "start_time": "2021-04-25T12:43:51.687864Z"
    }
   },
   "outputs": [
    {
     "data": {
      "text/plain": [
       "id                 24744\n",
       "conversation_id    23858\n",
       "created_at         24621\n",
       "date                 924\n",
       "time               20916\n",
       "timezone               1\n",
       "user_id             9871\n",
       "username            9871\n",
       "name                9754\n",
       "place                  3\n",
       "tweet              24707\n",
       "language              26\n",
       "mentions            1352\n",
       "urls                2742\n",
       "photos              3702\n",
       "replies_count       2285\n",
       "retweets_count      5218\n",
       "likes_count        10860\n",
       "hashtags            1339\n",
       "cashtags               6\n",
       "link               24744\n",
       "retweet                1\n",
       "quote_url           1913\n",
       "video                  2\n",
       "thumbnail           4943\n",
       "near                   0\n",
       "geo                    0\n",
       "source                 0\n",
       "user_rt_id             0\n",
       "user_rt                0\n",
       "retweet_id             0\n",
       "reply_to             567\n",
       "retweet_date           0\n",
       "translate              0\n",
       "trans_src              0\n",
       "trans_dest             0\n",
       "dtype: int64"
      ]
     },
     "execution_count": 6,
     "metadata": {},
     "output_type": "execute_result"
    }
   ],
   "source": [
    "tweets_df.nunique()"
   ]
  },
  {
   "cell_type": "markdown",
   "metadata": {},
   "source": [
    "#### Initial Observation\n",
    "- Total tweets Successfully collected 24744 Tweets\n",
    "- Total number of rows to be worked on 24744\n",
    "- 10 columns with all null value\n",
    "- 3 column with more than 80% null values\n"
   ]
  },
  {
   "cell_type": "markdown",
   "metadata": {},
   "source": [
    "### Checking for nytimes / cnn / usnews value counts"
   ]
  },
  {
   "cell_type": "code",
   "execution_count": 7,
   "metadata": {
    "ExecuteTime": {
     "end_time": "2021-04-25T12:43:52.931452Z",
     "start_time": "2021-04-25T12:43:52.747358Z"
    }
   },
   "outputs": [
    {
     "data": {
      "text/plain": [
       "nytimes    83\n",
       "Name: username, dtype: int64"
      ]
     },
     "execution_count": 7,
     "metadata": {},
     "output_type": "execute_result"
    }
   ],
   "source": [
    "df_nytimestweets = tweets_df[tweets_df['username'] == 'nytimes']\n",
    "df_nytimestweets['username'].value_counts()"
   ]
  },
  {
   "cell_type": "markdown",
   "metadata": {},
   "source": [
    "####  most popular tweeter news account CNN Breaking News (60.2m followers) has only 47 tweets regarding Vaccine"
   ]
  },
  {
   "cell_type": "code",
   "execution_count": 8,
   "metadata": {
    "ExecuteTime": {
     "end_time": "2021-04-25T12:43:53.027386Z",
     "start_time": "2021-04-25T12:43:52.947436Z"
    }
   },
   "outputs": [
    {
     "data": {
      "text/plain": [
       "cnnbrk    48\n",
       "Name: username, dtype: int64"
      ]
     },
     "execution_count": 8,
     "metadata": {},
     "output_type": "execute_result"
    }
   ],
   "source": [
    "df_cnntweets = tweets_df[tweets_df['username'] == 'cnnbrk']\n",
    "df_cnntweets['username'].value_counts()"
   ]
  },
  {
   "cell_type": "code",
   "execution_count": 9,
   "metadata": {
    "ExecuteTime": {
     "end_time": "2021-04-25T12:43:53.170999Z",
     "start_time": "2021-04-25T12:43:53.043378Z"
    }
   },
   "outputs": [
    {
     "data": {
      "text/plain": [
       "Series([], Name: username, dtype: int64)"
      ]
     },
     "execution_count": 9,
     "metadata": {},
     "output_type": "execute_result"
    }
   ],
   "source": [
    "df_usnewstweets = tweets_df[tweets_df['username'] == 'usnews']\n",
    "df_usnewstweets['username'].value_counts() "
   ]
  },
  {
   "cell_type": "markdown",
   "metadata": {},
   "source": [
    "### Dropping columns with more than 60% null value"
   ]
  },
  {
   "cell_type": "code",
   "execution_count": 10,
   "metadata": {
    "ExecuteTime": {
     "end_time": "2021-04-25T12:43:53.360003Z",
     "start_time": "2021-04-25T12:43:53.177995Z"
    }
   },
   "outputs": [],
   "source": [
    "tweets_df = tweets_df.loc[:, tweets_df.isnull().mean() < .6]"
   ]
  },
  {
   "cell_type": "markdown",
   "metadata": {},
   "source": [
    "#### Checking for users with number of tweets"
   ]
  },
  {
   "cell_type": "code",
   "execution_count": 11,
   "metadata": {
    "ExecuteTime": {
     "end_time": "2021-04-25T12:43:53.487839Z",
     "start_time": "2021-04-25T12:43:53.364980Z"
    }
   },
   "outputs": [
    {
     "data": {
      "text/plain": [
       "kylegriffin1      194\n",
       "spectatorindex    188\n",
       "drericding        152\n",
       "aslavitt          136\n",
       "ani               116\n",
       "                 ... \n",
       "healthinsider       1\n",
       "monicagandhi9       1\n",
       "lesarenee333        1\n",
       "jamescowiee         1\n",
       "marioandretti       1\n",
       "Name: username, Length: 9871, dtype: int64"
      ]
     },
     "execution_count": 11,
     "metadata": {},
     "output_type": "execute_result"
    }
   ],
   "source": [
    "tweets_df['username'].value_counts()"
   ]
  },
  {
   "cell_type": "markdown",
   "metadata": {},
   "source": [
    "#### number of languages tweets"
   ]
  },
  {
   "cell_type": "code",
   "execution_count": 12,
   "metadata": {
    "ExecuteTime": {
     "end_time": "2021-04-25T12:43:53.598135Z",
     "start_time": "2021-04-25T12:43:53.497798Z"
    }
   },
   "outputs": [
    {
     "data": {
      "text/plain": [
       "en     24061\n",
       "tl       149\n",
       "fr       128\n",
       "hi        94\n",
       "ja        70\n",
       "in        52\n",
       "und       46\n",
       "pt        44\n",
       "es        29\n",
       "it        23\n",
       "cs        12\n",
       "de         6\n",
       "ht         5\n",
       "ca         5\n",
       "ro         4\n",
       "et         3\n",
       "da         3\n",
       "tr         2\n",
       "fi         1\n",
       "nl         1\n",
       "mr         1\n",
       "ur         1\n",
       "ar         1\n",
       "fa         1\n",
       "lt         1\n",
       "th         1\n",
       "Name: language, dtype: int64"
      ]
     },
     "execution_count": 12,
     "metadata": {},
     "output_type": "execute_result"
    }
   ],
   "source": [
    "tweets_df['language'].value_counts()"
   ]
  },
  {
   "cell_type": "code",
   "execution_count": 13,
   "metadata": {
    "ExecuteTime": {
     "end_time": "2021-04-25T12:43:53.708443Z",
     "start_time": "2021-04-25T12:43:53.601134Z"
    }
   },
   "outputs": [
    {
     "data": {
      "text/plain": [
       "[]                                       24739\n",
       "['zm']                                       1\n",
       "['pfe']                                      1\n",
       "['pfe', 'mrna', 'nvax', 'azn', 'jnj']        1\n",
       "['pfe', 'mrna']                              1\n",
       "['mrna']                                     1\n",
       "Name: cashtags, dtype: int64"
      ]
     },
     "execution_count": 13,
     "metadata": {},
     "output_type": "execute_result"
    }
   ],
   "source": [
    "tweets_df['cashtags'].value_counts()"
   ]
  },
  {
   "cell_type": "code",
   "execution_count": 14,
   "metadata": {
    "ExecuteTime": {
     "end_time": "2021-04-25T12:43:53.913448Z",
     "start_time": "2021-04-25T12:43:53.715409Z"
    }
   },
   "outputs": [
    {
     "data": {
      "text/plain": [
       "0    19720\n",
       "1     5024\n",
       "Name: video, dtype: int64"
      ]
     },
     "execution_count": 14,
     "metadata": {},
     "output_type": "execute_result"
    }
   ],
   "source": [
    "tweets_df['video'].value_counts() "
   ]
  },
  {
   "cell_type": "code",
   "execution_count": 15,
   "metadata": {
    "ExecuteTime": {
     "end_time": "2021-04-25T12:43:54.089221Z",
     "start_time": "2021-04-25T12:43:53.921452Z"
    }
   },
   "outputs": [
    {
     "name": "stdout",
     "output_type": "stream",
     "text": [
      "<class 'pandas.core.frame.DataFrame'>\n",
      "RangeIndex: 24744 entries, 0 to 24743\n",
      "Data columns (total 23 columns):\n",
      "id                 24744 non-null int64\n",
      "conversation_id    24744 non-null int64\n",
      "created_at         24744 non-null object\n",
      "date               24744 non-null object\n",
      "time               24744 non-null object\n",
      "timezone           24744 non-null int64\n",
      "user_id            24744 non-null int64\n",
      "username           24744 non-null object\n",
      "name               24744 non-null object\n",
      "tweet              24744 non-null object\n",
      "language           24744 non-null object\n",
      "mentions           24744 non-null object\n",
      "urls               24744 non-null object\n",
      "photos             24744 non-null object\n",
      "replies_count      24744 non-null int64\n",
      "retweets_count     24744 non-null int64\n",
      "likes_count        24744 non-null int64\n",
      "hashtags           24744 non-null object\n",
      "cashtags           24744 non-null object\n",
      "link               24744 non-null object\n",
      "retweet            24744 non-null bool\n",
      "video              24744 non-null int64\n",
      "reply_to           24744 non-null object\n",
      "dtypes: bool(1), int64(8), object(14)\n",
      "memory usage: 4.2+ MB\n"
     ]
    }
   ],
   "source": [
    "tweets_df.info()"
   ]
  },
  {
   "cell_type": "markdown",
   "metadata": {},
   "source": [
    "### Checking dates and converting it into datetime"
   ]
  },
  {
   "cell_type": "code",
   "execution_count": 16,
   "metadata": {
    "ExecuteTime": {
     "end_time": "2021-04-25T12:43:54.231045Z",
     "start_time": "2021-04-25T12:43:54.094220Z"
    }
   },
   "outputs": [
    {
     "data": {
      "text/plain": [
       "'2013-02-17'"
      ]
     },
     "execution_count": 16,
     "metadata": {},
     "output_type": "execute_result"
    }
   ],
   "source": [
    "tweets_df['date'].min()"
   ]
  },
  {
   "cell_type": "code",
   "execution_count": 17,
   "metadata": {
    "ExecuteTime": {
     "end_time": "2021-04-25T12:43:54.405590Z",
     "start_time": "2021-04-25T12:43:54.239013Z"
    }
   },
   "outputs": [
    {
     "data": {
      "text/plain": [
       "'2021-04-25'"
      ]
     },
     "execution_count": 17,
     "metadata": {},
     "output_type": "execute_result"
    }
   ],
   "source": [
    "tweets_df['date'].max()"
   ]
  },
  {
   "cell_type": "code",
   "execution_count": 18,
   "metadata": {
    "ExecuteTime": {
     "end_time": "2021-04-25T12:43:54.549476Z",
     "start_time": "2021-04-25T12:43:54.415551Z"
    }
   },
   "outputs": [],
   "source": [
    "tweets_df['date']= pd.to_datetime(tweets_df['date']) "
   ]
  },
  {
   "cell_type": "code",
   "execution_count": 19,
   "metadata": {
    "ExecuteTime": {
     "end_time": "2021-04-25T12:43:54.787791Z",
     "start_time": "2021-04-25T12:43:54.555468Z"
    }
   },
   "outputs": [],
   "source": [
    "tweets_df['year'] = tweets_df['date'].dt.year\n",
    "tweets_df['month'] = tweets_df['date'].dt.month"
   ]
  },
  {
   "cell_type": "code",
   "execution_count": 20,
   "metadata": {
    "ExecuteTime": {
     "end_time": "2021-04-25T12:43:54.895856Z",
     "start_time": "2021-04-25T12:43:54.792790Z"
    }
   },
   "outputs": [
    {
     "data": {
      "text/plain": [
       "2021    14179\n",
       "2020     9728\n",
       "2019      541\n",
       "2018      184\n",
       "2017       69\n",
       "2015       18\n",
       "2016       14\n",
       "2014        9\n",
       "2013        2\n",
       "Name: year, dtype: int64"
      ]
     },
     "execution_count": 20,
     "metadata": {},
     "output_type": "execute_result"
    }
   ],
   "source": [
    "tweets_df['year'].value_counts() "
   ]
  },
  {
   "cell_type": "markdown",
   "metadata": {},
   "source": [
    "#### Catplot for number of tweets based on month and year"
   ]
  },
  {
   "cell_type": "code",
   "execution_count": 21,
   "metadata": {
    "ExecuteTime": {
     "end_time": "2021-04-25T12:43:58.419692Z",
     "start_time": "2021-04-25T12:43:54.901828Z"
    }
   },
   "outputs": [
    {
     "data": {
      "text/plain": [
       "<seaborn.axisgrid.FacetGrid at 0x1bf6e734d30>"
      ]
     },
     "execution_count": 21,
     "metadata": {},
     "output_type": "execute_result"
    },
    {
     "data": {
      "image/png": "[encoded data removed]",
      "text/plain": [
       "<Figure size 408.75x360 with 1 Axes>"
      ]
     },
     "metadata": {
      "needs_background": "light"
     },
     "output_type": "display_data"
    }
   ],
   "source": [
    "sns.catplot(y=\"year\", hue=\"month\", kind=\"count\",\n",
    "            palette=\"pastel\", edgecolor=\".6\",\n",
    "            data=tweets_df)"
   ]
  },
  {
   "cell_type": "markdown",
   "metadata": {},
   "source": [
    "#### Observation\n",
    "- Most of the tweets are from 2020 onwards so we can make the assumption , the talk of vaccine became more popular since COVID19 started"
   ]
  },
  {
   "cell_type": "markdown",
   "metadata": {},
   "source": [
    "#### Selecting tweets after 1/1/2020"
   ]
  },
  {
   "cell_type": "code",
   "execution_count": 22,
   "metadata": {
    "ExecuteTime": {
     "end_time": "2021-04-25T12:43:58.561244Z",
     "start_time": "2021-04-25T12:43:58.422690Z"
    }
   },
   "outputs": [],
   "source": [
    "ts = pd.to_datetime('1/1/2020')\n",
    "tweets_df_r = tweets_df.loc[tweets_df.date >= ts,: ] "
   ]
  },
  {
   "cell_type": "code",
   "execution_count": 23,
   "metadata": {
    "ExecuteTime": {
     "end_time": "2021-04-25T12:43:58.752211Z",
     "start_time": "2021-04-25T12:43:58.579230Z"
    }
   },
   "outputs": [
    {
     "data": {
      "text/plain": [
       "(23907, 25)"
      ]
     },
     "execution_count": 23,
     "metadata": {},
     "output_type": "execute_result"
    }
   ],
   "source": [
    "tweets_df_r.shape"
   ]
  },
  {
   "cell_type": "code",
   "execution_count": 24,
   "metadata": {
    "ExecuteTime": {
     "end_time": "2021-04-25T12:43:59.035683Z",
     "start_time": "2021-04-25T12:43:58.763205Z"
    }
   },
   "outputs": [
    {
     "name": "stdout",
     "output_type": "stream",
     "text": [
      "<class 'pandas.core.frame.DataFrame'>\n",
      "Int64Index: 23907 entries, 0 to 23906\n",
      "Data columns (total 25 columns):\n",
      "id                 23907 non-null int64\n",
      "conversation_id    23907 non-null int64\n",
      "created_at         23907 non-null object\n",
      "date               23907 non-null datetime64[ns]\n",
      "time               23907 non-null object\n",
      "timezone           23907 non-null int64\n",
      "user_id            23907 non-null int64\n",
      "username           23907 non-null object\n",
      "name               23907 non-null object\n",
      "tweet              23907 non-null object\n",
      "language           23907 non-null object\n",
      "mentions           23907 non-null object\n",
      "urls               23907 non-null object\n",
      "photos             23907 non-null object\n",
      "replies_count      23907 non-null int64\n",
      "retweets_count     23907 non-null int64\n",
      "likes_count        23907 non-null int64\n",
      "hashtags           23907 non-null object\n",
      "cashtags           23907 non-null object\n",
      "link               23907 non-null object\n",
      "retweet            23907 non-null bool\n",
      "video              23907 non-null int64\n",
      "reply_to           23907 non-null object\n",
      "year               23907 non-null int64\n",
      "month              23907 non-null int64\n",
      "dtypes: bool(1), datetime64[ns](1), int64(10), object(13)\n",
      "memory usage: 4.6+ MB\n"
     ]
    }
   ],
   "source": [
    "tweets_df_r.info()"
   ]
  },
  {
   "cell_type": "code",
   "execution_count": 25,
   "metadata": {
    "ExecuteTime": {
     "end_time": "2021-04-25T12:44:00.444004Z",
     "start_time": "2021-04-25T12:43:59.039682Z"
    }
   },
   "outputs": [
    {
     "data": {
      "text/plain": [
       "<seaborn.axisgrid.FacetGrid at 0x1bf6f8dfe10>"
      ]
     },
     "execution_count": 25,
     "metadata": {},
     "output_type": "execute_result"
    },
    {
     "data": {
      "image/png": "[encoded data removed]",
      "text/plain": [
       "<Figure size 408.75x360 with 1 Axes>"
      ]
     },
     "metadata": {
      "needs_background": "light"
     },
     "output_type": "display_data"
    }
   ],
   "source": [
    "sns.catplot(y=\"year\", hue=\"month\", kind=\"count\",\n",
    "            palette=\"pastel\", edgecolor=\".6\",\n",
    "            data=tweets_df_r)"
   ]
  },
  {
   "cell_type": "code",
   "execution_count": 26,
   "metadata": {
    "ExecuteTime": {
     "end_time": "2021-04-25T12:44:00.554849Z",
     "start_time": "2021-04-25T12:44:00.447999Z"
    }
   },
   "outputs": [
    {
     "data": {
      "text/html": [
       "<div>\n",
       "<style scoped>\n",
       "    .dataframe tbody tr th:only-of-type {\n",
       "        vertical-align: middle;\n",
       "    }\n",
       "\n",
       "    .dataframe tbody tr th {\n",
       "        vertical-align: top;\n",
       "    }\n",
       "\n",
       "    .dataframe thead th {\n",
       "        text-align: right;\n",
       "    }\n",
       "</style>\n",
       "<table border=\"1\" class=\"dataframe\">\n",
       "  <thead>\n",
       "    <tr style=\"text-align: right;\">\n",
       "      <th>month</th>\n",
       "      <th>1</th>\n",
       "      <th>2</th>\n",
       "      <th>3</th>\n",
       "      <th>4</th>\n",
       "      <th>5</th>\n",
       "      <th>6</th>\n",
       "      <th>7</th>\n",
       "      <th>8</th>\n",
       "      <th>9</th>\n",
       "      <th>10</th>\n",
       "      <th>11</th>\n",
       "      <th>12</th>\n",
       "    </tr>\n",
       "    <tr>\n",
       "      <th>year</th>\n",
       "      <th></th>\n",
       "      <th></th>\n",
       "      <th></th>\n",
       "      <th></th>\n",
       "      <th></th>\n",
       "      <th></th>\n",
       "      <th></th>\n",
       "      <th></th>\n",
       "      <th></th>\n",
       "      <th></th>\n",
       "      <th></th>\n",
       "      <th></th>\n",
       "    </tr>\n",
       "  </thead>\n",
       "  <tbody>\n",
       "    <tr>\n",
       "      <td>2020</td>\n",
       "      <td>42</td>\n",
       "      <td>109</td>\n",
       "      <td>579</td>\n",
       "      <td>600</td>\n",
       "      <td>503</td>\n",
       "      <td>280</td>\n",
       "      <td>540</td>\n",
       "      <td>432</td>\n",
       "      <td>619</td>\n",
       "      <td>456</td>\n",
       "      <td>1787</td>\n",
       "      <td>3781</td>\n",
       "    </tr>\n",
       "    <tr>\n",
       "      <td>2021</td>\n",
       "      <td>3135</td>\n",
       "      <td>2370</td>\n",
       "      <td>3931</td>\n",
       "      <td>4743</td>\n",
       "      <td>0</td>\n",
       "      <td>0</td>\n",
       "      <td>0</td>\n",
       "      <td>0</td>\n",
       "      <td>0</td>\n",
       "      <td>0</td>\n",
       "      <td>0</td>\n",
       "      <td>0</td>\n",
       "    </tr>\n",
       "  </tbody>\n",
       "</table>\n",
       "</div>"
      ],
      "text/plain": [
       "month    1     2     3     4    5    6    7    8    9    10    11    12\n",
       "year                                                                   \n",
       "2020     42   109   579   600  503  280  540  432  619  456  1787  3781\n",
       "2021   3135  2370  3931  4743    0    0    0    0    0    0     0     0"
      ]
     },
     "execution_count": 26,
     "metadata": {},
     "output_type": "execute_result"
    }
   ],
   "source": [
    "tweets_df_r.groupby(['year','month']).size().unstack(fill_value=0)"
   ]
  },
  {
   "cell_type": "markdown",
   "metadata": {},
   "source": [
    "#### Observation\n",
    "- Clearly the number of tweets with regards to vaccine has been the highest in 25 days of April 2021"
   ]
  },
  {
   "cell_type": "markdown",
   "metadata": {},
   "source": [
    "### Creating a subset and working on it"
   ]
  },
  {
   "cell_type": "code",
   "execution_count": 27,
   "metadata": {
    "ExecuteTime": {
     "end_time": "2021-04-25T12:44:00.665413Z",
     "start_time": "2021-04-25T12:44:00.560847Z"
    }
   },
   "outputs": [
    {
     "data": {
      "text/html": [
       "<div>\n",
       "<style scoped>\n",
       "    .dataframe tbody tr th:only-of-type {\n",
       "        vertical-align: middle;\n",
       "    }\n",
       "\n",
       "    .dataframe tbody tr th {\n",
       "        vertical-align: top;\n",
       "    }\n",
       "\n",
       "    .dataframe thead th {\n",
       "        text-align: right;\n",
       "    }\n",
       "</style>\n",
       "<table border=\"1\" class=\"dataframe\">\n",
       "  <thead>\n",
       "    <tr style=\"text-align: right;\">\n",
       "      <th></th>\n",
       "      <th>date</th>\n",
       "      <th>tweet</th>\n",
       "      <th>month</th>\n",
       "      <th>year</th>\n",
       "    </tr>\n",
       "  </thead>\n",
       "  <tbody>\n",
       "    <tr>\n",
       "      <td>0</td>\n",
       "      <td>2021-04-25</td>\n",
       "      <td>We had an issue where twitter seemed to have m...</td>\n",
       "      <td>4</td>\n",
       "      <td>2021</td>\n",
       "    </tr>\n",
       "    <tr>\n",
       "      <td>1</td>\n",
       "      <td>2021-04-25</td>\n",
       "      <td>Can someone nominate the team @VaxHuntersCan f...</td>\n",
       "      <td>4</td>\n",
       "      <td>2021</td>\n",
       "    </tr>\n",
       "    <tr>\n",
       "      <td>2</td>\n",
       "      <td>2021-04-25</td>\n",
       "      <td>Sorry for it being late. I had to get a cool l...</td>\n",
       "      <td>4</td>\n",
       "      <td>2021</td>\n",
       "    </tr>\n",
       "    <tr>\n",
       "      <td>3</td>\n",
       "      <td>2021-04-25</td>\n",
       "      <td>Covid vaccines are the results of decades of r...</td>\n",
       "      <td>4</td>\n",
       "      <td>2021</td>\n",
       "    </tr>\n",
       "    <tr>\n",
       "      <td>4</td>\n",
       "      <td>2021-04-25</td>\n",
       "      <td>Got my first vaccine shot and man did it fuck ...</td>\n",
       "      <td>4</td>\n",
       "      <td>2021</td>\n",
       "    </tr>\n",
       "  </tbody>\n",
       "</table>\n",
       "</div>"
      ],
      "text/plain": [
       "        date                                              tweet  month  year\n",
       "0 2021-04-25  We had an issue where twitter seemed to have m...      4  2021\n",
       "1 2021-04-25  Can someone nominate the team @VaxHuntersCan f...      4  2021\n",
       "2 2021-04-25  Sorry for it being late. I had to get a cool l...      4  2021\n",
       "3 2021-04-25  Covid vaccines are the results of decades of r...      4  2021\n",
       "4 2021-04-25  Got my first vaccine shot and man did it fuck ...      4  2021"
      ]
     },
     "execution_count": 27,
     "metadata": {},
     "output_type": "execute_result"
    }
   ],
   "source": [
    "subset = ['date', 'tweet', 'month','year']\n",
    "tweets_df_r1 = tweets_df_r.loc[:, subset] \n",
    "tweets_df_r1.head() "
   ]
  },
  {
   "cell_type": "code",
   "execution_count": 28,
   "metadata": {
    "ExecuteTime": {
     "end_time": "2021-04-25T12:44:00.872583Z",
     "start_time": "2021-04-25T12:44:00.674373Z"
    }
   },
   "outputs": [
    {
     "data": {
      "text/plain": [
       "(23907, 4)"
      ]
     },
     "execution_count": 28,
     "metadata": {},
     "output_type": "execute_result"
    }
   ],
   "source": [
    "tweets_df_r1.shape"
   ]
  },
  {
   "cell_type": "markdown",
   "metadata": {},
   "source": [
    "### Checking the word frequency"
   ]
  },
  {
   "cell_type": "code",
   "execution_count": 29,
   "metadata": {
    "ExecuteTime": {
     "end_time": "2021-04-25T12:44:01.538299Z",
     "start_time": "2021-04-25T12:44:00.882540Z"
    }
   },
   "outputs": [
    {
     "data": {
      "text/plain": [
       "<matplotlib.axes._subplots.AxesSubplot at 0x1bf6f46c710>"
      ]
     },
     "execution_count": 29,
     "metadata": {},
     "output_type": "execute_result"
    },
    {
     "data": {
      "image/png": "[encoded data removed]",
      "text/plain": [
       "<Figure size 432x288 with 1 Axes>"
      ]
     },
     "metadata": {
      "needs_background": "light"
     },
     "output_type": "display_data"
    }
   ],
   "source": [
    "tweets_df_r1['tweet'].str.len().hist() "
   ]
  },
  {
   "cell_type": "markdown",
   "metadata": {},
   "source": [
    "#### Observation\n",
    "- The histogram shows that the tweets range from **5 to 320 characters** and generally, it is between **50 to 250 characters.**"
   ]
  },
  {
   "cell_type": "code",
   "execution_count": 30,
   "metadata": {
    "ExecuteTime": {
     "end_time": "2021-04-25T12:44:01.948410Z",
     "start_time": "2021-04-25T12:44:01.543297Z"
    }
   },
   "outputs": [
    {
     "data": {
      "text/plain": [
       "<matplotlib.axes._subplots.AxesSubplot at 0x1bf6f506438>"
      ]
     },
     "execution_count": 30,
     "metadata": {},
     "output_type": "execute_result"
    },
    {
     "data": {
      "image/png": "[encoded data removed]",
      "text/plain": [
       "<Figure size 432x288 with 1 Axes>"
      ]
     },
     "metadata": {
      "needs_background": "light"
     },
     "output_type": "display_data"
    }
   ],
   "source": [
    "tweets_df_r1['tweet'].str.split().\\\n",
    "    map(lambda x: len(x)).\\\n",
    "    hist() "
   ]
  },
  {
   "cell_type": "markdown",
   "metadata": {},
   "source": [
    "#### Observation\n",
    "The histogram shows that the tweets at the **number of word level** range from 1 to 58 words and generally, it is between 10 to 50 words."
   ]
  },
  {
   "cell_type": "code",
   "execution_count": 31,
   "metadata": {
    "ExecuteTime": {
     "end_time": "2021-04-25T12:44:03.044787Z",
     "start_time": "2021-04-25T12:44:01.950411Z"
    }
   },
   "outputs": [
    {
     "data": {
      "text/plain": [
       "<matplotlib.axes._subplots.AxesSubplot at 0x1bf763f6e48>"
      ]
     },
     "execution_count": 31,
     "metadata": {},
     "output_type": "execute_result"
    },
    {
     "data": {
      "image/png": "[encoded data removed]",
      "text/plain": [
       "<Figure size 432x288 with 1 Axes>"
      ]
     },
     "metadata": {
      "needs_background": "light"
     },
     "output_type": "display_data"
    }
   ],
   "source": [
    "tweets_df_r1['tweet'].str.split().\\\n",
    "   apply(lambda x : [len(i) for i in x]). \\\n",
    "   map(lambda x: np.mean(x)).hist()"
   ]
  },
  {
   "cell_type": "markdown",
   "metadata": {},
   "source": [
    "#### Observation\n",
    "The histogram shows **Average number of word** us 2-18"
   ]
  },
  {
   "cell_type": "markdown",
   "metadata": {},
   "source": [
    "### NLTK"
   ]
  },
  {
   "cell_type": "code",
   "execution_count": 32,
   "metadata": {
    "ExecuteTime": {
     "end_time": "2021-04-25T12:44:19.124495Z",
     "start_time": "2021-04-25T12:44:03.047784Z"
    }
   },
   "outputs": [
    {
     "name": "stderr",
     "output_type": "stream",
     "text": [
      "[nltk_data] Downloading package stopwords to\n",
      "[nltk_data]     C:\\Users\\DELL\\AppData\\Roaming\\nltk_data...\n",
      "[nltk_data]   Package stopwords is already up-to-date!\n",
      "[nltk_data] Downloading package punkt to\n",
      "[nltk_data]     C:\\Users\\DELL\\AppData\\Roaming\\nltk_data...\n",
      "[nltk_data]   Package punkt is already up-to-date!\n",
      "[nltk_data] Downloading package wordnet to\n",
      "[nltk_data]     C:\\Users\\DELL\\AppData\\Roaming\\nltk_data...\n",
      "[nltk_data]   Package wordnet is already up-to-date!\n"
     ]
    },
    {
     "data": {
      "text/plain": [
       "True"
      ]
     },
     "execution_count": 32,
     "metadata": {},
     "output_type": "execute_result"
    }
   ],
   "source": [
    "import nltk\n",
    "from nltk.tokenize import word_tokenize\n",
    "from nltk.corpus import stopwords\n",
    "from nltk.stem.wordnet import WordNetLemmatizer\n",
    "from nltk.stem.porter import PorterStemmer\n",
    "from nltk.probability import FreqDist\n",
    "nltk.download('stopwords')\n",
    "nltk.download('punkt')\n",
    "nltk.download('wordnet')"
   ]
  },
  {
   "cell_type": "markdown",
   "metadata": {},
   "source": [
    "#### Adding Tokenized column"
   ]
  },
  {
   "cell_type": "code",
   "execution_count": 33,
   "metadata": {
    "ExecuteTime": {
     "end_time": "2021-04-25T12:44:31.865127Z",
     "start_time": "2021-04-25T12:44:19.138478Z"
    }
   },
   "outputs": [],
   "source": [
    "tweets_df_r1['tt'] = tweets_df_r1['tweet'].apply(word_tokenize)"
   ]
  },
  {
   "cell_type": "code",
   "execution_count": 34,
   "metadata": {
    "ExecuteTime": {
     "end_time": "2021-04-25T12:44:31.897070Z",
     "start_time": "2021-04-25T12:44:31.867086Z"
    }
   },
   "outputs": [
    {
     "data": {
      "text/html": [
       "<div>\n",
       "<style scoped>\n",
       "    .dataframe tbody tr th:only-of-type {\n",
       "        vertical-align: middle;\n",
       "    }\n",
       "\n",
       "    .dataframe tbody tr th {\n",
       "        vertical-align: top;\n",
       "    }\n",
       "\n",
       "    .dataframe thead th {\n",
       "        text-align: right;\n",
       "    }\n",
       "</style>\n",
       "<table border=\"1\" class=\"dataframe\">\n",
       "  <thead>\n",
       "    <tr style=\"text-align: right;\">\n",
       "      <th></th>\n",
       "      <th>date</th>\n",
       "      <th>tweet</th>\n",
       "      <th>month</th>\n",
       "      <th>year</th>\n",
       "      <th>tt</th>\n",
       "    </tr>\n",
       "  </thead>\n",
       "  <tbody>\n",
       "    <tr>\n",
       "      <td>0</td>\n",
       "      <td>2021-04-25</td>\n",
       "      <td>We had an issue where twitter seemed to have m...</td>\n",
       "      <td>4</td>\n",
       "      <td>2021</td>\n",
       "      <td>[We, had, an, issue, where, twitter, seemed, t...</td>\n",
       "    </tr>\n",
       "    <tr>\n",
       "      <td>1</td>\n",
       "      <td>2021-04-25</td>\n",
       "      <td>Can someone nominate the team @VaxHuntersCan f...</td>\n",
       "      <td>4</td>\n",
       "      <td>2021</td>\n",
       "      <td>[Can, someone, nominate, the, team, @, VaxHunt...</td>\n",
       "    </tr>\n",
       "    <tr>\n",
       "      <td>2</td>\n",
       "      <td>2021-04-25</td>\n",
       "      <td>Sorry for it being late. I had to get a cool l...</td>\n",
       "      <td>4</td>\n",
       "      <td>2021</td>\n",
       "      <td>[Sorry, for, it, being, late, ., I, had, to, g...</td>\n",
       "    </tr>\n",
       "    <tr>\n",
       "      <td>3</td>\n",
       "      <td>2021-04-25</td>\n",
       "      <td>Covid vaccines are the results of decades of r...</td>\n",
       "      <td>4</td>\n",
       "      <td>2021</td>\n",
       "      <td>[Covid, vaccines, are, the, results, of, decad...</td>\n",
       "    </tr>\n",
       "    <tr>\n",
       "      <td>4</td>\n",
       "      <td>2021-04-25</td>\n",
       "      <td>Got my first vaccine shot and man did it fuck ...</td>\n",
       "      <td>4</td>\n",
       "      <td>2021</td>\n",
       "      <td>[Got, my, first, vaccine, shot, and, man, did,...</td>\n",
       "    </tr>\n",
       "  </tbody>\n",
       "</table>\n",
       "</div>"
      ],
      "text/plain": [
       "        date                                              tweet  month  year  \\\n",
       "0 2021-04-25  We had an issue where twitter seemed to have m...      4  2021   \n",
       "1 2021-04-25  Can someone nominate the team @VaxHuntersCan f...      4  2021   \n",
       "2 2021-04-25  Sorry for it being late. I had to get a cool l...      4  2021   \n",
       "3 2021-04-25  Covid vaccines are the results of decades of r...      4  2021   \n",
       "4 2021-04-25  Got my first vaccine shot and man did it fuck ...      4  2021   \n",
       "\n",
       "                                                  tt  \n",
       "0  [We, had, an, issue, where, twitter, seemed, t...  \n",
       "1  [Can, someone, nominate, the, team, @, VaxHunt...  \n",
       "2  [Sorry, for, it, being, late, ., I, had, to, g...  \n",
       "3  [Covid, vaccines, are, the, results, of, decad...  \n",
       "4  [Got, my, first, vaccine, shot, and, man, did,...  "
      ]
     },
     "execution_count": 34,
     "metadata": {},
     "output_type": "execute_result"
    }
   ],
   "source": [
    "tweets_df_r1.head()"
   ]
  },
  {
   "cell_type": "markdown",
   "metadata": {},
   "source": [
    "### Adding sentiment through TextBlob\n",
    "- **Polarity** is a float that lies between [-1,1], -1 indicates negative sentiment and +1 indicates positive sentiments. \n",
    "- **Subjectivity** is also a float which lies in the range of [0,1]. Subjective sentences generally refer to personal opinion, emotion, or judgment. "
   ]
  },
  {
   "cell_type": "code",
   "execution_count": 35,
   "metadata": {
    "ExecuteTime": {
     "end_time": "2021-04-25T12:44:32.462117Z",
     "start_time": "2021-04-25T12:44:31.901068Z"
    }
   },
   "outputs": [],
   "source": [
    "from textblob import TextBlob"
   ]
  },
  {
   "cell_type": "code",
   "execution_count": 36,
   "metadata": {
    "ExecuteTime": {
     "end_time": "2021-04-25T12:44:32.495106Z",
     "start_time": "2021-04-25T12:44:32.474120Z"
    }
   },
   "outputs": [],
   "source": [
    "def clean_tweet(tweets_df_r1, tt):\n",
    "        '''\n",
    "        Utility function to clean tweet text by removing links, special characters\n",
    "        using simple regex statements.\n",
    "        '''\n",
    "        return ' '.join(re.sub(\"(@[A-Za-z0-9]+)|([^0-9A-Za-z \\t])|(\\w+:\\/\\/\\S+)\", \" \", tweet).split())"
   ]
  },
  {
   "cell_type": "code",
   "execution_count": 37,
   "metadata": {
    "ExecuteTime": {
     "end_time": "2021-04-25T12:45:00.274199Z",
     "start_time": "2021-04-25T12:44:32.504108Z"
    }
   },
   "outputs": [],
   "source": [
    "def sentiment_calc(tt):\n",
    "    try:\n",
    "        return TextBlob(tt).sentiment\n",
    "    except:\n",
    "        return None\n",
    "    \n",
    "tweets_df_r1['sentiment'] = tweets_df_r1['tweet'].apply(sentiment_calc)"
   ]
  },
  {
   "cell_type": "code",
   "execution_count": 38,
   "metadata": {
    "ExecuteTime": {
     "end_time": "2021-04-25T12:45:00.397836Z",
     "start_time": "2021-04-25T12:45:00.277199Z"
    }
   },
   "outputs": [],
   "source": [
    "tweets_df_r2 = tweets_df_r1\n",
    "sentiment_series = tweets_df_r2['sentiment'].tolist()\n",
    "columns = ['polarity', 'subjectivity']\n",
    "tweets_df_r2 = pd.DataFrame(sentiment_series, columns=columns, index=tweets_df_r2.index)"
   ]
  },
  {
   "cell_type": "code",
   "execution_count": 39,
   "metadata": {
    "ExecuteTime": {
     "end_time": "2021-04-25T12:45:00.554372Z",
     "start_time": "2021-04-25T12:45:00.404781Z"
    }
   },
   "outputs": [
    {
     "data": {
      "text/html": [
       "<div>\n",
       "<style scoped>\n",
       "    .dataframe tbody tr th:only-of-type {\n",
       "        vertical-align: middle;\n",
       "    }\n",
       "\n",
       "    .dataframe tbody tr th {\n",
       "        vertical-align: top;\n",
       "    }\n",
       "\n",
       "    .dataframe thead th {\n",
       "        text-align: right;\n",
       "    }\n",
       "</style>\n",
       "<table border=\"1\" class=\"dataframe\">\n",
       "  <thead>\n",
       "    <tr style=\"text-align: right;\">\n",
       "      <th></th>\n",
       "      <th>polarity</th>\n",
       "      <th>subjectivity</th>\n",
       "    </tr>\n",
       "  </thead>\n",
       "  <tbody>\n",
       "    <tr>\n",
       "      <td>0</td>\n",
       "      <td>0.200000</td>\n",
       "      <td>0.243750</td>\n",
       "    </tr>\n",
       "    <tr>\n",
       "      <td>1</td>\n",
       "      <td>0.266667</td>\n",
       "      <td>0.308333</td>\n",
       "    </tr>\n",
       "    <tr>\n",
       "      <td>2</td>\n",
       "      <td>-0.159375</td>\n",
       "      <td>0.687500</td>\n",
       "    </tr>\n",
       "    <tr>\n",
       "      <td>3</td>\n",
       "      <td>0.218750</td>\n",
       "      <td>0.343750</td>\n",
       "    </tr>\n",
       "    <tr>\n",
       "      <td>4</td>\n",
       "      <td>0.056250</td>\n",
       "      <td>0.258333</td>\n",
       "    </tr>\n",
       "  </tbody>\n",
       "</table>\n",
       "</div>"
      ],
      "text/plain": [
       "   polarity  subjectivity\n",
       "0  0.200000      0.243750\n",
       "1  0.266667      0.308333\n",
       "2 -0.159375      0.687500\n",
       "3  0.218750      0.343750\n",
       "4  0.056250      0.258333"
      ]
     },
     "execution_count": 39,
     "metadata": {},
     "output_type": "execute_result"
    }
   ],
   "source": [
    "tweets_df_r2.head()"
   ]
  },
  {
   "cell_type": "code",
   "execution_count": 40,
   "metadata": {
    "ExecuteTime": {
     "end_time": "2021-04-25T12:58:02.275029Z",
     "start_time": "2021-04-25T12:58:02.260021Z"
    }
   },
   "outputs": [
    {
     "data": {
      "text/plain": [
       "(23907, 2)"
      ]
     },
     "execution_count": 40,
     "metadata": {},
     "output_type": "execute_result"
    }
   ],
   "source": [
    "tweets_df_r2.shape"
   ]
  },
  {
   "cell_type": "code",
   "execution_count": 41,
   "metadata": {
    "ExecuteTime": {
     "end_time": "2021-04-25T12:59:29.949815Z",
     "start_time": "2021-04-25T12:59:29.932809Z"
    }
   },
   "outputs": [],
   "source": [
    "tweets_df_r1['polarity'] = tweets_df_r2['polarity']\n",
    "tweets_df_r1['subjectivity'] = tweets_df_r2['subjectivity'] "
   ]
  },
  {
   "cell_type": "code",
   "execution_count": 42,
   "metadata": {
    "ExecuteTime": {
     "end_time": "2021-04-25T13:00:11.367586Z",
     "start_time": "2021-04-25T13:00:11.344578Z"
    }
   },
   "outputs": [
    {
     "data": {
      "text/html": [
       "<div>\n",
       "<style scoped>\n",
       "    .dataframe tbody tr th:only-of-type {\n",
       "        vertical-align: middle;\n",
       "    }\n",
       "\n",
       "    .dataframe tbody tr th {\n",
       "        vertical-align: top;\n",
       "    }\n",
       "\n",
       "    .dataframe thead th {\n",
       "        text-align: right;\n",
       "    }\n",
       "</style>\n",
       "<table border=\"1\" class=\"dataframe\">\n",
       "  <thead>\n",
       "    <tr style=\"text-align: right;\">\n",
       "      <th></th>\n",
       "      <th>date</th>\n",
       "      <th>tweet</th>\n",
       "      <th>month</th>\n",
       "      <th>year</th>\n",
       "      <th>tt</th>\n",
       "      <th>sentiment</th>\n",
       "      <th>polarity</th>\n",
       "      <th>subjectivity</th>\n",
       "    </tr>\n",
       "  </thead>\n",
       "  <tbody>\n",
       "    <tr>\n",
       "      <td>0</td>\n",
       "      <td>2021-04-25</td>\n",
       "      <td>We had an issue where twitter seemed to have m...</td>\n",
       "      <td>4</td>\n",
       "      <td>2021</td>\n",
       "      <td>[We, had, an, issue, where, twitter, seemed, t...</td>\n",
       "      <td>(0.2, 0.24375)</td>\n",
       "      <td>0.200000</td>\n",
       "      <td>0.243750</td>\n",
       "    </tr>\n",
       "    <tr>\n",
       "      <td>1</td>\n",
       "      <td>2021-04-25</td>\n",
       "      <td>Can someone nominate the team @VaxHuntersCan f...</td>\n",
       "      <td>4</td>\n",
       "      <td>2021</td>\n",
       "      <td>[Can, someone, nominate, the, team, @, VaxHunt...</td>\n",
       "      <td>(0.26666666666666666, 0.3083333333333333)</td>\n",
       "      <td>0.266667</td>\n",
       "      <td>0.308333</td>\n",
       "    </tr>\n",
       "    <tr>\n",
       "      <td>2</td>\n",
       "      <td>2021-04-25</td>\n",
       "      <td>Sorry for it being late. I had to get a cool l...</td>\n",
       "      <td>4</td>\n",
       "      <td>2021</td>\n",
       "      <td>[Sorry, for, it, being, late, ., I, had, to, g...</td>\n",
       "      <td>(-0.15937500000000002, 0.6875)</td>\n",
       "      <td>-0.159375</td>\n",
       "      <td>0.687500</td>\n",
       "    </tr>\n",
       "    <tr>\n",
       "      <td>3</td>\n",
       "      <td>2021-04-25</td>\n",
       "      <td>Covid vaccines are the results of decades of r...</td>\n",
       "      <td>4</td>\n",
       "      <td>2021</td>\n",
       "      <td>[Covid, vaccines, are, the, results, of, decad...</td>\n",
       "      <td>(0.21875, 0.34375)</td>\n",
       "      <td>0.218750</td>\n",
       "      <td>0.343750</td>\n",
       "    </tr>\n",
       "    <tr>\n",
       "      <td>4</td>\n",
       "      <td>2021-04-25</td>\n",
       "      <td>Got my first vaccine shot and man did it fuck ...</td>\n",
       "      <td>4</td>\n",
       "      <td>2021</td>\n",
       "      <td>[Got, my, first, vaccine, shot, and, man, did,...</td>\n",
       "      <td>(0.056249999999999994, 0.25833333333333336)</td>\n",
       "      <td>0.056250</td>\n",
       "      <td>0.258333</td>\n",
       "    </tr>\n",
       "  </tbody>\n",
       "</table>\n",
       "</div>"
      ],
      "text/plain": [
       "        date                                              tweet  month  year  \\\n",
       "0 2021-04-25  We had an issue where twitter seemed to have m...      4  2021   \n",
       "1 2021-04-25  Can someone nominate the team @VaxHuntersCan f...      4  2021   \n",
       "2 2021-04-25  Sorry for it being late. I had to get a cool l...      4  2021   \n",
       "3 2021-04-25  Covid vaccines are the results of decades of r...      4  2021   \n",
       "4 2021-04-25  Got my first vaccine shot and man did it fuck ...      4  2021   \n",
       "\n",
       "                                                  tt  \\\n",
       "0  [We, had, an, issue, where, twitter, seemed, t...   \n",
       "1  [Can, someone, nominate, the, team, @, VaxHunt...   \n",
       "2  [Sorry, for, it, being, late, ., I, had, to, g...   \n",
       "3  [Covid, vaccines, are, the, results, of, decad...   \n",
       "4  [Got, my, first, vaccine, shot, and, man, did,...   \n",
       "\n",
       "                                     sentiment  polarity  subjectivity  \n",
       "0                               (0.2, 0.24375)  0.200000      0.243750  \n",
       "1    (0.26666666666666666, 0.3083333333333333)  0.266667      0.308333  \n",
       "2               (-0.15937500000000002, 0.6875) -0.159375      0.687500  \n",
       "3                           (0.21875, 0.34375)  0.218750      0.343750  \n",
       "4  (0.056249999999999994, 0.25833333333333336)  0.056250      0.258333  "
      ]
     },
     "execution_count": 42,
     "metadata": {},
     "output_type": "execute_result"
    }
   ],
   "source": [
    "tweets_df_r1.head() "
   ]
  },
  {
   "cell_type": "code",
   "execution_count": 43,
   "metadata": {
    "ExecuteTime": {
     "end_time": "2021-04-25T13:06:14.476270Z",
     "start_time": "2021-04-25T13:06:14.116479Z"
    }
   },
   "outputs": [
    {
     "data": {
      "text/plain": [
       "<matplotlib.axes._subplots.AxesSubplot at 0x1bf0e850748>"
      ]
     },
     "execution_count": 43,
     "metadata": {},
     "output_type": "execute_result"
    },
    {
     "data": {
      "image/png": "[encoded data removed]",
      "text/plain": [
       "<Figure size 432x288 with 1 Axes>"
      ]
     },
     "metadata": {
      "needs_background": "light"
     },
     "output_type": "display_data"
    }
   ],
   "source": [
    "tweets_df_r1['polarity'].hist() "
   ]
  },
  {
   "cell_type": "markdown",
   "metadata": {},
   "source": [
    "#### Stop words and Corpus"
   ]
  },
  {
   "cell_type": "code",
   "execution_count": 45,
   "metadata": {
    "ExecuteTime": {
     "end_time": "2021-04-25T13:14:18.288218Z",
     "start_time": "2021-04-25T13:14:17.397395Z"
    }
   },
   "outputs": [],
   "source": [
    "stop=set(stopwords.words('english'))\n",
    "\n",
    "corpus=[]\n",
    "newtt= tweets_df_r1['tweet'].str.split()\n",
    "newtt=newtt.values.tolist()\n",
    "corpus=[word for i in newtt for word in i]\n",
    "\n",
    "from collections import defaultdict\n",
    "dic=defaultdict(int)\n",
    "for word in corpus:\n",
    "    if word in stop:\n",
    "        dic[word]+=1"
   ]
  },
  {
   "cell_type": "markdown",
   "metadata": {},
   "source": [
    "#### Plotting the top 10 stopwords & non stopwords"
   ]
  },
  {
   "cell_type": "code",
   "execution_count": 48,
   "metadata": {
    "ExecuteTime": {
     "end_time": "2021-04-25T13:21:02.533309Z",
     "start_time": "2021-04-25T13:21:02.516317Z"
    }
   },
   "outputs": [],
   "source": [
    "def plot_top_stopwords_barchart(tweet):\n",
    "    stop=set(stopwords.words('english'))\n",
    "    \n",
    "    newtt= tweets_df_r1['tweet'].str.split()\n",
    "    newtt=newtt.values.tolist()\n",
    "    corpus=[word for i in newtt for word in i]\n",
    "    from collections import defaultdict\n",
    "    dic=defaultdict(int)\n",
    "    for word in corpus:\n",
    "        if word in stop:\n",
    "            dic[word]+=1\n",
    "            \n",
    "    top=sorted(dic.items(), key=lambda x:x[1],reverse=True)[:10] \n",
    "    x,y=zip(*top)\n",
    "    plt.bar(x,y)"
   ]
  },
  {
   "cell_type": "code",
   "execution_count": 49,
   "metadata": {
    "ExecuteTime": {
     "end_time": "2021-04-25T13:21:07.326266Z",
     "start_time": "2021-04-25T13:21:06.538418Z"
    }
   },
   "outputs": [
    {
     "data": {
      "image/png": "[encoded data removed]",
      "text/plain": [
       "<Figure size 432x288 with 1 Axes>"
      ]
     },
     "metadata": {
      "needs_background": "light"
     },
     "output_type": "display_data"
    }
   ],
   "source": [
    "plot_top_stopwords_barchart(tweets_df_r1['tweet']) "
   ]
  },
  {
   "cell_type": "markdown",
   "metadata": {},
   "source": [
    "#### Word level Analysis on through counter function\n",
    "- A Counter is a container that keeps track of how many times equivalent values are added. It can be used to implement the same algorithms for which bag or multiset data structures are commonly used in other languages."
   ]
  },
  {
   "cell_type": "code",
   "execution_count": 52,
   "metadata": {
    "ExecuteTime": {
     "end_time": "2021-04-25T15:16:08.127907Z",
     "start_time": "2021-04-25T15:16:07.290048Z"
    }
   },
   "outputs": [
    {
     "data": {
      "text/plain": [
       "<matplotlib.axes._subplots.AxesSubplot at 0x1bf0e4de278>"
      ]
     },
     "execution_count": 52,
     "metadata": {},
     "output_type": "execute_result"
    },
    {
     "data": {
      "image/png": "[encoded data removed]",
      "text/plain": [
       "<Figure size 432x288 with 1 Axes>"
      ]
     },
     "metadata": {
      "needs_background": "light"
     },
     "output_type": "display_data"
    }
   ],
   "source": [
    "from collections import  Counter\n",
    "counter=Counter(corpus)\n",
    "most=counter.most_common()\n",
    "\n",
    "x, y= [], []\n",
    "for word,count in most[:40]:\n",
    "    if (word not in stop):\n",
    "        x.append(word)\n",
    "        y.append(count)\n",
    "        \n",
    "sns.barplot(x=y,y=x)"
   ]
  },
  {
   "cell_type": "code",
   "execution_count": 53,
   "metadata": {
    "ExecuteTime": {
     "end_time": "2021-04-25T15:19:00.450041Z",
     "start_time": "2021-04-25T15:19:00.436052Z"
    }
   },
   "outputs": [],
   "source": [
    "from collections import  Counter\n",
    "\n",
    "def plot_top_non_stopwords_barchart(text):\n",
    "    stop=set(stopwords.words('english'))\n",
    "    \n",
    "    newtt= tweets_df_r1['tweet'].str.split()\n",
    "    newtt=newtt.values.tolist()\n",
    "    corpus=[word for i in newtt for word in i]\n",
    "\n",
    "    counter=Counter(corpus)\n",
    "    most=counter.most_common()\n",
    "    x, y=[], []\n",
    "    for word,count in most[:40]:\n",
    "        if (word not in stop):\n",
    "            x.append(word)\n",
    "            y.append(count)\n",
    "            \n",
    "    sns.barplot(x=y,y=x)"
   ]
  },
  {
   "cell_type": "code",
   "execution_count": 54,
   "metadata": {
    "ExecuteTime": {
     "end_time": "2021-04-25T15:19:30.622905Z",
     "start_time": "2021-04-25T15:19:29.751394Z"
    }
   },
   "outputs": [
    {
     "data": {
      "image/png": "[encoded data removed]",
      "text/plain": [
       "<Figure size 432x288 with 1 Axes>"
      ]
     },
     "metadata": {
      "needs_background": "light"
     },
     "output_type": "display_data"
    }
   ],
   "source": [
    "plot_top_non_stopwords_barchart(tweets_df_r1['tweet'])"
   ]
  },
  {
   "cell_type": "markdown",
   "metadata": {},
   "source": [
    "### Ngram exploration"
   ]
  },
  {
   "cell_type": "code",
   "execution_count": 55,
   "metadata": {
    "ExecuteTime": {
     "end_time": "2021-04-25T15:54:59.994611Z",
     "start_time": "2021-04-25T15:54:59.981620Z"
    }
   },
   "outputs": [],
   "source": [
    "from nltk.util import ngrams\n",
    "from sklearn.feature_extraction.text import CountVectorizer\n",
    "def get_top_ngram(corpus, n=None):\n",
    "    vec = CountVectorizer(ngram_range=(n, n)).fit(corpus)\n",
    "    bag_of_words = vec.transform(corpus)\n",
    "    sum_words = bag_of_words.sum(axis=0) \n",
    "    words_freq = [(word, sum_words[0, idx]) \n",
    "                  for word, idx in vec.vocabulary_.items()]\n",
    "    words_freq =sorted(words_freq, key = lambda x: x[1], reverse=True)\n",
    "    return words_freq[:10]"
   ]
  },
  {
   "cell_type": "code",
   "execution_count": 58,
   "metadata": {
    "ExecuteTime": {
     "end_time": "2021-04-25T15:56:22.009837Z",
     "start_time": "2021-04-25T15:56:21.989826Z"
    }
   },
   "outputs": [],
   "source": [
    "def plot_top_ngrams_barchart(tweet, n=2):\n",
    "    stop=set(stopwords.words('english'))\n",
    "\n",
    "    newtt= tweets_df_r1['tweet'].str.split()\n",
    "    newtt=newtt.values.tolist()\n",
    "    corpus=[word for i in newtt for word in i]\n",
    "\n",
    "\n",
    "    def _get_top_ngram(corpus, n=None):\n",
    "        vec = CountVectorizer(ngram_range=(n, n)).fit(corpus)\n",
    "        bag_of_words = vec.transform(corpus)\n",
    "        sum_words = bag_of_words.sum(axis=0) \n",
    "        words_freq = [(word, sum_words[0, idx]) \n",
    "                      for word, idx in vec.vocabulary_.items()]\n",
    "        words_freq =sorted(words_freq, key = lambda x: x[1], reverse=True)\n",
    "        return words_freq[:10]\n",
    "\n",
    "    top_n_bigrams=_get_top_ngram(tweet,n)[:10]\n",
    "    x,y=map(list,zip(*top_n_bigrams))\n",
    "    sns.barplot(x=y,y=x)"
   ]
  },
  {
   "cell_type": "code",
   "execution_count": 59,
   "metadata": {
    "ExecuteTime": {
     "end_time": "2021-04-25T15:56:31.340401Z",
     "start_time": "2021-04-25T15:56:26.044222Z"
    }
   },
   "outputs": [
    {
     "data": {
      "image/png": "[encoded data removed]",
      "text/plain": [
       "<Figure size 432x288 with 1 Axes>"
      ]
     },
     "metadata": {
      "needs_background": "light"
     },
     "output_type": "display_data"
    }
   ],
   "source": [
    "plot_top_ngrams_barchart(tweets_df_r1['tweet'],2)"
   ]
  },
  {
   "cell_type": "code",
   "execution_count": 60,
   "metadata": {
    "ExecuteTime": {
     "end_time": "2021-04-25T15:57:34.806505Z",
     "start_time": "2021-04-25T15:57:29.034793Z"
    }
   },
   "outputs": [
    {
     "data": {
      "image/png": "[encoded data removed]",
      "text/plain": [
       "<Figure size 432x288 with 1 Axes>"
      ]
     },
     "metadata": {
      "needs_background": "light"
     },
     "output_type": "display_data"
    }
   ],
   "source": [
    "plot_top_ngrams_barchart(tweets_df_r1['tweet'],3) "
   ]
  },
  {
   "cell_type": "code",
   "execution_count": 61,
   "metadata": {
    "ExecuteTime": {
     "end_time": "2021-04-25T15:58:08.526910Z",
     "start_time": "2021-04-25T15:58:02.279249Z"
    }
   },
   "outputs": [
    {
     "data": {
      "image/png": "[encoded data removed]",
      "text/plain": [
       "<Figure size 432x288 with 1 Axes>"
      ]
     },
     "metadata": {
      "needs_background": "light"
     },
     "output_type": "display_data"
    }
   ],
   "source": [
    "plot_top_ngrams_barchart(tweets_df_r1['tweet'],4)  "
   ]
  },
  {
   "cell_type": "code",
   "execution_count": null,
   "metadata": {},
   "outputs": [],
   "source": []
  }
 ],
 "metadata": {
  "kernelspec": {
   "display_name": "Python 3",
   "language": "python",
   "name": "python3"
  },
  "language_info": {
   "codemirror_mode": {
    "name": "ipython",
    "version": 3
   },
   "file_extension": ".py",
   "mimetype": "text/x-python",
   "name": "python",
   "nbconvert_exporter": "python",
   "pygments_lexer": "ipython3",
   "version": "3.6.9"
  },
  "toc": {
   "base_numbering": 1,
   "nav_menu": {},
   "number_sections": false,
   "sideBar": true,
   "skip_h1_title": false,
   "title_cell": "Table of Contents",
   "title_sidebar": "Contents",
   "toc_cell": false,
   "toc_position": {},
   "toc_section_display": true,
   "toc_window_display": true
  },
  "varInspector": {
   "cols": {
    "lenName": 16,
    "lenType": 16,
    "lenVar": 40
   },
   "kernels_config": {
    "python": {
     "delete_cmd_postfix": "",
     "delete_cmd_prefix": "del ",
     "library": "var_list.py",
     "varRefreshCmd": "print(var_dic_list())"
    },
    "r": {
     "delete_cmd_postfix": ") ",
     "delete_cmd_prefix": "rm(",
     "library": "var_list.r",
     "varRefreshCmd": "cat(var_dic_list()) "
    }
   },
   "types_to_exclude": [
    "module",
    "function",
    "builtin_function_or_method",
    "instance",
    "_Feature"
   ],
   "window_display": false
  }
 },
 "nbformat": 4,
 "nbformat_minor": 2
}
