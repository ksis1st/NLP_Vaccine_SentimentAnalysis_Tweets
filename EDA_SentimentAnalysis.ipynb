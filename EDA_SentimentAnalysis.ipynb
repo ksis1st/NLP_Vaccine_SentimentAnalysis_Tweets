{
 "cells": [
  {
   "cell_type": "markdown",
   "metadata": {},
   "source": [
    "### Importing Libraries"
   ]
  },
  {
   "cell_type": "code",
   "execution_count": 1,
   "metadata": {
    "ExecuteTime": {
     "end_time": "2021-04-25T22:36:31.404212Z",
     "start_time": "2021-04-25T22:36:18.633228Z"
    }
   },
   "outputs": [],
   "source": [
    "import pandas as pd \n",
    "import numpy as np\n",
    "import seaborn as sns \n",
    "import matplotlib.pyplot as plt \n",
    "%matplotlib inline \n",
    "pd.set_option('display.max_columns',500)"
   ]
  },
  {
   "cell_type": "code",
   "execution_count": 2,
   "metadata": {
    "ExecuteTime": {
     "end_time": "2021-04-25T22:36:32.129855Z",
     "start_time": "2021-04-25T22:36:31.414200Z"
    }
   },
   "outputs": [],
   "source": [
    "tweets_df = pd.read_csv('vaccine_tweets.csv')"
   ]
  },
  {
   "cell_type": "code",
   "execution_count": 3,
   "metadata": {
    "ExecuteTime": {
     "end_time": "2021-04-25T22:36:32.254676Z",
     "start_time": "2021-04-25T22:36:32.132859Z"
    }
   },
   "outputs": [
    {
     "data": {
      "text/html": [
       "<div>\n",
       "<style scoped>\n",
       "    .dataframe tbody tr th:only-of-type {\n",
       "        vertical-align: middle;\n",
       "    }\n",
       "\n",
       "    .dataframe tbody tr th {\n",
       "        vertical-align: top;\n",
       "    }\n",
       "\n",
       "    .dataframe thead th {\n",
       "        text-align: right;\n",
       "    }\n",
       "</style>\n",
       "<table border=\"1\" class=\"dataframe\">\n",
       "  <thead>\n",
       "    <tr style=\"text-align: right;\">\n",
       "      <th></th>\n",
       "      <th>id</th>\n",
       "      <th>conversation_id</th>\n",
       "      <th>created_at</th>\n",
       "      <th>date</th>\n",
       "      <th>time</th>\n",
       "      <th>timezone</th>\n",
       "      <th>user_id</th>\n",
       "      <th>username</th>\n",
       "      <th>name</th>\n",
       "      <th>place</th>\n",
       "      <th>tweet</th>\n",
       "      <th>language</th>\n",
       "      <th>mentions</th>\n",
       "      <th>urls</th>\n",
       "      <th>photos</th>\n",
       "      <th>replies_count</th>\n",
       "      <th>retweets_count</th>\n",
       "      <th>likes_count</th>\n",
       "      <th>hashtags</th>\n",
       "      <th>cashtags</th>\n",
       "      <th>link</th>\n",
       "      <th>retweet</th>\n",
       "      <th>quote_url</th>\n",
       "      <th>video</th>\n",
       "      <th>thumbnail</th>\n",
       "      <th>near</th>\n",
       "      <th>geo</th>\n",
       "      <th>source</th>\n",
       "      <th>user_rt_id</th>\n",
       "      <th>user_rt</th>\n",
       "      <th>retweet_id</th>\n",
       "      <th>reply_to</th>\n",
       "      <th>retweet_date</th>\n",
       "      <th>translate</th>\n",
       "      <th>trans_src</th>\n",
       "      <th>trans_dest</th>\n",
       "    </tr>\n",
       "  </thead>\n",
       "  <tbody>\n",
       "    <tr>\n",
       "      <td>0</td>\n",
       "      <td>1386122456713228288</td>\n",
       "      <td>1386122456713228288</td>\n",
       "      <td>2021-04-25 06:28:41 India Standard Time</td>\n",
       "      <td>2021-04-25</td>\n",
       "      <td>06:28:41</td>\n",
       "      <td>530</td>\n",
       "      <td>1373531468744552448</td>\n",
       "      <td>vaxhunterscan</td>\n",
       "      <td>Vaccine Hunters Canada</td>\n",
       "      <td>NaN</td>\n",
       "      <td>We had an issue where twitter seemed to have m...</td>\n",
       "      <td>en</td>\n",
       "      <td>[{'screen_name': 'twittercanada', 'name': 'twi...</td>\n",
       "      <td>[]</td>\n",
       "      <td>[]</td>\n",
       "      <td>46</td>\n",
       "      <td>127</td>\n",
       "      <td>1704</td>\n",
       "      <td>[]</td>\n",
       "      <td>[]</td>\n",
       "      <td>https://twitter.com/VaxHuntersCan/status/13861...</td>\n",
       "      <td>False</td>\n",
       "      <td>NaN</td>\n",
       "      <td>0</td>\n",
       "      <td>NaN</td>\n",
       "      <td>NaN</td>\n",
       "      <td>NaN</td>\n",
       "      <td>NaN</td>\n",
       "      <td>NaN</td>\n",
       "      <td>NaN</td>\n",
       "      <td>NaN</td>\n",
       "      <td>[]</td>\n",
       "      <td>NaN</td>\n",
       "      <td>NaN</td>\n",
       "      <td>NaN</td>\n",
       "      <td>NaN</td>\n",
       "    </tr>\n",
       "    <tr>\n",
       "      <td>1</td>\n",
       "      <td>1386111987608821763</td>\n",
       "      <td>1386111987608821763</td>\n",
       "      <td>2021-04-25 05:47:05 India Standard Time</td>\n",
       "      <td>2021-04-25</td>\n",
       "      <td>05:47:05</td>\n",
       "      <td>530</td>\n",
       "      <td>166985027</td>\n",
       "      <td>naheedd</td>\n",
       "      <td>Naheed Dosani</td>\n",
       "      <td>NaN</td>\n",
       "      <td>Can someone nominate the team @VaxHuntersCan f...</td>\n",
       "      <td>en</td>\n",
       "      <td>[{'screen_name': 'vaxhunterscan', 'name': 'vac...</td>\n",
       "      <td>[]</td>\n",
       "      <td>[]</td>\n",
       "      <td>10</td>\n",
       "      <td>161</td>\n",
       "      <td>1325</td>\n",
       "      <td>['covid19']</td>\n",
       "      <td>[]</td>\n",
       "      <td>https://twitter.com/NaheedD/status/13861119876...</td>\n",
       "      <td>False</td>\n",
       "      <td>NaN</td>\n",
       "      <td>0</td>\n",
       "      <td>NaN</td>\n",
       "      <td>NaN</td>\n",
       "      <td>NaN</td>\n",
       "      <td>NaN</td>\n",
       "      <td>NaN</td>\n",
       "      <td>NaN</td>\n",
       "      <td>NaN</td>\n",
       "      <td>[]</td>\n",
       "      <td>NaN</td>\n",
       "      <td>NaN</td>\n",
       "      <td>NaN</td>\n",
       "      <td>NaN</td>\n",
       "    </tr>\n",
       "  </tbody>\n",
       "</table>\n",
       "</div>"
      ],
      "text/plain": [
       "                    id      conversation_id  \\\n",
       "0  1386122456713228288  1386122456713228288   \n",
       "1  1386111987608821763  1386111987608821763   \n",
       "\n",
       "                                created_at        date      time  timezone  \\\n",
       "0  2021-04-25 06:28:41 India Standard Time  2021-04-25  06:28:41       530   \n",
       "1  2021-04-25 05:47:05 India Standard Time  2021-04-25  05:47:05       530   \n",
       "\n",
       "               user_id       username                    name place  \\\n",
       "0  1373531468744552448  vaxhunterscan  Vaccine Hunters Canada   NaN   \n",
       "1            166985027        naheedd           Naheed Dosani   NaN   \n",
       "\n",
       "                                               tweet language  \\\n",
       "0  We had an issue where twitter seemed to have m...       en   \n",
       "1  Can someone nominate the team @VaxHuntersCan f...       en   \n",
       "\n",
       "                                            mentions urls photos  \\\n",
       "0  [{'screen_name': 'twittercanada', 'name': 'twi...   []     []   \n",
       "1  [{'screen_name': 'vaxhunterscan', 'name': 'vac...   []     []   \n",
       "\n",
       "   replies_count  retweets_count  likes_count     hashtags cashtags  \\\n",
       "0             46             127         1704           []       []   \n",
       "1             10             161         1325  ['covid19']       []   \n",
       "\n",
       "                                                link  retweet quote_url  \\\n",
       "0  https://twitter.com/VaxHuntersCan/status/13861...    False       NaN   \n",
       "1  https://twitter.com/NaheedD/status/13861119876...    False       NaN   \n",
       "\n",
       "   video thumbnail  near  geo  source  user_rt_id  user_rt  retweet_id  \\\n",
       "0      0       NaN   NaN  NaN     NaN         NaN      NaN         NaN   \n",
       "1      0       NaN   NaN  NaN     NaN         NaN      NaN         NaN   \n",
       "\n",
       "  reply_to  retweet_date  translate  trans_src  trans_dest  \n",
       "0       []           NaN        NaN        NaN         NaN  \n",
       "1       []           NaN        NaN        NaN         NaN  "
      ]
     },
     "execution_count": 3,
     "metadata": {},
     "output_type": "execute_result"
    }
   ],
   "source": [
    "tweets_df.head(2) "
   ]
  },
  {
   "cell_type": "code",
   "execution_count": 4,
   "metadata": {
    "ExecuteTime": {
     "end_time": "2021-04-25T22:36:32.286642Z",
     "start_time": "2021-04-25T22:36:32.257662Z"
    }
   },
   "outputs": [
    {
     "data": {
      "text/plain": [
       "(24744, 36)"
      ]
     },
     "execution_count": 4,
     "metadata": {},
     "output_type": "execute_result"
    }
   ],
   "source": [
    "tweets_df.shape"
   ]
  },
  {
   "cell_type": "code",
   "execution_count": 5,
   "metadata": {
    "ExecuteTime": {
     "end_time": "2021-04-25T22:36:32.412590Z",
     "start_time": "2021-04-25T22:36:32.289641Z"
    }
   },
   "outputs": [
    {
     "name": "stdout",
     "output_type": "stream",
     "text": [
      "<class 'pandas.core.frame.DataFrame'>\n",
      "RangeIndex: 24744 entries, 0 to 24743\n",
      "Data columns (total 36 columns):\n",
      "id                 24744 non-null int64\n",
      "conversation_id    24744 non-null int64\n",
      "created_at         24744 non-null object\n",
      "date               24744 non-null object\n",
      "time               24744 non-null object\n",
      "timezone           24744 non-null int64\n",
      "user_id            24744 non-null int64\n",
      "username           24744 non-null object\n",
      "name               24744 non-null object\n",
      "place              3 non-null object\n",
      "tweet              24744 non-null object\n",
      "language           24744 non-null object\n",
      "mentions           24744 non-null object\n",
      "urls               24744 non-null object\n",
      "photos             24744 non-null object\n",
      "replies_count      24744 non-null int64\n",
      "retweets_count     24744 non-null int64\n",
      "likes_count        24744 non-null int64\n",
      "hashtags           24744 non-null object\n",
      "cashtags           24744 non-null object\n",
      "link               24744 non-null object\n",
      "retweet            24744 non-null bool\n",
      "quote_url          2191 non-null object\n",
      "video              24744 non-null int64\n",
      "thumbnail          5024 non-null object\n",
      "near               0 non-null float64\n",
      "geo                0 non-null float64\n",
      "source             0 non-null float64\n",
      "user_rt_id         0 non-null float64\n",
      "user_rt            0 non-null float64\n",
      "retweet_id         0 non-null float64\n",
      "reply_to           24744 non-null object\n",
      "retweet_date       0 non-null float64\n",
      "translate          0 non-null float64\n",
      "trans_src          0 non-null float64\n",
      "trans_dest         0 non-null float64\n",
      "dtypes: bool(1), float64(10), int64(8), object(17)\n",
      "memory usage: 6.6+ MB\n"
     ]
    }
   ],
   "source": [
    "tweets_df.info()"
   ]
  },
  {
   "cell_type": "code",
   "execution_count": 6,
   "metadata": {
    "ExecuteTime": {
     "end_time": "2021-04-25T22:36:33.084247Z",
     "start_time": "2021-04-25T22:36:32.415571Z"
    }
   },
   "outputs": [
    {
     "data": {
      "text/plain": [
       "id                 24744\n",
       "conversation_id    23858\n",
       "created_at         24621\n",
       "date                 924\n",
       "time               20916\n",
       "timezone               1\n",
       "user_id             9871\n",
       "username            9871\n",
       "name                9754\n",
       "place                  3\n",
       "tweet              24707\n",
       "language              26\n",
       "mentions            1352\n",
       "urls                2742\n",
       "photos              3702\n",
       "replies_count       2285\n",
       "retweets_count      5218\n",
       "likes_count        10860\n",
       "hashtags            1339\n",
       "cashtags               6\n",
       "link               24744\n",
       "retweet                1\n",
       "quote_url           1913\n",
       "video                  2\n",
       "thumbnail           4943\n",
       "near                   0\n",
       "geo                    0\n",
       "source                 0\n",
       "user_rt_id             0\n",
       "user_rt                0\n",
       "retweet_id             0\n",
       "reply_to             567\n",
       "retweet_date           0\n",
       "translate              0\n",
       "trans_src              0\n",
       "trans_dest             0\n",
       "dtype: int64"
      ]
     },
     "execution_count": 6,
     "metadata": {},
     "output_type": "execute_result"
    }
   ],
   "source": [
    "tweets_df.nunique()"
   ]
  },
  {
   "cell_type": "markdown",
   "metadata": {},
   "source": [
    "#### Initial Observation\n",
    "- Total tweets Successfully collected 24744 Tweets\n",
    "- Total number of rows to be worked on 24744\n",
    "- 10 columns with all null value\n",
    "- 3 column with more than 80% null values\n"
   ]
  },
  {
   "cell_type": "markdown",
   "metadata": {},
   "source": [
    "### Checking for nytimes / cnn / usnews value counts"
   ]
  },
  {
   "cell_type": "code",
   "execution_count": 7,
   "metadata": {
    "ExecuteTime": {
     "end_time": "2021-04-25T22:36:33.116284Z",
     "start_time": "2021-04-25T22:36:33.087248Z"
    }
   },
   "outputs": [
    {
     "data": {
      "text/plain": [
       "nytimes    83\n",
       "Name: username, dtype: int64"
      ]
     },
     "execution_count": 7,
     "metadata": {},
     "output_type": "execute_result"
    }
   ],
   "source": [
    "df_nytimestweets = tweets_df[tweets_df['username'] == 'nytimes']\n",
    "df_nytimestweets['username'].value_counts()"
   ]
  },
  {
   "cell_type": "markdown",
   "metadata": {},
   "source": [
    "####  most popular tweeter news account CNN Breaking News (60.2m followers) has only 47 tweets regarding Vaccine"
   ]
  },
  {
   "cell_type": "code",
   "execution_count": 8,
   "metadata": {
    "ExecuteTime": {
     "end_time": "2021-04-25T22:36:33.211785Z",
     "start_time": "2021-04-25T22:36:33.123226Z"
    }
   },
   "outputs": [
    {
     "data": {
      "text/plain": [
       "cnnbrk    48\n",
       "Name: username, dtype: int64"
      ]
     },
     "execution_count": 8,
     "metadata": {},
     "output_type": "execute_result"
    }
   ],
   "source": [
    "df_cnntweets = tweets_df[tweets_df['username'] == 'cnnbrk']\n",
    "df_cnntweets['username'].value_counts()"
   ]
  },
  {
   "cell_type": "code",
   "execution_count": 9,
   "metadata": {
    "ExecuteTime": {
     "end_time": "2021-04-25T22:36:33.354719Z",
     "start_time": "2021-04-25T22:36:33.215784Z"
    }
   },
   "outputs": [
    {
     "data": {
      "text/plain": [
       "Series([], Name: username, dtype: int64)"
      ]
     },
     "execution_count": 9,
     "metadata": {},
     "output_type": "execute_result"
    }
   ],
   "source": [
    "df_usnewstweets = tweets_df[tweets_df['username'] == 'usnews']\n",
    "df_usnewstweets['username'].value_counts() "
   ]
  },
  {
   "cell_type": "markdown",
   "metadata": {},
   "source": [
    "### Dropping columns with more than 60% null value"
   ]
  },
  {
   "cell_type": "code",
   "execution_count": 10,
   "metadata": {
    "ExecuteTime": {
     "end_time": "2021-04-25T22:36:33.481165Z",
     "start_time": "2021-04-25T22:36:33.357717Z"
    }
   },
   "outputs": [],
   "source": [
    "tweets_df = tweets_df.loc[:, tweets_df.isnull().mean() < .6]"
   ]
  },
  {
   "cell_type": "markdown",
   "metadata": {},
   "source": [
    "#### Checking for users with number of tweets"
   ]
  },
  {
   "cell_type": "code",
   "execution_count": 11,
   "metadata": {
    "ExecuteTime": {
     "end_time": "2021-04-25T22:36:33.685013Z",
     "start_time": "2021-04-25T22:36:33.484165Z"
    }
   },
   "outputs": [
    {
     "data": {
      "text/plain": [
       "kylegriffin1      194\n",
       "spectatorindex    188\n",
       "drericding        152\n",
       "aslavitt          136\n",
       "ani               116\n",
       "                 ... \n",
       "sunchild444         1\n",
       "robertfrogert       1\n",
       "kristenrchoi        1\n",
       "un_women            1\n",
       "cmaconthehill       1\n",
       "Name: username, Length: 9871, dtype: int64"
      ]
     },
     "execution_count": 11,
     "metadata": {},
     "output_type": "execute_result"
    }
   ],
   "source": [
    "tweets_df['username'].value_counts()"
   ]
  },
  {
   "cell_type": "markdown",
   "metadata": {},
   "source": [
    "#### number of languages tweets"
   ]
  },
  {
   "cell_type": "code",
   "execution_count": 12,
   "metadata": {
    "ExecuteTime": {
     "end_time": "2021-04-25T22:36:33.795449Z",
     "start_time": "2021-04-25T22:36:33.688012Z"
    }
   },
   "outputs": [
    {
     "data": {
      "text/plain": [
       "en     24061\n",
       "tl       149\n",
       "fr       128\n",
       "hi        94\n",
       "ja        70\n",
       "in        52\n",
       "und       46\n",
       "pt        44\n",
       "es        29\n",
       "it        23\n",
       "cs        12\n",
       "de         6\n",
       "ht         5\n",
       "ca         5\n",
       "ro         4\n",
       "da         3\n",
       "et         3\n",
       "tr         2\n",
       "th         1\n",
       "mr         1\n",
       "nl         1\n",
       "ar         1\n",
       "fa         1\n",
       "lt         1\n",
       "fi         1\n",
       "ur         1\n",
       "Name: language, dtype: int64"
      ]
     },
     "execution_count": 12,
     "metadata": {},
     "output_type": "execute_result"
    }
   ],
   "source": [
    "tweets_df['language'].value_counts()"
   ]
  },
  {
   "cell_type": "code",
   "execution_count": 13,
   "metadata": {
    "ExecuteTime": {
     "end_time": "2021-04-25T22:36:33.922446Z",
     "start_time": "2021-04-25T22:36:33.798448Z"
    }
   },
   "outputs": [
    {
     "data": {
      "text/plain": [
       "[]                                       24739\n",
       "['pfe']                                      1\n",
       "['pfe', 'mrna']                              1\n",
       "['zm']                                       1\n",
       "['mrna']                                     1\n",
       "['pfe', 'mrna', 'nvax', 'azn', 'jnj']        1\n",
       "Name: cashtags, dtype: int64"
      ]
     },
     "execution_count": 13,
     "metadata": {},
     "output_type": "execute_result"
    }
   ],
   "source": [
    "tweets_df['cashtags'].value_counts()"
   ]
  },
  {
   "cell_type": "code",
   "execution_count": 14,
   "metadata": {
    "ExecuteTime": {
     "end_time": "2021-04-25T22:36:34.175398Z",
     "start_time": "2021-04-25T22:36:33.925425Z"
    }
   },
   "outputs": [
    {
     "data": {
      "text/plain": [
       "0    19720\n",
       "1     5024\n",
       "Name: video, dtype: int64"
      ]
     },
     "execution_count": 14,
     "metadata": {},
     "output_type": "execute_result"
    }
   ],
   "source": [
    "tweets_df['video'].value_counts() "
   ]
  },
  {
   "cell_type": "code",
   "execution_count": 15,
   "metadata": {
    "ExecuteTime": {
     "end_time": "2021-04-25T22:36:34.505638Z",
     "start_time": "2021-04-25T22:36:34.182394Z"
    }
   },
   "outputs": [
    {
     "name": "stdout",
     "output_type": "stream",
     "text": [
      "<class 'pandas.core.frame.DataFrame'>\n",
      "RangeIndex: 24744 entries, 0 to 24743\n",
      "Data columns (total 23 columns):\n",
      "id                 24744 non-null int64\n",
      "conversation_id    24744 non-null int64\n",
      "created_at         24744 non-null object\n",
      "date               24744 non-null object\n",
      "time               24744 non-null object\n",
      "timezone           24744 non-null int64\n",
      "user_id            24744 non-null int64\n",
      "username           24744 non-null object\n",
      "name               24744 non-null object\n",
      "tweet              24744 non-null object\n",
      "language           24744 non-null object\n",
      "mentions           24744 non-null object\n",
      "urls               24744 non-null object\n",
      "photos             24744 non-null object\n",
      "replies_count      24744 non-null int64\n",
      "retweets_count     24744 non-null int64\n",
      "likes_count        24744 non-null int64\n",
      "hashtags           24744 non-null object\n",
      "cashtags           24744 non-null object\n",
      "link               24744 non-null object\n",
      "retweet            24744 non-null bool\n",
      "video              24744 non-null int64\n",
      "reply_to           24744 non-null object\n",
      "dtypes: bool(1), int64(8), object(14)\n",
      "memory usage: 4.2+ MB\n"
     ]
    }
   ],
   "source": [
    "tweets_df.info()"
   ]
  },
  {
   "cell_type": "markdown",
   "metadata": {},
   "source": [
    "### Checking dates and converting it into datetime"
   ]
  },
  {
   "cell_type": "code",
   "execution_count": 16,
   "metadata": {
    "ExecuteTime": {
     "end_time": "2021-04-25T22:36:34.665949Z",
     "start_time": "2021-04-25T22:36:34.508616Z"
    }
   },
   "outputs": [
    {
     "data": {
      "text/plain": [
       "'2013-02-17'"
      ]
     },
     "execution_count": 16,
     "metadata": {},
     "output_type": "execute_result"
    }
   ],
   "source": [
    "tweets_df['date'].min()"
   ]
  },
  {
   "cell_type": "code",
   "execution_count": 17,
   "metadata": {
    "ExecuteTime": {
     "end_time": "2021-04-25T22:36:34.808837Z",
     "start_time": "2021-04-25T22:36:34.670916Z"
    }
   },
   "outputs": [
    {
     "data": {
      "text/plain": [
       "'2021-04-25'"
      ]
     },
     "execution_count": 17,
     "metadata": {},
     "output_type": "execute_result"
    }
   ],
   "source": [
    "tweets_df['date'].max()"
   ]
  },
  {
   "cell_type": "code",
   "execution_count": 18,
   "metadata": {
    "ExecuteTime": {
     "end_time": "2021-04-25T22:36:34.982735Z",
     "start_time": "2021-04-25T22:36:34.811835Z"
    }
   },
   "outputs": [],
   "source": [
    "tweets_df['date']= pd.to_datetime(tweets_df['date']) "
   ]
  },
  {
   "cell_type": "code",
   "execution_count": 19,
   "metadata": {
    "ExecuteTime": {
     "end_time": "2021-04-25T22:36:35.124735Z",
     "start_time": "2021-04-25T22:36:34.985736Z"
    }
   },
   "outputs": [],
   "source": [
    "tweets_df['year'] = tweets_df['date'].dt.year\n",
    "tweets_df['month'] = tweets_df['date'].dt.month"
   ]
  },
  {
   "cell_type": "code",
   "execution_count": 20,
   "metadata": {
    "ExecuteTime": {
     "end_time": "2021-04-25T22:36:35.188721Z",
     "start_time": "2021-04-25T22:36:35.127721Z"
    }
   },
   "outputs": [
    {
     "data": {
      "text/plain": [
       "2021    14179\n",
       "2020     9728\n",
       "2019      541\n",
       "2018      184\n",
       "2017       69\n",
       "2015       18\n",
       "2016       14\n",
       "2014        9\n",
       "2013        2\n",
       "Name: year, dtype: int64"
      ]
     },
     "execution_count": 20,
     "metadata": {},
     "output_type": "execute_result"
    }
   ],
   "source": [
    "tweets_df['year'].value_counts() "
   ]
  },
  {
   "cell_type": "markdown",
   "metadata": {},
   "source": [
    "#### Catplot for number of tweets based on month and year"
   ]
  },
  {
   "cell_type": "code",
   "execution_count": 21,
   "metadata": {
    "ExecuteTime": {
     "end_time": "2021-04-25T22:36:36.447833Z",
     "start_time": "2021-04-25T22:36:35.191700Z"
    }
   },
   "outputs": [
    {
     "data": {
      "text/plain": [
       "<seaborn.axisgrid.FacetGrid at 0x248c2938ba8>"
      ]
     },
     "execution_count": 21,
     "metadata": {},
     "output_type": "execute_result"
    },
    {
     "data": {
      "image/png": "[encoded data removed]",
      "text/plain": [
       "<Figure size 408.75x360 with 1 Axes>"
      ]
     },
     "metadata": {
      "needs_background": "light"
     },
     "output_type": "display_data"
    }
   ],
   "source": [
    "sns.catplot(y=\"year\", hue=\"month\", kind=\"count\",\n",
    "            palette=\"pastel\", edgecolor=\".6\",\n",
    "            data=tweets_df)"
   ]
  },
  {
   "cell_type": "markdown",
   "metadata": {},
   "source": [
    "#### Observation\n",
    "- Most of the tweets are from 2020 onwards so we can make the assumption , the talk of vaccine became more popular since COVID19 started"
   ]
  },
  {
   "cell_type": "markdown",
   "metadata": {},
   "source": [
    "#### Selecting tweets after 1/1/2020"
   ]
  },
  {
   "cell_type": "code",
   "execution_count": 22,
   "metadata": {
    "ExecuteTime": {
     "end_time": "2021-04-25T22:36:36.479814Z",
     "start_time": "2021-04-25T22:36:36.451830Z"
    }
   },
   "outputs": [],
   "source": [
    "ts = pd.to_datetime('1/1/2020')\n",
    "tweets_df_r = tweets_df.loc[tweets_df.date >= ts,: ] "
   ]
  },
  {
   "cell_type": "code",
   "execution_count": 23,
   "metadata": {
    "ExecuteTime": {
     "end_time": "2021-04-25T22:36:36.637880Z",
     "start_time": "2021-04-25T22:36:36.489809Z"
    }
   },
   "outputs": [
    {
     "data": {
      "text/plain": [
       "(23907, 25)"
      ]
     },
     "execution_count": 23,
     "metadata": {},
     "output_type": "execute_result"
    }
   ],
   "source": [
    "tweets_df_r.shape"
   ]
  },
  {
   "cell_type": "code",
   "execution_count": 24,
   "metadata": {
    "ExecuteTime": {
     "end_time": "2021-04-25T22:36:36.795305Z",
     "start_time": "2021-04-25T22:36:36.642876Z"
    }
   },
   "outputs": [
    {
     "name": "stdout",
     "output_type": "stream",
     "text": [
      "<class 'pandas.core.frame.DataFrame'>\n",
      "Int64Index: 23907 entries, 0 to 23906\n",
      "Data columns (total 25 columns):\n",
      "id                 23907 non-null int64\n",
      "conversation_id    23907 non-null int64\n",
      "created_at         23907 non-null object\n",
      "date               23907 non-null datetime64[ns]\n",
      "time               23907 non-null object\n",
      "timezone           23907 non-null int64\n",
      "user_id            23907 non-null int64\n",
      "username           23907 non-null object\n",
      "name               23907 non-null object\n",
      "tweet              23907 non-null object\n",
      "language           23907 non-null object\n",
      "mentions           23907 non-null object\n",
      "urls               23907 non-null object\n",
      "photos             23907 non-null object\n",
      "replies_count      23907 non-null int64\n",
      "retweets_count     23907 non-null int64\n",
      "likes_count        23907 non-null int64\n",
      "hashtags           23907 non-null object\n",
      "cashtags           23907 non-null object\n",
      "link               23907 non-null object\n",
      "retweet            23907 non-null bool\n",
      "video              23907 non-null int64\n",
      "reply_to           23907 non-null object\n",
      "year               23907 non-null int64\n",
      "month              23907 non-null int64\n",
      "dtypes: bool(1), datetime64[ns](1), int64(10), object(13)\n",
      "memory usage: 4.6+ MB\n"
     ]
    }
   ],
   "source": [
    "tweets_df_r.info()"
   ]
  },
  {
   "cell_type": "code",
   "execution_count": 25,
   "metadata": {
    "ExecuteTime": {
     "end_time": "2021-04-25T22:36:37.541838Z",
     "start_time": "2021-04-25T22:36:36.797247Z"
    }
   },
   "outputs": [
    {
     "data": {
      "text/plain": [
       "<seaborn.axisgrid.FacetGrid at 0x248c2973128>"
      ]
     },
     "execution_count": 25,
     "metadata": {},
     "output_type": "execute_result"
    },
    {
     "data": {
      "image/png": "[encoded data removed]",
      "text/plain": [
       "<Figure size 408.75x360 with 1 Axes>"
      ]
     },
     "metadata": {
      "needs_background": "light"
     },
     "output_type": "display_data"
    }
   ],
   "source": [
    "sns.catplot(y=\"year\", hue=\"month\", kind=\"count\",\n",
    "            palette=\"pastel\", edgecolor=\".6\",\n",
    "            data=tweets_df_r)"
   ]
  },
  {
   "cell_type": "code",
   "execution_count": 26,
   "metadata": {
    "ExecuteTime": {
     "end_time": "2021-04-25T22:36:37.572824Z",
     "start_time": "2021-04-25T22:36:37.544816Z"
    }
   },
   "outputs": [
    {
     "data": {
      "text/html": [
       "<div>\n",
       "<style scoped>\n",
       "    .dataframe tbody tr th:only-of-type {\n",
       "        vertical-align: middle;\n",
       "    }\n",
       "\n",
       "    .dataframe tbody tr th {\n",
       "        vertical-align: top;\n",
       "    }\n",
       "\n",
       "    .dataframe thead th {\n",
       "        text-align: right;\n",
       "    }\n",
       "</style>\n",
       "<table border=\"1\" class=\"dataframe\">\n",
       "  <thead>\n",
       "    <tr style=\"text-align: right;\">\n",
       "      <th>month</th>\n",
       "      <th>1</th>\n",
       "      <th>2</th>\n",
       "      <th>3</th>\n",
       "      <th>4</th>\n",
       "      <th>5</th>\n",
       "      <th>6</th>\n",
       "      <th>7</th>\n",
       "      <th>8</th>\n",
       "      <th>9</th>\n",
       "      <th>10</th>\n",
       "      <th>11</th>\n",
       "      <th>12</th>\n",
       "    </tr>\n",
       "    <tr>\n",
       "      <th>year</th>\n",
       "      <th></th>\n",
       "      <th></th>\n",
       "      <th></th>\n",
       "      <th></th>\n",
       "      <th></th>\n",
       "      <th></th>\n",
       "      <th></th>\n",
       "      <th></th>\n",
       "      <th></th>\n",
       "      <th></th>\n",
       "      <th></th>\n",
       "      <th></th>\n",
       "    </tr>\n",
       "  </thead>\n",
       "  <tbody>\n",
       "    <tr>\n",
       "      <td>2020</td>\n",
       "      <td>42</td>\n",
       "      <td>109</td>\n",
       "      <td>579</td>\n",
       "      <td>600</td>\n",
       "      <td>503</td>\n",
       "      <td>280</td>\n",
       "      <td>540</td>\n",
       "      <td>432</td>\n",
       "      <td>619</td>\n",
       "      <td>456</td>\n",
       "      <td>1787</td>\n",
       "      <td>3781</td>\n",
       "    </tr>\n",
       "    <tr>\n",
       "      <td>2021</td>\n",
       "      <td>3135</td>\n",
       "      <td>2370</td>\n",
       "      <td>3931</td>\n",
       "      <td>4743</td>\n",
       "      <td>0</td>\n",
       "      <td>0</td>\n",
       "      <td>0</td>\n",
       "      <td>0</td>\n",
       "      <td>0</td>\n",
       "      <td>0</td>\n",
       "      <td>0</td>\n",
       "      <td>0</td>\n",
       "    </tr>\n",
       "  </tbody>\n",
       "</table>\n",
       "</div>"
      ],
      "text/plain": [
       "month    1     2     3     4    5    6    7    8    9    10    11    12\n",
       "year                                                                   \n",
       "2020     42   109   579   600  503  280  540  432  619  456  1787  3781\n",
       "2021   3135  2370  3931  4743    0    0    0    0    0    0     0     0"
      ]
     },
     "execution_count": 26,
     "metadata": {},
     "output_type": "execute_result"
    }
   ],
   "source": [
    "tweets_df_r.groupby(['year','month']).size().unstack(fill_value=0)"
   ]
  },
  {
   "cell_type": "markdown",
   "metadata": {},
   "source": [
    "#### Observation\n",
    "- Clearly the number of tweets with regards to vaccine has been the highest in 25 days of April 2021"
   ]
  },
  {
   "cell_type": "markdown",
   "metadata": {},
   "source": [
    "### Creating a subset and working on it"
   ]
  },
  {
   "cell_type": "code",
   "execution_count": 27,
   "metadata": {
    "ExecuteTime": {
     "end_time": "2021-04-25T22:36:37.683824Z",
     "start_time": "2021-04-25T22:36:37.575798Z"
    }
   },
   "outputs": [
    {
     "data": {
      "text/html": [
       "<div>\n",
       "<style scoped>\n",
       "    .dataframe tbody tr th:only-of-type {\n",
       "        vertical-align: middle;\n",
       "    }\n",
       "\n",
       "    .dataframe tbody tr th {\n",
       "        vertical-align: top;\n",
       "    }\n",
       "\n",
       "    .dataframe thead th {\n",
       "        text-align: right;\n",
       "    }\n",
       "</style>\n",
       "<table border=\"1\" class=\"dataframe\">\n",
       "  <thead>\n",
       "    <tr style=\"text-align: right;\">\n",
       "      <th></th>\n",
       "      <th>date</th>\n",
       "      <th>tweet</th>\n",
       "      <th>month</th>\n",
       "      <th>year</th>\n",
       "    </tr>\n",
       "  </thead>\n",
       "  <tbody>\n",
       "    <tr>\n",
       "      <td>0</td>\n",
       "      <td>2021-04-25</td>\n",
       "      <td>We had an issue where twitter seemed to have m...</td>\n",
       "      <td>4</td>\n",
       "      <td>2021</td>\n",
       "    </tr>\n",
       "    <tr>\n",
       "      <td>1</td>\n",
       "      <td>2021-04-25</td>\n",
       "      <td>Can someone nominate the team @VaxHuntersCan f...</td>\n",
       "      <td>4</td>\n",
       "      <td>2021</td>\n",
       "    </tr>\n",
       "    <tr>\n",
       "      <td>2</td>\n",
       "      <td>2021-04-25</td>\n",
       "      <td>Sorry for it being late. I had to get a cool l...</td>\n",
       "      <td>4</td>\n",
       "      <td>2021</td>\n",
       "    </tr>\n",
       "    <tr>\n",
       "      <td>3</td>\n",
       "      <td>2021-04-25</td>\n",
       "      <td>Covid vaccines are the results of decades of r...</td>\n",
       "      <td>4</td>\n",
       "      <td>2021</td>\n",
       "    </tr>\n",
       "    <tr>\n",
       "      <td>4</td>\n",
       "      <td>2021-04-25</td>\n",
       "      <td>Got my first vaccine shot and man did it fuck ...</td>\n",
       "      <td>4</td>\n",
       "      <td>2021</td>\n",
       "    </tr>\n",
       "  </tbody>\n",
       "</table>\n",
       "</div>"
      ],
      "text/plain": [
       "        date                                              tweet  month  year\n",
       "0 2021-04-25  We had an issue where twitter seemed to have m...      4  2021\n",
       "1 2021-04-25  Can someone nominate the team @VaxHuntersCan f...      4  2021\n",
       "2 2021-04-25  Sorry for it being late. I had to get a cool l...      4  2021\n",
       "3 2021-04-25  Covid vaccines are the results of decades of r...      4  2021\n",
       "4 2021-04-25  Got my first vaccine shot and man did it fuck ...      4  2021"
      ]
     },
     "execution_count": 27,
     "metadata": {},
     "output_type": "execute_result"
    }
   ],
   "source": [
    "subset = ['date', 'tweet', 'month','year']\n",
    "tweets_df_r1 = tweets_df_r.loc[:, subset] \n",
    "tweets_df_r1.head() "
   ]
  },
  {
   "cell_type": "code",
   "execution_count": 28,
   "metadata": {
    "ExecuteTime": {
     "end_time": "2021-04-25T22:36:37.808032Z",
     "start_time": "2021-04-25T22:36:37.686826Z"
    }
   },
   "outputs": [
    {
     "data": {
      "text/plain": [
       "(23907, 4)"
      ]
     },
     "execution_count": 28,
     "metadata": {},
     "output_type": "execute_result"
    }
   ],
   "source": [
    "tweets_df_r1.shape"
   ]
  },
  {
   "cell_type": "markdown",
   "metadata": {},
   "source": [
    "### Checking the word frequency"
   ]
  },
  {
   "cell_type": "code",
   "execution_count": 29,
   "metadata": {
    "ExecuteTime": {
     "end_time": "2021-04-25T22:36:38.172995Z",
     "start_time": "2021-04-25T22:36:37.811032Z"
    }
   },
   "outputs": [
    {
     "data": {
      "text/plain": [
       "<matplotlib.axes._subplots.AxesSubplot at 0x248c36300f0>"
      ]
     },
     "execution_count": 29,
     "metadata": {},
     "output_type": "execute_result"
    },
    {
     "data": {
      "image/png": "[encoded data removed]",
      "text/plain": [
       "<Figure size 432x288 with 1 Axes>"
      ]
     },
     "metadata": {
      "needs_background": "light"
     },
     "output_type": "display_data"
    }
   ],
   "source": [
    "tweets_df_r1['tweet'].str.len().hist() "
   ]
  },
  {
   "cell_type": "markdown",
   "metadata": {},
   "source": [
    "#### Observation\n",
    "- The histogram shows that the tweets range from **5 to 320 characters** and generally, it is between **50 to 250 characters.**"
   ]
  },
  {
   "cell_type": "code",
   "execution_count": 30,
   "metadata": {
    "ExecuteTime": {
     "end_time": "2021-04-25T22:36:38.569567Z",
     "start_time": "2021-04-25T22:36:38.174774Z"
    }
   },
   "outputs": [
    {
     "data": {
      "text/plain": [
       "<matplotlib.axes._subplots.AxesSubplot at 0x248c36ec8d0>"
      ]
     },
     "execution_count": 30,
     "metadata": {},
     "output_type": "execute_result"
    },
    {
     "data": {
      "image/png": "[encoded data removed]",
      "text/plain": [
       "<Figure size 432x288 with 1 Axes>"
      ]
     },
     "metadata": {
      "needs_background": "light"
     },
     "output_type": "display_data"
    }
   ],
   "source": [
    "tweets_df_r1['tweet'].str.split().\\\n",
    "    map(lambda x: len(x)).\\\n",
    "    hist() "
   ]
  },
  {
   "cell_type": "markdown",
   "metadata": {},
   "source": [
    "#### Observation\n",
    "The histogram shows that the tweets at the **number of word level** range from 1 to 58 words and generally, it is between 10 to 50 words."
   ]
  },
  {
   "cell_type": "code",
   "execution_count": 31,
   "metadata": {
    "ExecuteTime": {
     "end_time": "2021-04-25T22:36:39.543879Z",
     "start_time": "2021-04-25T22:36:38.572546Z"
    }
   },
   "outputs": [
    {
     "data": {
      "text/plain": [
       "<matplotlib.axes._subplots.AxesSubplot at 0x248c9848da0>"
      ]
     },
     "execution_count": 31,
     "metadata": {},
     "output_type": "execute_result"
    },
    {
     "data": {
      "image/png": "[encoded data removed]",
      "text/plain": [
       "<Figure size 432x288 with 1 Axes>"
      ]
     },
     "metadata": {
      "needs_background": "light"
     },
     "output_type": "display_data"
    }
   ],
   "source": [
    "tweets_df_r1['tweet'].str.split().\\\n",
    "   apply(lambda x : [len(i) for i in x]). \\\n",
    "   map(lambda x: np.mean(x)).hist()"
   ]
  },
  {
   "cell_type": "markdown",
   "metadata": {},
   "source": [
    "#### Observation\n",
    "The histogram shows **Average number of word** us 2-18"
   ]
  },
  {
   "cell_type": "markdown",
   "metadata": {},
   "source": [
    "### NLTK"
   ]
  },
  {
   "cell_type": "code",
   "execution_count": 32,
   "metadata": {
    "ExecuteTime": {
     "end_time": "2021-04-25T22:36:53.455664Z",
     "start_time": "2021-04-25T22:36:39.546880Z"
    }
   },
   "outputs": [
    {
     "name": "stderr",
     "output_type": "stream",
     "text": [
      "[nltk_data] Downloading package stopwords to\n",
      "[nltk_data]     C:\\Users\\DELL\\AppData\\Roaming\\nltk_data...\n",
      "[nltk_data]   Package stopwords is already up-to-date!\n",
      "[nltk_data] Downloading package punkt to\n",
      "[nltk_data]     C:\\Users\\DELL\\AppData\\Roaming\\nltk_data...\n",
      "[nltk_data]   Package punkt is already up-to-date!\n",
      "[nltk_data] Downloading package wordnet to\n",
      "[nltk_data]     C:\\Users\\DELL\\AppData\\Roaming\\nltk_data...\n",
      "[nltk_data]   Package wordnet is already up-to-date!\n"
     ]
    },
    {
     "data": {
      "text/plain": [
       "True"
      ]
     },
     "execution_count": 32,
     "metadata": {},
     "output_type": "execute_result"
    }
   ],
   "source": [
    "import nltk\n",
    "from nltk.tokenize import word_tokenize\n",
    "from nltk.corpus import stopwords\n",
    "from nltk.stem.wordnet import WordNetLemmatizer\n",
    "from nltk.stem.porter import PorterStemmer\n",
    "from nltk.probability import FreqDist\n",
    "nltk.download('stopwords')\n",
    "nltk.download('punkt')\n",
    "nltk.download('wordnet')"
   ]
  },
  {
   "cell_type": "markdown",
   "metadata": {},
   "source": [
    "#### Adding Tokenized column"
   ]
  },
  {
   "cell_type": "code",
   "execution_count": 33,
   "metadata": {
    "ExecuteTime": {
     "end_time": "2021-04-25T22:37:04.079370Z",
     "start_time": "2021-04-25T22:36:53.458665Z"
    }
   },
   "outputs": [],
   "source": [
    "tweets_df_r1['tt'] = tweets_df_r1['tweet'].apply(word_tokenize)"
   ]
  },
  {
   "cell_type": "code",
   "execution_count": 34,
   "metadata": {
    "ExecuteTime": {
     "end_time": "2021-04-25T22:37:04.111335Z",
     "start_time": "2021-04-25T22:37:04.081369Z"
    }
   },
   "outputs": [
    {
     "data": {
      "text/html": [
       "<div>\n",
       "<style scoped>\n",
       "    .dataframe tbody tr th:only-of-type {\n",
       "        vertical-align: middle;\n",
       "    }\n",
       "\n",
       "    .dataframe tbody tr th {\n",
       "        vertical-align: top;\n",
       "    }\n",
       "\n",
       "    .dataframe thead th {\n",
       "        text-align: right;\n",
       "    }\n",
       "</style>\n",
       "<table border=\"1\" class=\"dataframe\">\n",
       "  <thead>\n",
       "    <tr style=\"text-align: right;\">\n",
       "      <th></th>\n",
       "      <th>date</th>\n",
       "      <th>tweet</th>\n",
       "      <th>month</th>\n",
       "      <th>year</th>\n",
       "      <th>tt</th>\n",
       "    </tr>\n",
       "  </thead>\n",
       "  <tbody>\n",
       "    <tr>\n",
       "      <td>0</td>\n",
       "      <td>2021-04-25</td>\n",
       "      <td>We had an issue where twitter seemed to have m...</td>\n",
       "      <td>4</td>\n",
       "      <td>2021</td>\n",
       "      <td>[We, had, an, issue, where, twitter, seemed, t...</td>\n",
       "    </tr>\n",
       "    <tr>\n",
       "      <td>1</td>\n",
       "      <td>2021-04-25</td>\n",
       "      <td>Can someone nominate the team @VaxHuntersCan f...</td>\n",
       "      <td>4</td>\n",
       "      <td>2021</td>\n",
       "      <td>[Can, someone, nominate, the, team, @, VaxHunt...</td>\n",
       "    </tr>\n",
       "    <tr>\n",
       "      <td>2</td>\n",
       "      <td>2021-04-25</td>\n",
       "      <td>Sorry for it being late. I had to get a cool l...</td>\n",
       "      <td>4</td>\n",
       "      <td>2021</td>\n",
       "      <td>[Sorry, for, it, being, late, ., I, had, to, g...</td>\n",
       "    </tr>\n",
       "    <tr>\n",
       "      <td>3</td>\n",
       "      <td>2021-04-25</td>\n",
       "      <td>Covid vaccines are the results of decades of r...</td>\n",
       "      <td>4</td>\n",
       "      <td>2021</td>\n",
       "      <td>[Covid, vaccines, are, the, results, of, decad...</td>\n",
       "    </tr>\n",
       "    <tr>\n",
       "      <td>4</td>\n",
       "      <td>2021-04-25</td>\n",
       "      <td>Got my first vaccine shot and man did it fuck ...</td>\n",
       "      <td>4</td>\n",
       "      <td>2021</td>\n",
       "      <td>[Got, my, first, vaccine, shot, and, man, did,...</td>\n",
       "    </tr>\n",
       "  </tbody>\n",
       "</table>\n",
       "</div>"
      ],
      "text/plain": [
       "        date                                              tweet  month  year  \\\n",
       "0 2021-04-25  We had an issue where twitter seemed to have m...      4  2021   \n",
       "1 2021-04-25  Can someone nominate the team @VaxHuntersCan f...      4  2021   \n",
       "2 2021-04-25  Sorry for it being late. I had to get a cool l...      4  2021   \n",
       "3 2021-04-25  Covid vaccines are the results of decades of r...      4  2021   \n",
       "4 2021-04-25  Got my first vaccine shot and man did it fuck ...      4  2021   \n",
       "\n",
       "                                                  tt  \n",
       "0  [We, had, an, issue, where, twitter, seemed, t...  \n",
       "1  [Can, someone, nominate, the, team, @, VaxHunt...  \n",
       "2  [Sorry, for, it, being, late, ., I, had, to, g...  \n",
       "3  [Covid, vaccines, are, the, results, of, decad...  \n",
       "4  [Got, my, first, vaccine, shot, and, man, did,...  "
      ]
     },
     "execution_count": 34,
     "metadata": {},
     "output_type": "execute_result"
    }
   ],
   "source": [
    "tweets_df_r1.head()"
   ]
  },
  {
   "cell_type": "markdown",
   "metadata": {},
   "source": [
    "### Adding sentiment through TextBlob\n",
    "- **Polarity** is a float that lies between [-1,1], -1 indicates negative sentiment and +1 indicates positive sentiments. \n",
    "- **Subjectivity** is also a float which lies in the range of [0,1]. Subjective sentences generally refer to personal opinion, emotion, or judgment. "
   ]
  },
  {
   "cell_type": "code",
   "execution_count": 35,
   "metadata": {
    "ExecuteTime": {
     "end_time": "2021-04-25T22:37:04.724903Z",
     "start_time": "2021-04-25T22:37:04.115333Z"
    }
   },
   "outputs": [],
   "source": [
    "from textblob import TextBlob"
   ]
  },
  {
   "cell_type": "code",
   "execution_count": 36,
   "metadata": {
    "ExecuteTime": {
     "end_time": "2021-04-25T22:37:04.756920Z",
     "start_time": "2021-04-25T22:37:04.730907Z"
    }
   },
   "outputs": [],
   "source": [
    "def clean_tweet(tweets_df_r1, tt):\n",
    "        '''\n",
    "        Utility function to clean tweet text by removing links, special characters\n",
    "        using simple regex statements.\n",
    "        '''\n",
    "        return ' '.join(re.sub(\"(@[A-Za-z0-9]+)|([^0-9A-Za-z \\t])|(\\w+:\\/\\/\\S+)\", \" \", tweet).split())"
   ]
  },
  {
   "cell_type": "code",
   "execution_count": 37,
   "metadata": {
    "ExecuteTime": {
     "end_time": "2021-04-25T22:37:23.640387Z",
     "start_time": "2021-04-25T22:37:04.762887Z"
    }
   },
   "outputs": [],
   "source": [
    "def sentiment_calc(tt):\n",
    "    try:\n",
    "        return TextBlob(tt).sentiment\n",
    "    except:\n",
    "        return None\n",
    "    \n",
    "tweets_df_r1['sentiment'] = tweets_df_r1['tweet'].apply(sentiment_calc)"
   ]
  },
  {
   "cell_type": "code",
   "execution_count": 38,
   "metadata": {
    "ExecuteTime": {
     "end_time": "2021-04-25T22:37:23.688304Z",
     "start_time": "2021-04-25T22:37:23.642331Z"
    }
   },
   "outputs": [],
   "source": [
    "tweets_df_r2 = tweets_df_r1\n",
    "sentiment_series = tweets_df_r2['sentiment'].tolist()\n",
    "columns = ['polarity', 'subjectivity']\n",
    "tweets_df_r2 = pd.DataFrame(sentiment_series, columns=columns, index=tweets_df_r2.index)"
   ]
  },
  {
   "cell_type": "code",
   "execution_count": 39,
   "metadata": {
    "ExecuteTime": {
     "end_time": "2021-04-25T22:37:23.831373Z",
     "start_time": "2021-04-25T22:37:23.691303Z"
    }
   },
   "outputs": [
    {
     "data": {
      "text/html": [
       "<div>\n",
       "<style scoped>\n",
       "    .dataframe tbody tr th:only-of-type {\n",
       "        vertical-align: middle;\n",
       "    }\n",
       "\n",
       "    .dataframe tbody tr th {\n",
       "        vertical-align: top;\n",
       "    }\n",
       "\n",
       "    .dataframe thead th {\n",
       "        text-align: right;\n",
       "    }\n",
       "</style>\n",
       "<table border=\"1\" class=\"dataframe\">\n",
       "  <thead>\n",
       "    <tr style=\"text-align: right;\">\n",
       "      <th></th>\n",
       "      <th>polarity</th>\n",
       "      <th>subjectivity</th>\n",
       "    </tr>\n",
       "  </thead>\n",
       "  <tbody>\n",
       "    <tr>\n",
       "      <td>0</td>\n",
       "      <td>0.200000</td>\n",
       "      <td>0.243750</td>\n",
       "    </tr>\n",
       "    <tr>\n",
       "      <td>1</td>\n",
       "      <td>0.266667</td>\n",
       "      <td>0.308333</td>\n",
       "    </tr>\n",
       "    <tr>\n",
       "      <td>2</td>\n",
       "      <td>-0.159375</td>\n",
       "      <td>0.687500</td>\n",
       "    </tr>\n",
       "    <tr>\n",
       "      <td>3</td>\n",
       "      <td>0.218750</td>\n",
       "      <td>0.343750</td>\n",
       "    </tr>\n",
       "    <tr>\n",
       "      <td>4</td>\n",
       "      <td>0.056250</td>\n",
       "      <td>0.258333</td>\n",
       "    </tr>\n",
       "  </tbody>\n",
       "</table>\n",
       "</div>"
      ],
      "text/plain": [
       "   polarity  subjectivity\n",
       "0  0.200000      0.243750\n",
       "1  0.266667      0.308333\n",
       "2 -0.159375      0.687500\n",
       "3  0.218750      0.343750\n",
       "4  0.056250      0.258333"
      ]
     },
     "execution_count": 39,
     "metadata": {},
     "output_type": "execute_result"
    }
   ],
   "source": [
    "tweets_df_r2.head()"
   ]
  },
  {
   "cell_type": "code",
   "execution_count": 40,
   "metadata": {
    "ExecuteTime": {
     "end_time": "2021-04-25T22:37:23.895340Z",
     "start_time": "2021-04-25T22:37:23.834369Z"
    }
   },
   "outputs": [
    {
     "data": {
      "text/plain": [
       "(23907, 2)"
      ]
     },
     "execution_count": 40,
     "metadata": {},
     "output_type": "execute_result"
    }
   ],
   "source": [
    "tweets_df_r2.shape"
   ]
  },
  {
   "cell_type": "code",
   "execution_count": 41,
   "metadata": {
    "ExecuteTime": {
     "end_time": "2021-04-25T22:37:23.990343Z",
     "start_time": "2021-04-25T22:37:23.899334Z"
    }
   },
   "outputs": [],
   "source": [
    "tweets_df_r1['polarity'] = tweets_df_r2['polarity']\n",
    "tweets_df_r1['subjectivity'] = tweets_df_r2['subjectivity'] "
   ]
  },
  {
   "cell_type": "code",
   "execution_count": 42,
   "metadata": {
    "ExecuteTime": {
     "end_time": "2021-04-25T22:37:24.149137Z",
     "start_time": "2021-04-25T22:37:23.994341Z"
    }
   },
   "outputs": [
    {
     "data": {
      "text/html": [
       "<div>\n",
       "<style scoped>\n",
       "    .dataframe tbody tr th:only-of-type {\n",
       "        vertical-align: middle;\n",
       "    }\n",
       "\n",
       "    .dataframe tbody tr th {\n",
       "        vertical-align: top;\n",
       "    }\n",
       "\n",
       "    .dataframe thead th {\n",
       "        text-align: right;\n",
       "    }\n",
       "</style>\n",
       "<table border=\"1\" class=\"dataframe\">\n",
       "  <thead>\n",
       "    <tr style=\"text-align: right;\">\n",
       "      <th></th>\n",
       "      <th>date</th>\n",
       "      <th>tweet</th>\n",
       "      <th>month</th>\n",
       "      <th>year</th>\n",
       "      <th>tt</th>\n",
       "      <th>sentiment</th>\n",
       "      <th>polarity</th>\n",
       "      <th>subjectivity</th>\n",
       "    </tr>\n",
       "  </thead>\n",
       "  <tbody>\n",
       "    <tr>\n",
       "      <td>0</td>\n",
       "      <td>2021-04-25</td>\n",
       "      <td>We had an issue where twitter seemed to have m...</td>\n",
       "      <td>4</td>\n",
       "      <td>2021</td>\n",
       "      <td>[We, had, an, issue, where, twitter, seemed, t...</td>\n",
       "      <td>(0.2, 0.24375)</td>\n",
       "      <td>0.200000</td>\n",
       "      <td>0.243750</td>\n",
       "    </tr>\n",
       "    <tr>\n",
       "      <td>1</td>\n",
       "      <td>2021-04-25</td>\n",
       "      <td>Can someone nominate the team @VaxHuntersCan f...</td>\n",
       "      <td>4</td>\n",
       "      <td>2021</td>\n",
       "      <td>[Can, someone, nominate, the, team, @, VaxHunt...</td>\n",
       "      <td>(0.26666666666666666, 0.3083333333333333)</td>\n",
       "      <td>0.266667</td>\n",
       "      <td>0.308333</td>\n",
       "    </tr>\n",
       "    <tr>\n",
       "      <td>2</td>\n",
       "      <td>2021-04-25</td>\n",
       "      <td>Sorry for it being late. I had to get a cool l...</td>\n",
       "      <td>4</td>\n",
       "      <td>2021</td>\n",
       "      <td>[Sorry, for, it, being, late, ., I, had, to, g...</td>\n",
       "      <td>(-0.15937500000000002, 0.6875)</td>\n",
       "      <td>-0.159375</td>\n",
       "      <td>0.687500</td>\n",
       "    </tr>\n",
       "    <tr>\n",
       "      <td>3</td>\n",
       "      <td>2021-04-25</td>\n",
       "      <td>Covid vaccines are the results of decades of r...</td>\n",
       "      <td>4</td>\n",
       "      <td>2021</td>\n",
       "      <td>[Covid, vaccines, are, the, results, of, decad...</td>\n",
       "      <td>(0.21875, 0.34375)</td>\n",
       "      <td>0.218750</td>\n",
       "      <td>0.343750</td>\n",
       "    </tr>\n",
       "    <tr>\n",
       "      <td>4</td>\n",
       "      <td>2021-04-25</td>\n",
       "      <td>Got my first vaccine shot and man did it fuck ...</td>\n",
       "      <td>4</td>\n",
       "      <td>2021</td>\n",
       "      <td>[Got, my, first, vaccine, shot, and, man, did,...</td>\n",
       "      <td>(0.056249999999999994, 0.25833333333333336)</td>\n",
       "      <td>0.056250</td>\n",
       "      <td>0.258333</td>\n",
       "    </tr>\n",
       "  </tbody>\n",
       "</table>\n",
       "</div>"
      ],
      "text/plain": [
       "        date                                              tweet  month  year  \\\n",
       "0 2021-04-25  We had an issue where twitter seemed to have m...      4  2021   \n",
       "1 2021-04-25  Can someone nominate the team @VaxHuntersCan f...      4  2021   \n",
       "2 2021-04-25  Sorry for it being late. I had to get a cool l...      4  2021   \n",
       "3 2021-04-25  Covid vaccines are the results of decades of r...      4  2021   \n",
       "4 2021-04-25  Got my first vaccine shot and man did it fuck ...      4  2021   \n",
       "\n",
       "                                                  tt  \\\n",
       "0  [We, had, an, issue, where, twitter, seemed, t...   \n",
       "1  [Can, someone, nominate, the, team, @, VaxHunt...   \n",
       "2  [Sorry, for, it, being, late, ., I, had, to, g...   \n",
       "3  [Covid, vaccines, are, the, results, of, decad...   \n",
       "4  [Got, my, first, vaccine, shot, and, man, did,...   \n",
       "\n",
       "                                     sentiment  polarity  subjectivity  \n",
       "0                               (0.2, 0.24375)  0.200000      0.243750  \n",
       "1    (0.26666666666666666, 0.3083333333333333)  0.266667      0.308333  \n",
       "2               (-0.15937500000000002, 0.6875) -0.159375      0.687500  \n",
       "3                           (0.21875, 0.34375)  0.218750      0.343750  \n",
       "4  (0.056249999999999994, 0.25833333333333336)  0.056250      0.258333  "
      ]
     },
     "execution_count": 42,
     "metadata": {},
     "output_type": "execute_result"
    }
   ],
   "source": [
    "tweets_df_r1.head() "
   ]
  },
  {
   "cell_type": "code",
   "execution_count": 43,
   "metadata": {
    "ExecuteTime": {
     "end_time": "2021-04-25T22:37:24.498335Z",
     "start_time": "2021-04-25T22:37:24.152136Z"
    }
   },
   "outputs": [
    {
     "data": {
      "text/plain": [
       "<matplotlib.axes._subplots.AxesSubplot at 0x248dc3bab00>"
      ]
     },
     "execution_count": 43,
     "metadata": {},
     "output_type": "execute_result"
    },
    {
     "data": {
      "image/png": "[encoded data removed]",
      "text/plain": [
       "<Figure size 432x288 with 1 Axes>"
      ]
     },
     "metadata": {
      "needs_background": "light"
     },
     "output_type": "display_data"
    }
   ],
   "source": [
    "tweets_df_r1['polarity'].hist() "
   ]
  },
  {
   "cell_type": "code",
   "execution_count": 44,
   "metadata": {
    "ExecuteTime": {
     "end_time": "2021-04-25T22:37:24.546304Z",
     "start_time": "2021-04-25T22:37:24.500314Z"
    }
   },
   "outputs": [
    {
     "data": {
      "text/html": [
       "<div>\n",
       "<style scoped>\n",
       "    .dataframe tbody tr th:only-of-type {\n",
       "        vertical-align: middle;\n",
       "    }\n",
       "\n",
       "    .dataframe tbody tr th {\n",
       "        vertical-align: top;\n",
       "    }\n",
       "\n",
       "    .dataframe thead th {\n",
       "        text-align: right;\n",
       "    }\n",
       "</style>\n",
       "<table border=\"1\" class=\"dataframe\">\n",
       "  <thead>\n",
       "    <tr style=\"text-align: right;\">\n",
       "      <th></th>\n",
       "      <th>date</th>\n",
       "      <th>tweet</th>\n",
       "      <th>month</th>\n",
       "      <th>year</th>\n",
       "      <th>tt</th>\n",
       "      <th>sentiment</th>\n",
       "      <th>polarity</th>\n",
       "      <th>subjectivity</th>\n",
       "      <th>sentiment1</th>\n",
       "    </tr>\n",
       "  </thead>\n",
       "  <tbody>\n",
       "    <tr>\n",
       "      <td>0</td>\n",
       "      <td>2021-04-25</td>\n",
       "      <td>We had an issue where twitter seemed to have m...</td>\n",
       "      <td>4</td>\n",
       "      <td>2021</td>\n",
       "      <td>[We, had, an, issue, where, twitter, seemed, t...</td>\n",
       "      <td>(0.2, 0.24375)</td>\n",
       "      <td>0.200000</td>\n",
       "      <td>0.243750</td>\n",
       "      <td>positive</td>\n",
       "    </tr>\n",
       "    <tr>\n",
       "      <td>1</td>\n",
       "      <td>2021-04-25</td>\n",
       "      <td>Can someone nominate the team @VaxHuntersCan f...</td>\n",
       "      <td>4</td>\n",
       "      <td>2021</td>\n",
       "      <td>[Can, someone, nominate, the, team, @, VaxHunt...</td>\n",
       "      <td>(0.26666666666666666, 0.3083333333333333)</td>\n",
       "      <td>0.266667</td>\n",
       "      <td>0.308333</td>\n",
       "      <td>positive</td>\n",
       "    </tr>\n",
       "    <tr>\n",
       "      <td>2</td>\n",
       "      <td>2021-04-25</td>\n",
       "      <td>Sorry for it being late. I had to get a cool l...</td>\n",
       "      <td>4</td>\n",
       "      <td>2021</td>\n",
       "      <td>[Sorry, for, it, being, late, ., I, had, to, g...</td>\n",
       "      <td>(-0.15937500000000002, 0.6875)</td>\n",
       "      <td>-0.159375</td>\n",
       "      <td>0.687500</td>\n",
       "      <td>negative</td>\n",
       "    </tr>\n",
       "    <tr>\n",
       "      <td>3</td>\n",
       "      <td>2021-04-25</td>\n",
       "      <td>Covid vaccines are the results of decades of r...</td>\n",
       "      <td>4</td>\n",
       "      <td>2021</td>\n",
       "      <td>[Covid, vaccines, are, the, results, of, decad...</td>\n",
       "      <td>(0.21875, 0.34375)</td>\n",
       "      <td>0.218750</td>\n",
       "      <td>0.343750</td>\n",
       "      <td>positive</td>\n",
       "    </tr>\n",
       "    <tr>\n",
       "      <td>4</td>\n",
       "      <td>2021-04-25</td>\n",
       "      <td>Got my first vaccine shot and man did it fuck ...</td>\n",
       "      <td>4</td>\n",
       "      <td>2021</td>\n",
       "      <td>[Got, my, first, vaccine, shot, and, man, did,...</td>\n",
       "      <td>(0.056249999999999994, 0.25833333333333336)</td>\n",
       "      <td>0.056250</td>\n",
       "      <td>0.258333</td>\n",
       "      <td>positive</td>\n",
       "    </tr>\n",
       "  </tbody>\n",
       "</table>\n",
       "</div>"
      ],
      "text/plain": [
       "        date                                              tweet  month  year  \\\n",
       "0 2021-04-25  We had an issue where twitter seemed to have m...      4  2021   \n",
       "1 2021-04-25  Can someone nominate the team @VaxHuntersCan f...      4  2021   \n",
       "2 2021-04-25  Sorry for it being late. I had to get a cool l...      4  2021   \n",
       "3 2021-04-25  Covid vaccines are the results of decades of r...      4  2021   \n",
       "4 2021-04-25  Got my first vaccine shot and man did it fuck ...      4  2021   \n",
       "\n",
       "                                                  tt  \\\n",
       "0  [We, had, an, issue, where, twitter, seemed, t...   \n",
       "1  [Can, someone, nominate, the, team, @, VaxHunt...   \n",
       "2  [Sorry, for, it, being, late, ., I, had, to, g...   \n",
       "3  [Covid, vaccines, are, the, results, of, decad...   \n",
       "4  [Got, my, first, vaccine, shot, and, man, did,...   \n",
       "\n",
       "                                     sentiment  polarity  subjectivity  \\\n",
       "0                               (0.2, 0.24375)  0.200000      0.243750   \n",
       "1    (0.26666666666666666, 0.3083333333333333)  0.266667      0.308333   \n",
       "2               (-0.15937500000000002, 0.6875) -0.159375      0.687500   \n",
       "3                           (0.21875, 0.34375)  0.218750      0.343750   \n",
       "4  (0.056249999999999994, 0.25833333333333336)  0.056250      0.258333   \n",
       "\n",
       "  sentiment1  \n",
       "0   positive  \n",
       "1   positive  \n",
       "2   negative  \n",
       "3   positive  \n",
       "4   positive  "
      ]
     },
     "execution_count": 44,
     "metadata": {},
     "output_type": "execute_result"
    }
   ],
   "source": [
    "# create a list of our conditions\n",
    "conditions = [\n",
    "    (tweets_df_r1['polarity'] > 0),\n",
    "    (tweets_df_r1['polarity'] == 0),\n",
    "    (tweets_df_r1['polarity'] < 0)\n",
    "    ]\n",
    "\n",
    "# create a list of the values we want to assign for each condition\n",
    "values = ['positive', 'neutral', 'negative']\n",
    "\n",
    "# create a new column and use np.select to assign values to it using our lists as arguments\n",
    "tweets_df_r1['sentiment1'] = np.select(conditions, values)\n",
    "\n",
    "# display updated DataFrame\n",
    "tweets_df_r1.head()"
   ]
  },
  {
   "cell_type": "code",
   "execution_count": 45,
   "metadata": {
    "ExecuteTime": {
     "end_time": "2021-04-25T22:37:24.642035Z",
     "start_time": "2021-04-25T22:37:24.549288Z"
    }
   },
   "outputs": [
    {
     "data": {
      "text/plain": [
       "positive    12567\n",
       "neutral      6493\n",
       "negative     4847\n",
       "Name: sentiment1, dtype: int64"
      ]
     },
     "execution_count": 45,
     "metadata": {},
     "output_type": "execute_result"
    }
   ],
   "source": [
    "tweets_df_r1['sentiment1'].value_counts()"
   ]
  },
  {
   "cell_type": "code",
   "execution_count": 46,
   "metadata": {
    "ExecuteTime": {
     "end_time": "2021-04-25T22:37:24.987433Z",
     "start_time": "2021-04-25T22:37:24.647030Z"
    }
   },
   "outputs": [
    {
     "data": {
      "text/plain": [
       "<matplotlib.axes._subplots.AxesSubplot at 0x248dc7e3668>"
      ]
     },
     "execution_count": 46,
     "metadata": {},
     "output_type": "execute_result"
    },
    {
     "data": {
      "image/png": "[encoded data removed]",
      "text/plain": [
       "<Figure size 432x288 with 1 Axes>"
      ]
     },
     "metadata": {
      "needs_background": "light"
     },
     "output_type": "display_data"
    }
   ],
   "source": [
    "tweets_df_r1['sentiment1'].value_counts().plot(kind = 'barh') "
   ]
  },
  {
   "cell_type": "markdown",
   "metadata": {},
   "source": [
    "#### Spliting into training and testing data sets"
   ]
  },
  {
   "cell_type": "code",
   "execution_count": 47,
   "metadata": {
    "ExecuteTime": {
     "end_time": "2021-04-25T22:37:25.018413Z",
     "start_time": "2021-04-25T22:37:24.990431Z"
    }
   },
   "outputs": [],
   "source": [
    "train_tweets = tweets_df_r1.sample(frac = 0.75)"
   ]
  },
  {
   "cell_type": "code",
   "execution_count": 48,
   "metadata": {
    "ExecuteTime": {
     "end_time": "2021-04-25T22:37:25.080168Z",
     "start_time": "2021-04-25T22:37:25.020411Z"
    }
   },
   "outputs": [],
   "source": [
    "test_tweets = tweets_df_r1.drop(train_tweets.index) "
   ]
  },
  {
   "cell_type": "code",
   "execution_count": 49,
   "metadata": {
    "ExecuteTime": {
     "end_time": "2021-04-25T22:37:25.175259Z",
     "start_time": "2021-04-25T22:37:25.082114Z"
    }
   },
   "outputs": [
    {
     "data": {
      "text/plain": [
       "(17930, 9)"
      ]
     },
     "execution_count": 49,
     "metadata": {},
     "output_type": "execute_result"
    }
   ],
   "source": [
    "train_tweets.shape"
   ]
  },
  {
   "cell_type": "code",
   "execution_count": 50,
   "metadata": {
    "ExecuteTime": {
     "end_time": "2021-04-25T22:37:25.239170Z",
     "start_time": "2021-04-25T22:37:25.177259Z"
    }
   },
   "outputs": [
    {
     "data": {
      "text/plain": [
       "(5977, 9)"
      ]
     },
     "execution_count": 50,
     "metadata": {},
     "output_type": "execute_result"
    }
   ],
   "source": [
    "test_tweets.shape "
   ]
  },
  {
   "cell_type": "code",
   "execution_count": 51,
   "metadata": {
    "ExecuteTime": {
     "end_time": "2021-04-25T22:37:26.256392Z",
     "start_time": "2021-04-25T22:37:25.242169Z"
    }
   },
   "outputs": [],
   "source": [
    "train_tweets.to_csv('train_data.csv',index=False)  "
   ]
  },
  {
   "cell_type": "code",
   "execution_count": 52,
   "metadata": {
    "ExecuteTime": {
     "end_time": "2021-04-25T22:37:26.575242Z",
     "start_time": "2021-04-25T22:37:26.261387Z"
    }
   },
   "outputs": [],
   "source": [
    "test_tweets.to_csv('test_data.csv',index=False)   "
   ]
  },
  {
   "cell_type": "markdown",
   "metadata": {},
   "source": [
    "#### Stop words and Corpus"
   ]
  },
  {
   "cell_type": "code",
   "execution_count": 53,
   "metadata": {
    "ExecuteTime": {
     "end_time": "2021-04-25T22:37:26.830164Z",
     "start_time": "2021-04-25T22:37:26.577223Z"
    }
   },
   "outputs": [],
   "source": [
    "stop=set(stopwords.words('english'))\n",
    "\n",
    "corpus=[]\n",
    "newtt= train_tweets['tweet'].str.split()\n",
    "newtt=newtt.values.tolist()\n",
    "corpus=[word for i in newtt for word in i]\n",
    "\n",
    "from collections import defaultdict\n",
    "dic=defaultdict(int)\n",
    "for word in corpus:\n",
    "    if word in stop:\n",
    "        dic[word]+=1"
   ]
  },
  {
   "cell_type": "markdown",
   "metadata": {},
   "source": [
    "#### Plotting the top 10 stopwords & non stopwords"
   ]
  },
  {
   "cell_type": "code",
   "execution_count": 54,
   "metadata": {
    "ExecuteTime": {
     "end_time": "2021-04-25T22:37:26.861590Z",
     "start_time": "2021-04-25T22:37:26.832609Z"
    }
   },
   "outputs": [],
   "source": [
    "def plot_top_stopwords_barchart(tweet):\n",
    "    stop=set(stopwords.words('english'))\n",
    "    \n",
    "    newtt= train_tweets['tweet'].str.split()\n",
    "    newtt=newtt.values.tolist()\n",
    "    corpus=[word for i in newtt for word in i]\n",
    "    from collections import defaultdict\n",
    "    dic=defaultdict(int)\n",
    "    for word in corpus:\n",
    "        if word in stop:\n",
    "            dic[word]+=1\n",
    "            \n",
    "    top=sorted(dic.items(), key=lambda x:x[1],reverse=True)[:10] \n",
    "    x,y=zip(*top)\n",
    "    plt.bar(x,y)"
   ]
  },
  {
   "cell_type": "code",
   "execution_count": 55,
   "metadata": {
    "ExecuteTime": {
     "end_time": "2021-04-25T22:37:27.576946Z",
     "start_time": "2021-04-25T22:37:26.864590Z"
    }
   },
   "outputs": [
    {
     "data": {
      "image/png": "[encoded data removed]",
      "text/plain": [
       "<Figure size 432x288 with 1 Axes>"
      ]
     },
     "metadata": {
      "needs_background": "light"
     },
     "output_type": "display_data"
    }
   ],
   "source": [
    "plot_top_stopwords_barchart(train_tweets['tweet']) "
   ]
  },
  {
   "cell_type": "markdown",
   "metadata": {},
   "source": [
    "#### Word level Analysis on through counter function\n",
    "- A Counter is a container that keeps track of how many times equivalent values are added. It can be used to implement the same algorithms for which bag or multiset data structures are commonly used in other languages."
   ]
  },
  {
   "cell_type": "code",
   "execution_count": 56,
   "metadata": {
    "ExecuteTime": {
     "end_time": "2021-04-25T22:37:27.972733Z",
     "start_time": "2021-04-25T22:37:27.579945Z"
    }
   },
   "outputs": [
    {
     "data": {
      "text/plain": [
       "<matplotlib.axes._subplots.AxesSubplot at 0x248e23ef0f0>"
      ]
     },
     "execution_count": 56,
     "metadata": {},
     "output_type": "execute_result"
    },
    {
     "data": {
      "image/png": "[encoded data removed]",
      "text/plain": [
       "<Figure size 432x288 with 1 Axes>"
      ]
     },
     "metadata": {
      "needs_background": "light"
     },
     "output_type": "display_data"
    }
   ],
   "source": [
    "from collections import  Counter\n",
    "counter=Counter(corpus)\n",
    "most=counter.most_common()\n",
    "\n",
    "x, y= [], []\n",
    "for word,count in most[:40]:\n",
    "    if (word not in stop):\n",
    "        x.append(word)\n",
    "        y.append(count)\n",
    "        \n",
    "sns.barplot(x=y,y=x)"
   ]
  },
  {
   "cell_type": "code",
   "execution_count": 57,
   "metadata": {
    "ExecuteTime": {
     "end_time": "2021-04-25T22:37:27.988726Z",
     "start_time": "2021-04-25T22:37:27.975732Z"
    }
   },
   "outputs": [],
   "source": [
    "from collections import  Counter\n",
    "\n",
    "def plot_top_non_stopwords_barchart(tweet):\n",
    "    stop=set(stopwords.words('english'))\n",
    "    \n",
    "    newtt= train_tweets['tweet'].str.split()\n",
    "    newtt=newtt.values.tolist()\n",
    "    corpus=[word for i in newtt for word in i]\n",
    "\n",
    "    counter=Counter(corpus)\n",
    "    most=counter.most_common()\n",
    "    x, y=[], []\n",
    "    for word,count in most[:40]:\n",
    "        if (word not in stop):\n",
    "            x.append(word)\n",
    "            y.append(count)\n",
    "            \n",
    "    sns.barplot(x=y,y=x)"
   ]
  },
  {
   "cell_type": "code",
   "execution_count": 58,
   "metadata": {
    "ExecuteTime": {
     "end_time": "2021-04-25T22:37:28.590566Z",
     "start_time": "2021-04-25T22:37:27.994723Z"
    }
   },
   "outputs": [
    {
     "data": {
      "image/png": "[encoded data removed]",
      "text/plain": [
       "<Figure size 432x288 with 1 Axes>"
      ]
     },
     "metadata": {
      "needs_background": "light"
     },
     "output_type": "display_data"
    }
   ],
   "source": [
    "plot_top_non_stopwords_barchart(train_tweets['tweet'])"
   ]
  },
  {
   "cell_type": "markdown",
   "metadata": {},
   "source": [
    "### Ngram exploration"
   ]
  },
  {
   "cell_type": "code",
   "execution_count": 59,
   "metadata": {
    "ExecuteTime": {
     "end_time": "2021-04-25T22:37:28.606555Z",
     "start_time": "2021-04-25T22:37:28.593562Z"
    }
   },
   "outputs": [],
   "source": [
    "from nltk.util import ngrams\n",
    "from sklearn.feature_extraction.text import CountVectorizer\n",
    "def get_top_ngram(corpus, n=None):\n",
    "    vec = CountVectorizer(ngram_range=(n, n)).fit(corpus)\n",
    "    bag_of_words = vec.transform(corpus)\n",
    "    sum_words = bag_of_words.sum(axis=0) \n",
    "    words_freq = [(word, sum_words[0, idx]) \n",
    "                  for word, idx in vec.vocabulary_.items()]\n",
    "    words_freq =sorted(words_freq, key = lambda x: x[1], reverse=True)\n",
    "    return words_freq[:10]"
   ]
  },
  {
   "cell_type": "code",
   "execution_count": 60,
   "metadata": {
    "ExecuteTime": {
     "end_time": "2021-04-25T22:37:28.748551Z",
     "start_time": "2021-04-25T22:37:28.608555Z"
    }
   },
   "outputs": [],
   "source": [
    "def plot_top_ngrams_barchart(tweet, n=2):\n",
    "    stop=set(stopwords.words('english'))\n",
    "\n",
    "    newtt= train_tweets['tweet'].str.split()\n",
    "    newtt=newtt.values.tolist()\n",
    "    corpus=[word for i in newtt for word in i]\n",
    "\n",
    "\n",
    "    def _get_top_ngram(corpus, n=None):\n",
    "        vec = CountVectorizer(ngram_range=(n, n)).fit(corpus)\n",
    "        bag_of_words = vec.transform(corpus)\n",
    "        sum_words = bag_of_words.sum(axis=0) \n",
    "        words_freq = [(word, sum_words[0, idx]) \n",
    "                      for word, idx in vec.vocabulary_.items()]\n",
    "        words_freq =sorted(words_freq, key = lambda x: x[1], reverse=True)\n",
    "        return words_freq[:10]\n",
    "\n",
    "    top_n_bigrams=_get_top_ngram(tweet,n)[:10]\n",
    "    x,y=map(list,zip(*top_n_bigrams))\n",
    "    sns.barplot(x=y,y=x)"
   ]
  },
  {
   "cell_type": "code",
   "execution_count": 61,
   "metadata": {
    "ExecuteTime": {
     "end_time": "2021-04-25T22:37:30.659777Z",
     "start_time": "2021-04-25T22:37:28.758546Z"
    }
   },
   "outputs": [
    {
     "data": {
      "image/png": "[encoded data removed]",
      "text/plain": [
       "<Figure size 432x288 with 1 Axes>"
      ]
     },
     "metadata": {
      "needs_background": "light"
     },
     "output_type": "display_data"
    }
   ],
   "source": [
    "plot_top_ngrams_barchart(train_tweets['tweet'],1)"
   ]
  },
  {
   "cell_type": "markdown",
   "metadata": {},
   "source": [
    "#### Top N Bigram"
   ]
  },
  {
   "cell_type": "code",
   "execution_count": 62,
   "metadata": {
    "ExecuteTime": {
     "end_time": "2021-04-25T22:37:34.815340Z",
     "start_time": "2021-04-25T22:37:30.662724Z"
    },
    "scrolled": true
   },
   "outputs": [
    {
     "data": {
      "image/png": "[encoded data removed]",
      "text/plain": [
       "<Figure size 432x288 with 1 Axes>"
      ]
     },
     "metadata": {
      "needs_background": "light"
     },
     "output_type": "display_data"
    }
   ],
   "source": [
    "plot_top_ngrams_barchart(train_tweets['tweet'],2)"
   ]
  },
  {
   "cell_type": "markdown",
   "metadata": {},
   "source": [
    "#### Top N Trigram"
   ]
  },
  {
   "cell_type": "code",
   "execution_count": 63,
   "metadata": {
    "ExecuteTime": {
     "end_time": "2021-04-25T22:37:39.667576Z",
     "start_time": "2021-04-25T22:37:34.818339Z"
    }
   },
   "outputs": [
    {
     "data": {
      "image/png": "[encoded data removed]",
      "text/plain": [
       "<Figure size 432x288 with 1 Axes>"
      ]
     },
     "metadata": {
      "needs_background": "light"
     },
     "output_type": "display_data"
    }
   ],
   "source": [
    "plot_top_ngrams_barchart(train_tweets['tweet'],3) "
   ]
  },
  {
   "cell_type": "markdown",
   "metadata": {},
   "source": [
    "#### Top N Quadgram"
   ]
  },
  {
   "cell_type": "code",
   "execution_count": 64,
   "metadata": {
    "ExecuteTime": {
     "end_time": "2021-04-25T22:37:44.744669Z",
     "start_time": "2021-04-25T22:37:39.670560Z"
    }
   },
   "outputs": [
    {
     "data": {
      "image/png": "[encoded data removed]",
      "text/plain": [
       "<Figure size 432x288 with 1 Axes>"
      ]
     },
     "metadata": {
      "needs_background": "light"
     },
     "output_type": "display_data"
    }
   ],
   "source": [
    "plot_top_ngrams_barchart(train_tweets['tweet'],4)  "
   ]
  },
  {
   "cell_type": "code",
   "execution_count": 65,
   "metadata": {
    "ExecuteTime": {
     "end_time": "2021-04-25T22:37:57.323640Z",
     "start_time": "2021-04-25T22:37:44.747653Z"
    }
   },
   "outputs": [
    {
     "name": "stderr",
     "output_type": "stream",
     "text": [
      "[nltk_data] Downloading package punkt to\n",
      "[nltk_data]     C:\\Users\\DELL\\AppData\\Roaming\\nltk_data...\n",
      "[nltk_data]   Package punkt is already up-to-date!\n",
      "[nltk_data] Downloading package wordnet to\n",
      "[nltk_data]     C:\\Users\\DELL\\AppData\\Roaming\\nltk_data...\n",
      "[nltk_data]   Package wordnet is already up-to-date!\n"
     ]
    }
   ],
   "source": [
    "import nltk\n",
    "nltk.download('punkt')\n",
    "nltk.download('wordnet')\n",
    "\n",
    "def preprocess_tweet(train_tweets):\n",
    "    corpus=[]\n",
    "    stem=PorterStemmer()\n",
    "    lem=WordNetLemmatizer()\n",
    "    for tweet in train_tweets['tweet']:\n",
    "        words=[w for w in word_tokenize(tweet) if (w not in stop)]\n",
    "        \n",
    "        words=[lem.lemmatize(w) for w in words if len(w)>2]\n",
    "        \n",
    "        corpus.append(words)\n",
    "    return corpus\n",
    "\n",
    "corpus=preprocess_tweet(train_tweets) "
   ]
  },
  {
   "cell_type": "markdown",
   "metadata": {},
   "source": [
    "#### Bag Of Words using genism & the LDA model: Latent Dirichlet Allocation (LDA)"
   ]
  },
  {
   "cell_type": "code",
   "execution_count": 66,
   "metadata": {
    "ExecuteTime": {
     "end_time": "2021-04-25T22:37:59.103731Z",
     "start_time": "2021-04-25T22:37:57.326643Z"
    }
   },
   "outputs": [],
   "source": [
    "import gensim\n",
    "from gensim import corpora\n",
    "from gensim.utils import simple_preprocess\n",
    "\n",
    "dic=gensim.corpora.Dictionary(corpus)\n",
    "bow_corpus = [dic.doc2bow(doc) for doc in corpus]"
   ]
  },
  {
   "cell_type": "code",
   "execution_count": 67,
   "metadata": {
    "ExecuteTime": {
     "end_time": "2021-04-25T22:41:39.891839Z",
     "start_time": "2021-04-25T22:39:23.366769Z"
    }
   },
   "outputs": [
    {
     "data": {
      "text/plain": [
       "[(0,\n",
       "  '0.020*\"vaccine\" + 0.014*\"http\" + 0.011*\"Vaccine\" + 0.006*\"India\" + 0.006*\"VACCINE\" + 0.005*\"THE\" + 0.004*\"amp\" + 0.003*\"passport\" + 0.002*\"ang\" + 0.002*\"YOU\"'),\n",
       " (1,\n",
       "  '0.050*\"vaccine\" + 0.014*\"http\" + 0.012*\"million\" + 0.010*\"dos\" + 0.008*\"Pfizer\" + 0.008*\"The\" + 0.008*\"Trump\" + 0.006*\"amp\" + 0.005*\"week\" + 0.005*\"Biden\"'),\n",
       " (2,\n",
       "  '0.059*\"vaccine\" + 0.033*\"http\" + 0.010*\"first\" + 0.009*\"get\" + 0.007*\"The\" + 0.007*\"got\" + 0.006*\"COVID-19\" + 0.005*\"today\" + 0.004*\"dose\" + 0.004*\"year\"'),\n",
       " (3,\n",
       "  '0.054*\"vaccine\" + 0.012*\"get\" + 0.011*\"people\" + 0.009*\"amp\" + 0.009*\"n\\'t\" + 0.008*\"The\" + 0.007*\"http\" + 0.006*\"need\" + 0.005*\"one\" + 0.005*\"want\"')]"
      ]
     },
     "execution_count": 67,
     "metadata": {},
     "output_type": "execute_result"
    }
   ],
   "source": [
    "lda_model = gensim.models.LdaMulticore(bow_corpus, \n",
    "                                   num_topics = 4, \n",
    "                                   id2word = dic,                                    \n",
    "                                   passes = 10,\n",
    "                                   workers = 2)\n",
    "lda_model.show_topics()"
   ]
  },
  {
   "cell_type": "code",
   "execution_count": 87,
   "metadata": {
    "ExecuteTime": {
     "end_time": "2021-04-26T00:18:12.002396Z",
     "start_time": "2021-04-26T00:18:11.947422Z"
    }
   },
   "outputs": [],
   "source": [
    "from pyLDAvis import gensim_models"
   ]
  },
  {
   "cell_type": "markdown",
   "metadata": {},
   "source": [
    "#### Python LDA visualization through pyLDAvis"
   ]
  },
  {
   "cell_type": "code",
   "execution_count": 88,
   "metadata": {
    "ExecuteTime": {
     "end_time": "2021-04-26T00:55:18.988216Z",
     "start_time": "2021-04-26T00:18:33.535017Z"
    }
   },
   "outputs": [
    {
     "data": {
      "text/html": [
       "\n",
       "<link rel=\"stylesheet\" type=\"text/css\" href=\"https://cdn.jsdelivr.net/gh/bmabey/pyLDAvis@3.3.1/pyLDAvis/js/ldavis.v1.0.0.css\">\n",
       "\n",
       "\n",
       "<div id=\"ldavis_el145362512195340832604676679\"></div>\n",
       "<script type=\"text/javascript\">\n",
       "\n",
       "var ldavis_el145362512195340832604676679_data = {\"mdsDat\": {\"x\": [0.10859205689516693, 0.05560815855941102, 0.05588860674069308, -0.22008882219527087], \"y\": [-0.09555599439272681, 0.12902422442887088, -0.015088773367977122, -0.01837945666816692], \"topics\": [1, 2, 3, 4], \"cluster\": [1, 1, 1, 1], \"Freq\": [43.10208640807998, 24.63464184717963, 23.039228404459966, 9.22404334028043]}, \"tinfo\": {\"Term\": [\"http\", \"million\", \"dos\", \"Vaccine\", \"vaccine\", \"get\", \"Pfizer\", \"first\", \"Trump\", \"India\", \"mask\", \"got\", \"VACCINE\", \"Biden\", \"passport\", \"THE\", \"dose\", \"Moderna\", \"week\", \"people\", \"today\", \"trial\", \"effective\", \"100\", \"want\", \"The\", \"COVID-19\", \"news\", \"n't\", \"day\", \"wear\", \"social\", \"wearing\", \"choice\", \"clot\", \"mask\", \"distancing\", \"school\", \"distance\", \"deadly\", \"kid\", \"mandate\", \"dying\", \"safely\", \"business\", \"red\", \"gun\", \"pill\", \"birth\", \"patent\", \"misinformation\", \"tracking\", \"flu\", \"reopen\", \"decade\", \"respect\", \"military\", \"travel\", \"racism\", \"proven\", \"die\", \"measure\", \"blood\", \"God\", \"understand\", \"stay\", \"without\", \"life\", \"want\", \"n't\", \"risk\", \"need\", \"Democrats\", \"people\", \"thing\", \"control\", \"'re\", \"You\", \"protect\", \"get\", \"know\", \"many\", \"still\", \"think\", \"There\", \"vaccine\", \"But\", \"...\", \"amp\", \"They\", \"make\", \"virus\", \"take\", \"passport\", \"would\", \"getting\", \"one\", \"The\", \"like\", \"work\", \"health\", \"This\", \"http\", \"COVID\", \"vaccinated\", \"going\", \"time\", \"Covid\", \"Speed\", \"Warp\", \"Operation\", \"Dolly\", \"Parton\", \"million\", \"200\", \"ordered\", \"goal\", \"lakh\", \"purchase\", \"Italy\", \"October\", \"Data\", \"manufactured\", \"secured\", \"Production\", \"Defense\", \"Spain\", \"produce\", \"94.5\", \"quarter\", \"lift\", \"dos\", \"BioNTech\", \"\\u092d\\u093e\\u0930\\u0924\", \"recorded\", \"300\", \"7-day\", \"capitalism\", \"preventing\", \"per\", \"confirmed\", \"June\", \"Pfizer\", \"promised\", \"Moderna\", \"reported\", \"administered\", \"100\", \"candidate\", \"trial\", \"data\", \"news\", \"Trump\", \"week\", \"announced\", \"effective\", \"Canada\", \"case\", \"Biden\", \"administration\", \"vaccine\", \"Oxford\", \"new\", \"supply\", \"U.S.\", \"coronavirus\", \"day\", \"plan\", \"President\", \"http\", \"The\", \"world\", \"country\", \"say\", \"amp\", \"month\", \"India\", \"COVID\", \"Covid\", \"COVID-19\", \"dose\", \"people\", \"This\", \"year\", \"dad\", \"Harris\", \"Cuomo\", \"Kamala\", \"receives\", \"authorization\", \"Bush\", \"boy\", \"Marco\", \"Rubio\", \"Anthony\", \"Never\", \"relieved\", \"ako\", \"text\", \"Margaret\", \"NYGovCuomo\", \"Publix\", \"County\", \"post-vaccine\", \"Center\", \"Keenan\", \"Yorkers\", \"Mike\", \"NBA\", \"Her\", \"Tony\", \"coverage\", \"enter\", \"gay\", \"urge\", \"excited\", \"older\", \"Hospital\", \"emergency\", \"aged\", \"first\", \"York\", \"got\", \"DeSantis\", \"appointment\", \"receive\", \"http\", \"Got\", \"Fauci\", \"FDA\", \"mom\", \"Ron\", \"dose\", \"second\", \"vaccine\", \"old\", \"today\", \"Johnson\", \"COVID-19\", \"eligible\", \"received\", \"get\", \"Dr.\", \"year\", \"rollout\", \"The\", \"said\", \"shot\", \"Trump\", \"coronavirus\", \"worker\", \"use\", \"Biden\", \"Covid-19\", \"say\", \"one\", \"like\", \"day\", \"COVID\", \"amp\", \"getting\", \"Vaccine\", \"take\", \"people\", \"This\", \"would\", \"THE\", \"VACCINE\", \"FOR\", \"que\", \"hai\", \"ARE\", \"GET\", \"vaccin\\u00e9\", \"yung\", \"vaccin\\u00e9s\", \"est\", \"HAVE\", \"pour\", \"de\", \"symptomatic\", \"FIRST\", \"pa\", \"para\", \"Hoax\", \"Pune\", \"YOU\", \"000\", \"B.1.351\", \"Oxygen\", \"\\u00e9t\\u00e9\", \"CAN\", \"HCWs\", \"certificate\", \"Slaoui\", \"qui\", \"ang\", \"Free\", \"mga\", \"YOUR\", \"selling\", \"raw\", \"AND\", \"base\", \"material\", \"VACCINES\", \"Vaccine\", \"FREE\", \"TRUMP\", \"India\", \"THIS\", \"Modi\", \"WILL\", \"Indian\", \"ALL\", \"Africa\", \"http\", \"vaccine\", \"passport\", \"amp\", \"Covid-19\", \"NOT\", \"COVID19\", \"...\", \"Covid\", \"COVID\", \"le\", \"trial\", \"Vaccines\", \"first\"], \"Freq\": [5057.0, 978.0, 823.0, 875.0, 16850.0, 2480.0, 858.0, 1172.0, 1091.0, 580.0, 634.0, 784.0, 190.0, 769.0, 536.0, 143.0, 597.0, 368.0, 707.0, 2100.0, 721.0, 459.0, 537.0, 317.0, 782.0, 2253.0, 956.0, 429.0, 1457.0, 899.0, 190.76294503680845, 148.65885712328148, 124.00419121818321, 102.15161323638993, 140.12454556561815, 629.0694324498547, 75.60668583824567, 280.4272977131793, 62.650708110117385, 62.02768287017365, 151.28690047193254, 88.02625597415965, 80.84789170789898, 50.149598966320845, 151.80748170111193, 48.14946543561256, 44.62841139798873, 43.003527417330254, 42.42740733889888, 48.51034615097373, 48.83349215937527, 40.514940215693265, 176.3402685078368, 44.180033563119785, 47.67803965958499, 37.317428568117556, 39.37444286511054, 118.4283566593039, 42.179206364529975, 33.38990992577548, 134.56616831509044, 57.91890633300491, 170.99402150183894, 75.17024487150456, 97.61135876101335, 123.0418591597887, 242.63371156312814, 503.2221574125199, 670.7560313941178, 1207.5926737090556, 271.8318773183344, 798.9471771713073, 78.52888565841639, 1614.9495995773693, 373.22998556047145, 195.27890462042987, 357.40104604483395, 387.72863523837157, 171.40089074615474, 1707.4422178816214, 542.2827609799726, 328.5525879973258, 376.8946329785456, 384.9263821560471, 317.1025425951016, 7649.859772426232, 361.9045030906861, 627.1366755411146, 1229.8661511938635, 373.2495734201734, 498.0444882176335, 476.51458967001196, 613.4552326912537, 399.9737891918379, 578.0500276367882, 510.9313179933104, 698.9326225506674, 1082.0759149013634, 530.5137935112683, 435.9628974435245, 385.7698492681725, 573.6726529863535, 1038.7089220300181, 516.2132355612482, 406.8887000482872, 398.38882414617075, 388.14420836301025, 392.3700330972346, 119.2903766125204, 115.26932669654519, 101.4043505036896, 79.7675753482764, 69.31260013902636, 968.310580236403, 47.30333178972072, 46.401781399150835, 53.89245707405969, 48.97311340449523, 35.60850768430505, 37.05721084573176, 31.75886070831359, 30.471988806005808, 30.61732449085325, 26.58678077011492, 26.244614418134198, 25.44071357946413, 26.963113491809885, 54.08524054378588, 25.05783218557984, 22.843765056420597, 22.909096026110404, 799.9496601365014, 39.4124602676472, 21.64689432887188, 21.76092618071342, 30.28088557217108, 20.287779362876982, 20.341922132620997, 67.23726810512409, 166.75325529570986, 48.328068013905984, 42.66206244042894, 673.162911094238, 50.495676148690016, 291.1276764532676, 76.29814781941982, 186.82386180973396, 241.75267988607064, 57.95444622071612, 318.3319793117217, 166.4621969053883, 289.989722536486, 639.4923431213622, 441.9706459393701, 134.16662826337463, 330.31111726507436, 134.37078636371436, 223.85344787829519, 426.3633689618741, 140.99654173443986, 4078.0389864403014, 132.37118293902122, 278.71235681411423, 160.7382184738922, 127.23569296921731, 359.05934923817443, 378.23918530201087, 206.98610725653486, 240.6367389473726, 1134.5377895447016, 641.2581388899006, 243.49089335531218, 278.004543285546, 330.9218169349273, 501.70537288354285, 233.87363845181156, 230.51326106416892, 281.1040876498584, 256.78794037732723, 259.5650304829192, 221.72474003625666, 268.8025331958952, 233.08772227287295, 226.30632797305546, 61.90211371461676, 64.79899772398008, 72.33351370823445, 50.991656116543375, 47.654827822049896, 41.89268681302504, 40.40220494227222, 34.01051870447091, 33.302448885451625, 32.44738078630827, 34.02064243744384, 28.53106313045191, 27.934956898464833, 24.375942791432024, 24.341691600674032, 22.937831982313103, 22.704591062195533, 22.109846579335183, 22.591124474911616, 21.11480965058419, 21.199630951132622, 20.03053953067807, 22.06035350937269, 21.130168503376563, 19.768675394313295, 19.181975604430125, 24.79858822785021, 19.088763104238556, 19.358861739779698, 17.414544418574806, 34.46225083739014, 52.07543627160973, 57.122784790885945, 44.781832909198236, 109.45424314061337, 39.982062299224715, 786.3672597967737, 61.17612707321373, 519.405952992485, 81.82613224067187, 104.46454715081589, 184.5731275091398, 2473.7673945049924, 67.68824975849702, 184.3687547876893, 141.0705265850966, 72.60917410682154, 61.53546552105647, 335.0640182621506, 182.47259968600378, 4509.238198252673, 122.79413180633074, 368.5197003406647, 241.67234101854527, 429.35207514485734, 136.76197883271738, 174.2731131322386, 696.6491358732154, 142.76520461339368, 306.8886563630733, 161.32319233799564, 524.44127309565, 209.62904659506256, 221.91598757783734, 302.5325422943583, 254.1175538868563, 158.01323707002894, 142.82897066812527, 213.76791643356364, 153.4316332366794, 224.91029955065326, 236.86544164085808, 207.74632800664043, 210.60918815127502, 214.54199025482592, 247.38368900584808, 183.84236481407348, 188.98745469773584, 186.9609777768688, 213.0668694439143, 185.22814428843742, 183.08847224729226, 142.870093877129, 189.55723171463794, 49.476770897775594, 48.203354866002776, 34.23662294940238, 39.7594929318808, 28.257271541383307, 24.900805336831908, 25.826976533859025, 24.071841133215077, 20.61014820366361, 20.480823404631316, 19.222519035446467, 18.973308262066983, 22.51472312016552, 17.234855599679435, 16.226949588631307, 15.752945986203763, 15.641443794726102, 15.84896186037837, 65.49208298612797, 16.46596869341708, 14.999557767919011, 14.328452207814115, 13.215360118268025, 14.589278160980692, 13.333714779829284, 13.182864123452493, 13.573473474229495, 12.654746772425373, 66.23970293559186, 26.3921308008828, 23.9070142654505, 19.017635923474316, 39.08286298196769, 50.503674730461036, 62.74074599980371, 16.70117409596161, 47.851893398473194, 29.834398236905212, 323.5639422731948, 29.42749494050067, 21.75347952353864, 192.13607201497382, 32.371234795410786, 59.60403069079978, 25.32002805785354, 40.16184382004928, 43.96902141408126, 50.227094723249266, 410.74807378026287, 613.1661839338087, 91.78181641200524, 106.68779356139767, 59.34602083333358, 43.19035107148549, 53.58067856062946, 58.33726654745886, 47.10940904618865, 47.952933533756166, 37.05945183121651, 39.67543596552198, 38.13768335986793, 38.61414872653182], \"Total\": [5057.0, 978.0, 823.0, 875.0, 16850.0, 2480.0, 858.0, 1172.0, 1091.0, 580.0, 634.0, 784.0, 190.0, 769.0, 536.0, 143.0, 597.0, 368.0, 707.0, 2100.0, 721.0, 459.0, 537.0, 317.0, 782.0, 2253.0, 956.0, 429.0, 1457.0, 899.0, 191.4166951538386, 149.30294999189243, 124.64131290783908, 102.89453141784671, 141.1441951971716, 634.0808275396968, 76.23595658201342, 282.94048827911416, 63.28036559042614, 62.658855683543685, 152.85019144169073, 89.06336213590691, 81.85722025615256, 50.786403104898284, 153.80715578475736, 48.82180770733388, 45.26515719126282, 43.63439710989634, 43.06169352066449, 49.23911145128391, 49.570136095473174, 41.14836999176235, 179.11578577044165, 44.889730220011515, 48.449153701275165, 37.95255773434024, 40.07179007014998, 120.60148758563007, 42.96351352863703, 34.036718516777455, 137.62210438637567, 59.16567071322937, 177.33928174229175, 77.09689708922261, 101.38199663380487, 128.87721380852753, 262.513922183511, 575.5941916291306, 782.6951627865507, 1457.6961385166414, 303.35965897048214, 961.9912586660922, 82.05341504086688, 2100.653620176422, 439.1324059476738, 219.9759446025772, 426.6415596770401, 475.5672364295859, 192.4642010293302, 2480.6181505052814, 699.0908523616973, 401.9290886665062, 471.36022634704136, 483.71258319037685, 391.17207008976897, 16850.303141053017, 460.28720317016985, 894.5934709395892, 2085.643006644652, 478.887522624678, 685.194767165091, 657.3192523034946, 913.6188592271247, 536.7067783329247, 866.5272675315443, 738.205682654572, 1142.5067574615096, 2253.812572168229, 825.102763335062, 622.1417643084251, 517.2738024894885, 1004.5218896794582, 5057.762179859975, 1059.8122469996888, 638.6924005272282, 596.1718253994429, 662.2148992976995, 852.3418772749135, 119.95380872847554, 115.92043580515566, 102.05433783532102, 80.45233098573661, 69.97018887649187, 978.1424740664633, 47.954992942954014, 47.068523631595106, 54.66717590228146, 49.751469375885335, 36.259633824321256, 37.76929154091537, 32.405869791942216, 31.136801626810463, 31.33217948675004, 27.224207343360053, 26.882810731058505, 26.078429162533844, 27.65051158553066, 55.5015757228133, 25.730637914573485, 23.480352085845134, 23.56093534719779, 823.0880290429627, 40.55287046952385, 22.287900729611806, 22.41026222558026, 31.21511390369541, 20.921997364996464, 20.98553773518434, 69.3875101829755, 177.95054841250885, 50.286693744813704, 44.44255492801263, 858.6100457267084, 54.88161508080412, 368.42672288230676, 87.43795586815085, 237.39462112823736, 317.1335569964792, 64.76412074020537, 459.29253925416583, 222.53008193054052, 429.7430939016266, 1091.8326272936888, 707.8625410124015, 174.88027405478968, 537.3429862847389, 180.7654699418752, 338.006242976362, 769.7836563708914, 199.27151646019064, 16850.303141053017, 187.19287407752685, 511.77617811904815, 243.9001527593487, 179.33147924657308, 811.7845733776065, 899.2286581177901, 367.757769241642, 463.3449747480299, 5057.762179859975, 2253.812572168229, 515.1851423639333, 654.2941852278993, 934.4896845810945, 2085.643006644652, 504.89685184285764, 580.0980365816961, 1059.8122469996888, 852.3418772749135, 956.4045338164458, 597.4409667809066, 2100.653620176422, 1004.5218896794582, 910.461562851237, 62.6133564986536, 65.55847496935428, 73.29395345493639, 51.68628609443102, 48.314785424556156, 42.54753546857443, 41.05645899095814, 34.66329226077048, 33.95258853411077, 33.10138052355715, 34.71014041223197, 29.201937321858296, 28.597762085292498, 25.030991476434625, 24.99638372063566, 23.583839423402818, 23.36027555297366, 22.774747077632927, 23.282519852464194, 21.76833420254509, 21.863616485443114, 20.67587804282821, 22.780856362972767, 21.823260089889704, 20.4401433007266, 19.844077328129462, 25.711336687569865, 19.79140108558355, 20.080268755610565, 18.076970088566455, 35.859538734306625, 56.96056217911938, 63.22072177518586, 49.08076938179271, 128.52809135872738, 43.654204331432084, 1172.1166690620041, 70.7915542875105, 784.2937265816552, 99.60552479569073, 131.7418167478922, 251.67433782772594, 5057.762179859975, 81.26056971661467, 258.388245165606, 192.35553372838584, 89.49134489080971, 74.6061492250201, 597.4409667809066, 284.76209752036846, 16850.303141053017, 177.12571137499822, 721.2886854910676, 433.5795161853648, 956.4045338164458, 220.41600222064923, 330.75996590436154, 2480.6181505052814, 263.9898949972469, 910.461562851237, 334.5995788147154, 2253.812572168229, 539.5988828176368, 630.6313937317257, 1091.8326272936888, 811.7845733776065, 386.68798595291133, 325.9987443067041, 769.7836563708914, 390.7539272840821, 934.4896845810945, 1142.5067574615096, 825.102763335062, 899.2286581177901, 1059.8122469996888, 2085.643006644652, 738.205682654572, 875.421730052483, 913.6188592271247, 2100.653620176422, 1004.5218896794582, 866.5272675315443, 143.55754435236042, 190.8697582511877, 50.158354048243005, 48.88325437805002, 34.915877213909624, 40.59453431570883, 28.986149732348768, 25.578148589513503, 26.538681297623736, 24.748758974366897, 21.287375966188904, 21.159534505488118, 19.900796841513746, 19.650272076817856, 23.374551561350508, 17.94408620462788, 16.903648795673824, 16.4327271363731, 16.318671183994915, 16.543642011718447, 68.36910117431643, 17.191113532978942, 15.693784813984427, 15.025000179350258, 13.891967111311807, 15.34254223844556, 14.02634034508602, 13.875875955298882, 14.290561803737095, 13.331791932308047, 69.94333183270238, 27.984000730371505, 25.403747870129948, 20.240563475788903, 43.87683096745959, 58.49584937955333, 79.272359599505, 17.970984592603326, 68.15083691885671, 37.698926083387846, 875.421730052483, 37.743934306465846, 25.308528208177854, 580.0980365816961, 46.32031970234788, 118.58880264865769, 32.253911263735276, 70.84782311701366, 84.7604673353643, 110.58075961571149, 5057.762179859975, 16850.303141053017, 536.7067783329247, 2085.643006644652, 390.7539272840821, 168.72679076947315, 579.9785042966392, 894.5934709395892, 852.3418772749135, 1059.8122469996888, 186.38878684758242, 459.29253925416583, 338.0083103279308, 1172.1166690620041], \"Category\": [\"Default\", \"Default\", \"Default\", \"Default\", \"Default\", \"Default\", \"Default\", \"Default\", \"Default\", \"Default\", \"Default\", \"Default\", \"Default\", \"Default\", \"Default\", \"Default\", \"Default\", \"Default\", \"Default\", \"Default\", \"Default\", \"Default\", \"Default\", \"Default\", \"Default\", \"Default\", \"Default\", \"Default\", \"Default\", \"Default\", \"Topic1\", \"Topic1\", \"Topic1\", \"Topic1\", \"Topic1\", \"Topic1\", \"Topic1\", \"Topic1\", \"Topic1\", \"Topic1\", \"Topic1\", \"Topic1\", \"Topic1\", \"Topic1\", \"Topic1\", \"Topic1\", \"Topic1\", \"Topic1\", \"Topic1\", \"Topic1\", \"Topic1\", \"Topic1\", \"Topic1\", \"Topic1\", \"Topic1\", \"Topic1\", \"Topic1\", \"Topic1\", \"Topic1\", \"Topic1\", \"Topic1\", \"Topic1\", \"Topic1\", \"Topic1\", \"Topic1\", \"Topic1\", \"Topic1\", \"Topic1\", \"Topic1\", \"Topic1\", \"Topic1\", \"Topic1\", \"Topic1\", \"Topic1\", \"Topic1\", \"Topic1\", \"Topic1\", \"Topic1\", \"Topic1\", \"Topic1\", \"Topic1\", \"Topic1\", \"Topic1\", \"Topic1\", \"Topic1\", \"Topic1\", \"Topic1\", \"Topic1\", \"Topic1\", \"Topic1\", \"Topic1\", \"Topic1\", \"Topic1\", \"Topic1\", \"Topic1\", \"Topic1\", \"Topic1\", \"Topic1\", \"Topic1\", \"Topic1\", \"Topic1\", \"Topic1\", \"Topic1\", \"Topic1\", \"Topic1\", \"Topic1\", \"Topic1\", \"Topic1\", \"Topic2\", \"Topic2\", \"Topic2\", \"Topic2\", \"Topic2\", \"Topic2\", \"Topic2\", \"Topic2\", \"Topic2\", \"Topic2\", \"Topic2\", \"Topic2\", \"Topic2\", \"Topic2\", \"Topic2\", \"Topic2\", \"Topic2\", \"Topic2\", \"Topic2\", \"Topic2\", \"Topic2\", \"Topic2\", \"Topic2\", \"Topic2\", \"Topic2\", \"Topic2\", \"Topic2\", \"Topic2\", \"Topic2\", \"Topic2\", \"Topic2\", \"Topic2\", \"Topic2\", \"Topic2\", \"Topic2\", \"Topic2\", \"Topic2\", \"Topic2\", \"Topic2\", \"Topic2\", \"Topic2\", \"Topic2\", \"Topic2\", \"Topic2\", \"Topic2\", \"Topic2\", \"Topic2\", \"Topic2\", \"Topic2\", \"Topic2\", \"Topic2\", \"Topic2\", \"Topic2\", \"Topic2\", \"Topic2\", \"Topic2\", \"Topic2\", \"Topic2\", \"Topic2\", \"Topic2\", \"Topic2\", \"Topic2\", \"Topic2\", \"Topic2\", \"Topic2\", \"Topic2\", \"Topic2\", \"Topic2\", \"Topic2\", \"Topic2\", \"Topic2\", \"Topic2\", \"Topic2\", \"Topic2\", \"Topic2\", \"Topic2\", \"Topic3\", \"Topic3\", \"Topic3\", \"Topic3\", \"Topic3\", \"Topic3\", \"Topic3\", \"Topic3\", \"Topic3\", \"Topic3\", \"Topic3\", \"Topic3\", \"Topic3\", \"Topic3\", \"Topic3\", \"Topic3\", \"Topic3\", \"Topic3\", \"Topic3\", \"Topic3\", \"Topic3\", \"Topic3\", \"Topic3\", \"Topic3\", \"Topic3\", \"Topic3\", \"Topic3\", \"Topic3\", \"Topic3\", \"Topic3\", \"Topic3\", \"Topic3\", \"Topic3\", \"Topic3\", \"Topic3\", \"Topic3\", \"Topic3\", \"Topic3\", \"Topic3\", \"Topic3\", \"Topic3\", \"Topic3\", \"Topic3\", \"Topic3\", \"Topic3\", \"Topic3\", \"Topic3\", \"Topic3\", \"Topic3\", \"Topic3\", \"Topic3\", \"Topic3\", \"Topic3\", \"Topic3\", \"Topic3\", \"Topic3\", \"Topic3\", \"Topic3\", \"Topic3\", \"Topic3\", \"Topic3\", \"Topic3\", \"Topic3\", \"Topic3\", \"Topic3\", \"Topic3\", \"Topic3\", \"Topic3\", \"Topic3\", \"Topic3\", \"Topic3\", \"Topic3\", \"Topic3\", \"Topic3\", \"Topic3\", \"Topic3\", \"Topic3\", \"Topic3\", \"Topic3\", \"Topic3\", \"Topic3\", \"Topic3\", \"Topic4\", \"Topic4\", \"Topic4\", \"Topic4\", \"Topic4\", \"Topic4\", \"Topic4\", \"Topic4\", \"Topic4\", \"Topic4\", \"Topic4\", \"Topic4\", \"Topic4\", \"Topic4\", \"Topic4\", \"Topic4\", \"Topic4\", \"Topic4\", \"Topic4\", \"Topic4\", \"Topic4\", \"Topic4\", \"Topic4\", \"Topic4\", \"Topic4\", \"Topic4\", \"Topic4\", \"Topic4\", \"Topic4\", \"Topic4\", \"Topic4\", \"Topic4\", \"Topic4\", \"Topic4\", \"Topic4\", \"Topic4\", \"Topic4\", \"Topic4\", \"Topic4\", \"Topic4\", \"Topic4\", \"Topic4\", \"Topic4\", \"Topic4\", \"Topic4\", \"Topic4\", \"Topic4\", \"Topic4\", \"Topic4\", \"Topic4\", \"Topic4\", \"Topic4\", \"Topic4\", \"Topic4\", \"Topic4\", \"Topic4\", \"Topic4\", \"Topic4\", \"Topic4\", \"Topic4\", \"Topic4\", \"Topic4\", \"Topic4\", \"Topic4\"], \"logprob\": [30.0, 29.0, 28.0, 27.0, 26.0, 25.0, 24.0, 23.0, 22.0, 21.0, 20.0, 19.0, 18.0, 17.0, 16.0, 15.0, 14.0, 13.0, 12.0, 11.0, 10.0, 9.0, 8.0, 7.0, 6.0, 5.0, 4.0, 3.0, 2.0, 1.0, -6.6116, -6.861, -7.0424, -7.2362, -6.9201, -5.4184, -7.5371, -6.2264, -7.7251, -7.7351, -6.8435, -7.385, -7.4701, -7.9477, -6.8401, -7.9884, -8.0643, -8.1014, -8.1149, -7.9809, -7.9743, -8.161, -6.6903, -8.0744, -7.9982, -8.2432, -8.1896, -7.0884, -8.1207, -8.3544, -6.9606, -7.8036, -6.721, -7.5429, -7.2817, -7.0501, -6.3711, -5.6416, -5.3543, -4.7663, -6.2575, -5.1794, -7.4992, -4.4756, -5.9405, -6.5882, -5.9838, -5.9024, -6.7187, -4.4199, -5.5669, -6.068, -5.9307, -5.9096, -6.1034, -2.9202, -5.9713, -5.4215, -4.748, -5.9404, -5.652, -5.6962, -5.4436, -5.8713, -5.503, -5.6264, -5.3131, -4.876, -5.5888, -5.7851, -5.9074, -5.5106, -4.9169, -5.6162, -5.8541, -5.8752, -5.9013, -5.8905, -6.5217, -6.556, -6.6841, -6.9241, -7.0646, -4.4277, -7.4467, -7.4659, -7.3163, -7.412, -7.7307, -7.6908, -7.8451, -7.8864, -7.8817, -8.0228, -8.0358, -8.0669, -8.0088, -7.3127, -8.0821, -8.1746, -8.1717, -4.6187, -7.6292, -8.2284, -8.2231, -7.8927, -8.2932, -8.2906, -7.095, -6.1867, -7.4252, -7.5499, -4.7913, -7.3814, -5.6295, -6.9686, -6.0731, -5.8153, -7.2436, -5.5402, -6.1885, -5.6334, -4.8426, -5.212, -6.4042, -5.5032, -6.4026, -5.8923, -5.248, -6.3545, -2.9899, -6.4176, -5.6731, -6.2235, -6.4572, -5.4198, -5.3677, -5.9706, -5.82, -4.2693, -4.8398, -5.8082, -5.6756, -5.5014, -5.0852, -5.8485, -5.8629, -5.6645, -5.755, -5.7442, -5.9018, -5.7093, -5.8518, -5.8814, -7.1107, -7.065, -6.955, -7.3046, -7.3723, -7.5012, -7.5374, -7.7096, -7.7307, -7.7567, -7.7093, -7.8853, -7.9064, -8.0427, -8.0441, -8.1035, -8.1137, -8.1403, -8.1187, -8.1863, -8.1823, -8.239, -8.1425, -8.1856, -8.2522, -8.2823, -8.0255, -8.2872, -8.2731, -8.379, -7.6964, -7.2836, -7.1911, -7.4345, -6.5408, -7.5479, -4.5689, -7.1225, -4.9836, -6.8317, -6.5874, -6.0183, -3.4228, -7.0214, -6.0194, -6.287, -6.9512, -7.1167, -5.422, -6.0297, -2.8224, -6.4258, -5.3268, -5.7487, -5.174, -6.3181, -6.0757, -4.69, -6.2751, -5.5098, -6.1529, -4.974, -5.891, -5.834, -5.5241, -5.6985, -6.1736, -6.2746, -5.8714, -6.203, -5.8206, -5.7688, -5.9, -5.8863, -5.8678, -5.7254, -6.0222, -5.9946, -6.0054, -5.8747, -6.0147, -6.0263, -5.359, -5.0762, -6.4194, -6.4455, -6.7876, -6.6381, -6.9796, -7.106, -7.0695, -7.1399, -7.2951, -7.3014, -7.3648, -7.3779, -7.2067, -7.474, -7.5342, -7.5639, -7.571, -7.5578, -6.139, -7.5196, -7.6129, -7.6587, -7.7395, -7.6406, -7.7306, -7.742, -7.7128, -7.7829, -6.1276, -7.0478, -7.1467, -7.3755, -6.6552, -6.3989, -6.1819, -7.5054, -6.4528, -6.9253, -4.5415, -6.939, -7.2411, -5.0627, -6.8436, -6.2332, -7.0893, -6.628, -6.5374, -6.4044, -4.3029, -3.9023, -5.8015, -5.651, -6.2375, -6.5553, -6.3397, -6.2547, -6.4684, -6.4507, -6.7084, -6.6402, -6.6797, -6.6673], \"loglift\": [30.0, 29.0, 28.0, 27.0, 26.0, 25.0, 24.0, 23.0, 22.0, 21.0, 20.0, 19.0, 18.0, 17.0, 16.0, 15.0, 14.0, 13.0, 12.0, 11.0, 10.0, 9.0, 8.0, 7.0, 6.0, 5.0, 4.0, 3.0, 2.0, 1.0, 0.8382, 0.8373, 0.8365, 0.8344, 0.8343, 0.8337, 0.8333, 0.8327, 0.8316, 0.8315, 0.8313, 0.8299, 0.8292, 0.829, 0.8285, 0.8277, 0.8274, 0.827, 0.8268, 0.8267, 0.8266, 0.8261, 0.826, 0.8257, 0.8256, 0.8247, 0.824, 0.8234, 0.8232, 0.8224, 0.8191, 0.8203, 0.8052, 0.8163, 0.8037, 0.7953, 0.7628, 0.7072, 0.6873, 0.6534, 0.7319, 0.6559, 0.7977, 0.5787, 0.679, 0.7225, 0.6645, 0.6374, 0.7257, 0.4681, 0.5876, 0.64, 0.6179, 0.6132, 0.6317, 0.0519, 0.6011, 0.4864, 0.3134, 0.5924, 0.5226, 0.5199, 0.4433, 0.5475, 0.4368, 0.4736, 0.3502, 0.1079, 0.3999, 0.486, 0.5483, 0.2814, -0.7413, 0.1223, 0.3907, 0.4385, 0.3074, 0.0658, 1.3955, 1.3954, 1.3946, 1.3925, 1.3916, 1.3909, 1.3873, 1.3867, 1.3867, 1.3852, 1.3829, 1.382, 1.3808, 1.3794, 1.3779, 1.3773, 1.377, 1.3763, 1.3758, 1.3752, 1.3745, 1.3735, 1.373, 1.3725, 1.3725, 1.3718, 1.3716, 1.3706, 1.3702, 1.3699, 1.3695, 1.336, 1.3613, 1.3601, 1.1577, 1.3177, 1.1655, 1.2647, 1.1615, 1.1296, 1.2899, 1.0344, 1.1107, 1.0077, 0.8661, 0.93, 1.136, 0.9144, 1.1044, 0.9889, 0.8102, 1.0551, -0.0177, 1.0545, 0.7933, 0.984, 1.0578, 0.5853, 0.535, 0.8262, 0.7458, -0.0937, 0.1441, 0.6516, 0.5451, 0.3629, -0.0238, 0.6314, 0.4781, 0.0739, 0.2013, 0.0968, 0.4098, -0.655, -0.0598, 0.009, 1.4565, 1.4563, 1.4548, 1.4544, 1.4542, 1.4525, 1.4519, 1.449, 1.4486, 1.448, 1.4479, 1.4447, 1.4445, 1.4415, 1.4414, 1.4402, 1.4395, 1.4383, 1.4378, 1.4375, 1.4371, 1.4363, 1.4358, 1.4357, 1.4346, 1.434, 1.4318, 1.4318, 1.4314, 1.4306, 1.4282, 1.3783, 1.3665, 1.3763, 1.3073, 1.3801, 1.0688, 1.322, 1.0559, 1.2714, 1.236, 1.1579, 0.7528, 1.2852, 1.1304, 1.1579, 1.2589, 1.2754, 0.8896, 1.0229, 0.1497, 1.1016, 0.7964, 0.8835, 0.6671, 0.9907, 0.8272, 0.198, 0.8533, 0.3805, 0.7384, 0.0099, 0.5225, 0.4235, 0.1845, 0.3065, 0.573, 0.6427, 0.1868, 0.5331, 0.0437, -0.1055, 0.0888, 0.0164, -0.1294, -0.6639, 0.0778, -0.0651, -0.1185, -0.8204, -0.2227, -0.0866, 2.3786, 2.3765, 2.3697, 2.3694, 2.3637, 2.3626, 2.3579, 2.3565, 2.3562, 2.3556, 2.351, 2.3508, 2.3487, 2.3483, 2.3459, 2.343, 2.3425, 2.3411, 2.341, 2.3405, 2.3404, 2.3403, 2.3381, 2.3359, 2.3334, 2.333, 2.3327, 2.3321, 2.3319, 2.3312, 2.329, 2.3248, 2.3226, 2.321, 2.2677, 2.2364, 2.1495, 2.3101, 2.0297, 2.1494, 1.388, 2.1345, 2.232, 1.2784, 2.025, 1.6954, 2.1413, 1.8157, 1.727, 1.5942, -0.1273, -0.9301, 0.6173, -0.5896, 0.4987, 1.0207, 0.0016, -0.3468, -0.5122, -0.7123, 0.768, -0.0656, 0.2015, -1.0296]}, \"token.table\": {\"Topic\": [1, 2, 3, 4, 1, 2, 3, 4, 4, 1, 2, 3, 4, 2, 1, 2, 2, 2, 1, 2, 3, 4, 1, 2, 3, 4, 4, 2, 3, 4, 3, 4, 1, 2, 3, 1, 2, 3, 1, 2, 3, 4, 4, 1, 2, 3, 4, 1, 2, 3, 4, 1, 2, 3, 4, 1, 2, 3, 4, 3, 3, 1, 2, 3, 4, 1, 2, 3, 4, 2, 3, 2, 1, 3, 4, 2, 1, 3, 2, 1, 2, 3, 1, 2, 3, 4, 4, 1, 4, 1, 2, 3, 1, 4, 4, 1, 2, 4, 1, 2, 3, 4, 4, 3, 3, 4, 1, 3, 4, 1, 2, 3, 4, 1, 3, 4, 2, 1, 2, 3, 4, 1, 2, 3, 3, 3, 3, 3, 1, 2, 3, 1, 2, 3, 4, 3, 1, 2, 3, 4, 3, 3, 2, 2, 1, 2, 3, 4, 4, 2, 1, 2, 3, 4, 1, 2, 3, 4, 2, 3, 4, 1, 3, 4, 3, 4, 2, 2, 4, 1, 2, 3, 4, 2, 4, 1, 2, 3, 4, 1, 2, 3, 4, 1, 2, 3, 4, 1, 2, 3, 4, 3, 1, 2, 3, 4, 1, 2, 3, 2, 4, 2, 4, 1, 2, 3, 4, 1, 2, 3, 4, 1, 4, 2, 1, 4, 3, 4, 2, 3, 3, 1, 2, 3, 4, 2, 3, 1, 2, 3, 1, 3, 4, 3, 1, 2, 3, 4, 3, 4, 2, 3, 1, 2, 3, 3, 1, 4, 1, 1, 2, 3, 3, 1, 2, 1, 2, 3, 4, 2, 1, 2, 3, 4, 4, 1, 1, 2, 2, 3, 1, 2, 3, 1, 2, 3, 4, 1, 2, 3, 4, 3, 3, 1, 2, 3, 4, 1, 2, 3, 4, 4, 1, 1, 1, 3, 1, 1, 2, 3, 4, 1, 2, 3, 4, 1, 2, 1, 2, 3, 4, 1, 2, 3, 1, 2, 3, 4, 3, 4, 2, 3, 1, 2, 3, 4, 1, 2, 3, 1, 2, 3, 4, 1, 2, 3, 4, 2, 1, 2, 3, 1, 2, 3, 4, 1, 4, 1, 2, 3, 4, 1, 2, 3, 4, 1, 3, 1, 2, 3, 4, 2, 1, 2, 4, 1, 2, 3, 4, 2, 1, 2, 3, 4, 1, 2, 3, 4, 1, 2, 1, 2, 3, 4, 1, 3, 2, 3, 4, 1, 4, 3, 4, 1, 1, 2, 3, 1, 1, 3, 4, 1, 2, 3, 4, 1, 2, 3, 4, 1, 2, 3, 4, 1, 2, 3, 4, 1, 2, 3, 4, 1, 2, 3, 1, 3, 1, 2, 3, 4, 2, 4, 4, 1, 2, 3, 4, 1, 1, 2, 3, 4, 1, 2, 4, 1, 1, 2, 3, 3, 4, 2, 4, 2, 3, 1, 2, 3, 1, 2, 3, 1, 2, 2, 4, 4, 1, 1, 2, 3, 4, 1, 2, 3, 4, 1, 2, 3, 4, 3, 2, 1, 3, 1, 1, 2, 1, 1, 2, 3, 1, 2, 3, 4, 1, 1, 2, 3, 4, 1, 2, 3, 4, 1, 2, 3, 1, 2, 3, 4, 2, 1, 4, 1, 2, 3, 4, 1, 1, 2, 3, 1, 2, 3, 4, 1, 2, 3, 4, 4, 1, 2, 3, 4, 3, 1, 2, 3, 4, 1, 2, 3, 4, 1, 2, 3, 4, 1, 2, 3, 4, 1, 1, 2, 4, 1, 2, 3, 4, 1, 2, 3, 4, 1, 3, 1, 2, 3, 4, 1, 2, 3, 4, 1, 2, 3, 4, 4, 4, 1, 2, 3, 4, 1, 2, 3, 4, 1, 1, 1, 2, 3, 4, 1, 2, 3, 4, 1, 2, 3, 4, 1, 2, 3, 1, 2, 3, 4, 1, 2, 3, 4, 1, 2, 3, 4, 4, 4, 2], \"Freq\": [0.8367679891997454, 0.11719439624646293, 0.03750220679886814, 0.007031663774787776, 0.7008770132666668, 0.0905439203741627, 0.14308175071472623, 0.06483391829261033, 0.9307134159346954, 0.21442070225559554, 0.7630854403802076, 0.012612982485623267, 0.012612982485623267, 0.9800856410490968, 0.03203576328714324, 0.9610728986142972, 0.9559316756946442, 0.9716043606458874, 0.34214063361942365, 0.0943836230674272, 0.0471918115337136, 0.5191099268708497, 0.012614737407239287, 0.012614737407239287, 0.1892210611085893, 0.794728456656075, 0.9853543260014992, 0.3978992381035192, 0.14469063203764332, 0.4521582251176354, 0.9795408372366677, 0.9557923839145411, 0.16757955164723085, 0.5534022403234135, 0.27800018645354574, 0.024659166870851137, 0.9617075079631944, 0.9742681415562213, 0.7864654883011538, 0.14121617883860496, 0.03258834896275499, 0.03910601875530599, 0.977673697544908, 0.48687869144821416, 0.26514130290106236, 0.2028661214367559, 0.045291041064950154, 0.24362076063173244, 0.27185149255043106, 0.44855496270821127, 0.03659539322794264, 0.3120805317078177, 0.350012972025895, 0.2448366602348625, 0.09310689896255334, 0.07191638980708055, 0.7412920180114456, 0.1438327796141611, 0.044256239881280336, 0.9604998337755278, 0.9878655809485204, 0.45990935146034684, 0.3015222023604825, 0.18302515007095435, 0.0551421926495824, 0.09980705829642654, 0.3557225923898279, 0.3915507671629041, 0.15099016511510682, 0.013643690275417248, 0.9823456998300419, 0.963490096367778, 0.02007920749478875, 0.8232475072863388, 0.15059405621091562, 0.958646697781813, 0.9627874715592749, 0.036561549552883855, 0.9943776522047969, 0.340922140224112, 0.11742873718830524, 0.5416874005783112, 0.010397413379456422, 0.2547366277966823, 0.7330176432516777, 0.9473873345311731, 0.9769060594147709, 0.21195458679646798, 0.7683353771371964, 0.25929972146007807, 0.02709101567493353, 0.7121066977411099, 0.03573470461336442, 0.9291023199474749, 0.9659785883446184, 0.9728017965911662, 0.012970690621215548, 0.012970690621215548, 0.11075482280503683, 0.04922436569112748, 0.8368142167491672, 0.9452003773907516, 0.926827645712619, 0.9914812696662736, 0.9574645213192673, 0.9804719893916691, 0.04074915746414382, 0.916856042943236, 0.04074915746414382, 0.09481156034261852, 0.39820855343899775, 0.17755619482344923, 0.3309785379233228, 0.3105247138456797, 0.11291807776206536, 0.5645903888103267, 0.9796318249686522, 0.19142970758912806, 0.24447649402948884, 0.5581444486333613, 0.004612764038292242, 0.022500956608362967, 0.9675411341596076, 0.986722085367535, 0.967310793697458, 0.9719435667429674, 0.9752440892714246, 0.9622760262903568, 0.02714243940224304, 0.7898449866052725, 0.18185434399502837, 0.295137476880463, 0.0084324993394418, 0.1939474848071614, 0.505949960366508, 0.9784667213800329, 0.5511869192549473, 0.18965571415223995, 0.005926741067257498, 0.2548498658920724, 0.9845774270874215, 0.9930847970929949, 0.9874754236023272, 0.9896688582015755, 0.09615750646867685, 0.7051550474369636, 0.1442362597030153, 0.0534208369270427, 0.9317803549341067, 0.9861342538576764, 0.022128788376705774, 0.7838249777643678, 0.19217105695560277, 0.0023293461449163974, 0.12733493016102007, 0.5201308164204379, 0.3474732839987158, 0.00647465746581458, 0.9671607727372582, 0.9659821874204783, 0.9671389158848236, 0.04021116263421772, 0.8310306944404996, 0.13403720878072575, 0.9667270516776987, 0.9796675730648244, 0.9764737956649212, 0.992048533193018, 0.9961162309171858, 0.04317759490547351, 0.15112158216915728, 0.10794398726368377, 0.6908415184875761, 0.11853711821261186, 0.8692722002258203, 0.4800754123751677, 0.2844069679597805, 0.2324949316863104, 0.002662155706331799, 0.8103850561908793, 0.12015172757404204, 0.05112839471235832, 0.015338518413707494, 0.7788885330644415, 0.10858499656662456, 0.10232047753393468, 0.008352692043586504, 0.5714161193472476, 0.23195114252248902, 0.18416721616592474, 0.01294148005490282, 0.9723337337061219, 0.13555191180432632, 0.5852545381281387, 0.2775150626804789, 0.0018317825919503558, 0.011152531660378967, 0.7081857604340644, 0.2788132915094742, 0.005239174655861322, 0.9954431846136511, 0.18568168187381265, 0.7957786366020542, 0.24902283381397278, 0.16563445368360574, 0.21589594307725163, 0.3701073309895742, 0.5059047212007842, 0.2307635570389542, 0.15088386421777775, 0.11242327137795205, 0.18602395073697953, 0.7750997947374146, 0.9920597623813046, 0.029252980741998127, 0.9507218741149391, 0.04940573918291193, 0.9387090444753268, 0.1271338098249361, 0.8616847110356781, 0.9657231339098409, 0.8158678106443706, 0.09041833983945344, 0.0841100835715846, 0.00841100835715846, 0.7877179319028679, 0.21061976788846734, 0.15556663867810233, 0.7075772920520139, 0.1354935240099601, 0.04581460206709006, 0.9162920413418011, 0.04581460206709006, 0.9588114007627205, 0.5897461819119293, 0.24069315717055975, 0.11842870482296466, 0.051303123141932055, 0.04289186576321109, 0.9436210467906441, 0.7662385064539529, 0.22872791237431428, 0.1973557116625689, 0.007590604294714188, 0.7894228466502756, 0.9871312060135929, 0.05564525387282285, 0.9459693158379885, 0.9753448265996552, 0.9642533696989709, 0.005638908594730824, 0.033833451568384944, 0.9808647067975955, 0.9882505090511761, 0.006501648085863, 0.030881296266227327, 0.8955575917205926, 0.061762592532454655, 0.015440648133113664, 0.953037289412318, 0.3195207255611336, 0.6627096530156845, 0.005917050473354326, 0.011834100946708653, 0.9368777900493983, 0.9913063269201928, 0.9918934307176203, 0.007084953076554431, 0.954526862385946, 0.019885976299707207, 0.8864605643689798, 0.0954649838551209, 0.018183806448594457, 0.22912482707833, 0.4422355533393574, 0.312890892891913, 0.016014100817302635, 0.3698642070549782, 0.42488532876563606, 0.15283644919627198, 0.05196439272673247, 0.960012882253191, 0.9902040629515398, 0.22468872327835102, 0.7459665612841254, 0.008987548931134041, 0.017975097862268082, 0.34473990258370196, 0.4203602683117398, 0.23464554659729392, 0.0011120642018829095, 0.9669077316448454, 0.98948503485491, 0.9907293798351045, 0.9809470695273335, 0.014532549178182719, 0.9955694694900978, 0.9969049174091549, 0.9719495020844756, 0.012149368776055944, 0.014579242531267134, 0.016738055399651224, 0.3715848298722571, 0.5607248558883159, 0.051887971738918785, 0.9895278601756804, 0.012216393335502227, 0.32381552275029996, 0.6141328879747069, 0.020471096265823562, 0.040942192531647124, 0.20869628128883005, 0.16786440016710244, 0.6215519681862982, 0.1400472053207515, 0.007780400295597305, 0.8480636322201063, 0.007780400295597305, 0.9462024752378511, 0.9865001695537605, 0.07022402600981212, 0.9129123381275576, 0.125414136561711, 0.17063147831525305, 0.6705817097789445, 0.033273138271474344, 0.982604627743783, 0.011165961678906626, 0.9404230862091413, 0.688134931066395, 0.029831274105983144, 0.2809783520523007, 0.0008062506515130579, 0.6922190007566114, 0.03251126422340249, 0.24925302571275243, 0.025738084176860306, 0.987795676449904, 0.6675927694726849, 0.13251213263402536, 0.19792951456727842, 0.25500650231093924, 0.07905201571639117, 0.6617418734968873, 0.0038250975346640886, 0.9941421347518483, 0.9737690332596094, 0.7462198900123961, 0.10246024396543262, 0.1449909112718386, 0.007732848601164726, 0.20542681981713204, 0.224407546190996, 0.489149135926453, 0.08126123478810517, 0.9878953933636613, 0.006542353598434843, 0.7752926506890963, 0.06293888677180856, 0.11729519807473412, 0.044343306589228755, 0.9848955340352304, 0.5526083502234886, 0.2467959622357328, 0.19850979571135027, 0.873879561877329, 0.005212005339228602, 0.11466411746302925, 0.005212005339228602, 0.9761921443723792, 0.6435562012344985, 0.0678703338401731, 0.2520898114063572, 0.0375710776615244, 0.7268006468590146, 0.1284306363927576, 0.1371872706922638, 0.005837756199670799, 0.9880606108908816, 0.9893981366061524, 0.8185523498474183, 0.07712803296434641, 0.10200804359800654, 0.004976002126732027, 0.9919870979865281, 0.00630834402535153, 0.24944667987336566, 0.044020002330593944, 0.7043200372895031, 0.9802981915158324, 0.016901692957169524, 0.03936427038688306, 0.9447424892851936, 0.9732532520190963, 0.008178767625478261, 0.9896308826828697, 0.0010223459531847826, 0.9884983955990139, 0.17878823946072037, 0.8157213425395367, 0.011174264966295023, 0.31689641045691813, 0.4634610002932428, 0.2178662821891312, 0.0019806025653557385, 0.8287049461688679, 0.08094965533768743, 0.06860140282854867, 0.021952448905135574, 0.8305688776298261, 0.07692377590063472, 0.08627937026692813, 0.006237062910862274, 0.2716031068715867, 0.5451601929292998, 0.1445944597733627, 0.03712560453640393, 0.23502413752138185, 0.6748217810019874, 0.081444008051964, 0.0069809149758826294, 0.2314740174180453, 0.07339420064474607, 0.6944220522541359, 0.09490559157701678, 0.9016031199816593, 0.6118125739169197, 0.17417840087191275, 0.20743859802333328, 0.00700214676872011, 0.9772985522138228, 0.9465411990868448, 0.9736667485085128, 0.7452859105719658, 0.022358577317158974, 0.06148608762218718, 0.17141575943155213, 0.9951438715233422, 0.768808329221057, 0.1280553811519903, 0.10139701184153879, 0.0019041692364608225, 0.056195387365814156, 0.9384629690090964, 0.005619538736581415, 0.9854610776837693, 0.3181441964945219, 0.562870501490308, 0.11692479016465336, 0.9647040423306594, 0.9547356395481285, 0.9655916435583347, 0.028823631150995066, 0.9729453496903856, 0.01801750647574788, 0.07288415244541656, 0.9110519055677071, 0.01822103811135414, 0.8884769171901261, 0.07793657168334439, 0.031174628673337756, 0.969541173122596, 0.9928395905601477, 0.9795423814732869, 0.9819313507398839, 0.9751127279819011, 0.9775736793967094, 0.03419046002773457, 0.017095230013867285, 0.10257138008320371, 0.8718567307072315, 0.09138794284121161, 0.1708557192248739, 0.735076931548876, 0.003973388819183113, 0.04535010746837849, 0.3748942217385955, 0.5260612466331904, 0.051396788464162284, 0.9934846978665011, 0.9816931091010632, 0.983167200357261, 0.9790975921993589, 0.9801796487604, 0.12580348992361032, 0.8691877485631259, 0.9749013560296005, 0.8966254805371682, 0.09559609902785984, 0.006592834415714471, 0.42438786236079673, 0.08069346678691205, 0.48117215380343853, 0.01195458767213512, 0.9845154794035328, 0.40585703005247586, 0.17605670253417902, 0.38917797402292204, 0.029651655163651203, 0.3649050445675714, 0.3542040168676426, 0.24077312324839753, 0.039593802489736485, 0.9896073966048526, 0.007068624261463234, 0.003534312130731617, 0.11237450587226099, 0.23177241836153828, 0.6391300021484844, 0.01755851654254078, 0.9917644124388166, 0.09116428675002812, 0.8888517958127742, 0.37898525569069913, 0.22517115610075011, 0.35202814545328537, 0.042814233906480655, 0.9979709041789939, 0.9543967964945356, 0.007759323548736062, 0.03879661774368031, 0.7998129221077551, 0.1527494174847702, 0.04455191343305798, 0.00424303937457695, 0.25010234438101175, 0.660106187628572, 0.06970065335208524, 0.02460023059485361, 0.9839760963812532, 0.6709581285554536, 0.1083602850358726, 0.20468053840109268, 0.01641822500543524, 0.9601388852175006, 0.8494021278048106, 0.025049392508989052, 0.1184153100424937, 0.004554435001634373, 0.7959271959821519, 0.0847610780136837, 0.0826937346474963, 0.035144837225185924, 0.5859125193520814, 0.265774751046305, 0.11325628595723224, 0.03473192769355122, 0.21073393088998119, 0.27173585825287044, 0.5115843453842306, 0.0055456297602626626, 0.9963942680647604, 0.978429058897114, 0.008291771685568763, 0.008291771685568763, 0.1545855722265709, 0.6923691826485852, 0.06531784741967785, 0.08709046322623712, 0.9666410531840208, 0.019727368432326958, 0.009863684216163479, 0.009863684216163479, 0.027886582909202495, 0.9481438189128848, 0.30981714428009516, 0.24846721471968028, 0.43865199635696644, 0.006134992956041489, 0.637239459345421, 0.10803322529443256, 0.25364322460431993, 0.0015656989173106167, 0.45399776704088024, 0.24201345019512543, 0.2675916250440953, 0.036379167476609096, 0.9773967772729832, 0.9697455951168132, 0.7256747742111798, 0.19777299926090855, 0.07150254588663617, 0.0060853230541818015, 0.8572941700714061, 0.020442185873535763, 0.11882020538992662, 0.0038329098512879553, 0.9978230992155428, 0.9948547324087217, 0.19495310459941725, 0.6244150161807422, 0.16104821684299686, 0.01977785119124523, 0.9256651913117593, 0.015237287099782046, 0.019046608874727557, 0.04190253952440063, 0.7008049049474425, 0.14466156294786656, 0.12537335455481768, 0.030539663288994053, 0.5870365986173741, 0.0025860643110897537, 0.40859816115218106, 0.37850470435781614, 0.471675093122817, 0.09705248829687593, 0.05046729391437548, 0.667030365526217, 0.09001447839281128, 0.21118781469082648, 0.031158857905203906, 0.4008955620893558, 0.24822574529368333, 0.3371916097573486, 0.014278472074415412, 0.9797020322305174, 0.9357925984013088, 0.987082644834769], \"Term\": [\"'re\", \"'re\", \"'re\", \"'re\", \"...\", \"...\", \"...\", \"...\", \"000\", \"100\", \"100\", \"100\", \"100\", \"200\", \"300\", \"300\", \"7-day\", \"94.5\", \"ALL\", \"ALL\", \"ALL\", \"ALL\", \"AND\", \"AND\", \"AND\", \"AND\", \"ARE\", \"Africa\", \"Africa\", \"Africa\", \"Anthony\", \"B.1.351\", \"Biden\", \"Biden\", \"Biden\", \"BioNTech\", \"BioNTech\", \"Bush\", \"But\", \"But\", \"But\", \"But\", \"CAN\", \"COVID\", \"COVID\", \"COVID\", \"COVID\", \"COVID-19\", \"COVID-19\", \"COVID-19\", \"COVID-19\", \"COVID19\", \"COVID19\", \"COVID19\", \"COVID19\", \"Canada\", \"Canada\", \"Canada\", \"Canada\", \"Center\", \"County\", \"Covid\", \"Covid\", \"Covid\", \"Covid\", \"Covid-19\", \"Covid-19\", \"Covid-19\", \"Covid-19\", \"Cuomo\", \"Cuomo\", \"Data\", \"DeSantis\", \"DeSantis\", \"DeSantis\", \"Defense\", \"Democrats\", \"Democrats\", \"Dolly\", \"Dr.\", \"Dr.\", \"Dr.\", \"FDA\", \"FDA\", \"FDA\", \"FIRST\", \"FOR\", \"FREE\", \"FREE\", \"Fauci\", \"Fauci\", \"Fauci\", \"Free\", \"Free\", \"GET\", \"God\", \"God\", \"God\", \"Got\", \"Got\", \"Got\", \"HAVE\", \"HCWs\", \"Harris\", \"Her\", \"Hoax\", \"Hospital\", \"Hospital\", \"Hospital\", \"India\", \"India\", \"India\", \"India\", \"Indian\", \"Indian\", \"Indian\", \"Italy\", \"Johnson\", \"Johnson\", \"Johnson\", \"Johnson\", \"June\", \"June\", \"Kamala\", \"Keenan\", \"Marco\", \"Margaret\", \"Mike\", \"Moderna\", \"Moderna\", \"Moderna\", \"Modi\", \"Modi\", \"Modi\", \"Modi\", \"NBA\", \"NOT\", \"NOT\", \"NOT\", \"NOT\", \"NYGovCuomo\", \"Never\", \"October\", \"Operation\", \"Oxford\", \"Oxford\", \"Oxford\", \"Oxford\", \"Oxygen\", \"Parton\", \"Pfizer\", \"Pfizer\", \"Pfizer\", \"Pfizer\", \"President\", \"President\", \"President\", \"President\", \"Production\", \"Publix\", \"Pune\", \"Ron\", \"Ron\", \"Ron\", \"Rubio\", \"Slaoui\", \"Spain\", \"Speed\", \"THE\", \"THIS\", \"THIS\", \"THIS\", \"THIS\", \"TRUMP\", \"TRUMP\", \"The\", \"The\", \"The\", \"The\", \"There\", \"There\", \"There\", \"There\", \"They\", \"They\", \"They\", \"They\", \"This\", \"This\", \"This\", \"This\", \"Tony\", \"Trump\", \"Trump\", \"Trump\", \"Trump\", \"U.S.\", \"U.S.\", \"U.S.\", \"VACCINE\", \"VACCINE\", \"VACCINES\", \"VACCINES\", \"Vaccine\", \"Vaccine\", \"Vaccine\", \"Vaccine\", \"Vaccines\", \"Vaccines\", \"Vaccines\", \"Vaccines\", \"WILL\", \"WILL\", \"Warp\", \"YOU\", \"YOU\", \"YOUR\", \"YOUR\", \"York\", \"York\", \"Yorkers\", \"You\", \"You\", \"You\", \"You\", \"administered\", \"administered\", \"administration\", \"administration\", \"administration\", \"aged\", \"aged\", \"aged\", \"ako\", \"amp\", \"amp\", \"amp\", \"amp\", \"ang\", \"ang\", \"announced\", \"announced\", \"appointment\", \"appointment\", \"appointment\", \"authorization\", \"base\", \"base\", \"birth\", \"blood\", \"blood\", \"blood\", \"boy\", \"business\", \"business\", \"candidate\", \"candidate\", \"candidate\", \"candidate\", \"capitalism\", \"case\", \"case\", \"case\", \"case\", \"certificate\", \"choice\", \"clot\", \"clot\", \"confirmed\", \"confirmed\", \"control\", \"control\", \"control\", \"coronavirus\", \"coronavirus\", \"coronavirus\", \"coronavirus\", \"country\", \"country\", \"country\", \"country\", \"coverage\", \"dad\", \"data\", \"data\", \"data\", \"data\", \"day\", \"day\", \"day\", \"day\", \"de\", \"deadly\", \"decade\", \"die\", \"die\", \"distance\", \"distancing\", \"dos\", \"dos\", \"dos\", \"dose\", \"dose\", \"dose\", \"dose\", \"dying\", \"dying\", \"effective\", \"effective\", \"effective\", \"effective\", \"eligible\", \"eligible\", \"eligible\", \"emergency\", \"emergency\", \"emergency\", \"emergency\", \"enter\", \"est\", \"excited\", \"excited\", \"first\", \"first\", \"first\", \"first\", \"flu\", \"flu\", \"gay\", \"get\", \"get\", \"get\", \"get\", \"getting\", \"getting\", \"getting\", \"getting\", \"goal\", \"going\", \"going\", \"going\", \"got\", \"got\", \"got\", \"got\", \"gun\", \"hai\", \"health\", \"health\", \"health\", \"health\", \"http\", \"http\", \"http\", \"http\", \"kid\", \"kid\", \"know\", \"know\", \"know\", \"know\", \"lakh\", \"le\", \"le\", \"le\", \"life\", \"life\", \"life\", \"life\", \"lift\", \"like\", \"like\", \"like\", \"like\", \"make\", \"make\", \"make\", \"make\", \"mandate\", \"manufactured\", \"many\", \"many\", \"many\", \"many\", \"mask\", \"mask\", \"material\", \"material\", \"material\", \"measure\", \"measure\", \"mga\", \"mga\", \"military\", \"million\", \"million\", \"million\", \"misinformation\", \"mom\", \"mom\", \"mom\", \"month\", \"month\", \"month\", \"month\", \"n't\", \"n't\", \"n't\", \"n't\", \"need\", \"need\", \"need\", \"need\", \"new\", \"new\", \"new\", \"new\", \"news\", \"news\", \"news\", \"news\", \"old\", \"old\", \"old\", \"older\", \"older\", \"one\", \"one\", \"one\", \"one\", \"ordered\", \"pa\", \"para\", \"passport\", \"passport\", \"passport\", \"passport\", \"patent\", \"people\", \"people\", \"people\", \"people\", \"per\", \"per\", \"per\", \"pill\", \"plan\", \"plan\", \"plan\", \"post-vaccine\", \"pour\", \"preventing\", \"preventing\", \"produce\", \"produce\", \"promised\", \"promised\", \"promised\", \"protect\", \"protect\", \"protect\", \"proven\", \"purchase\", \"quarter\", \"que\", \"qui\", \"racism\", \"raw\", \"raw\", \"raw\", \"raw\", \"receive\", \"receive\", \"receive\", \"receive\", \"received\", \"received\", \"received\", \"received\", \"receives\", \"recorded\", \"red\", \"relieved\", \"reopen\", \"reported\", \"reported\", \"respect\", \"risk\", \"risk\", \"risk\", \"rollout\", \"rollout\", \"rollout\", \"rollout\", \"safely\", \"said\", \"said\", \"said\", \"said\", \"say\", \"say\", \"say\", \"say\", \"school\", \"school\", \"school\", \"second\", \"second\", \"second\", \"second\", \"secured\", \"selling\", \"selling\", \"shot\", \"shot\", \"shot\", \"shot\", \"social\", \"stay\", \"stay\", \"stay\", \"still\", \"still\", \"still\", \"still\", \"supply\", \"supply\", \"supply\", \"supply\", \"symptomatic\", \"take\", \"take\", \"take\", \"take\", \"text\", \"thing\", \"thing\", \"thing\", \"thing\", \"think\", \"think\", \"think\", \"think\", \"time\", \"time\", \"time\", \"time\", \"today\", \"today\", \"today\", \"today\", \"tracking\", \"travel\", \"travel\", \"travel\", \"trial\", \"trial\", \"trial\", \"trial\", \"understand\", \"understand\", \"understand\", \"understand\", \"urge\", \"urge\", \"use\", \"use\", \"use\", \"use\", \"vaccinated\", \"vaccinated\", \"vaccinated\", \"vaccinated\", \"vaccine\", \"vaccine\", \"vaccine\", \"vaccine\", \"vaccin\\u00e9\", \"vaccin\\u00e9s\", \"virus\", \"virus\", \"virus\", \"virus\", \"want\", \"want\", \"want\", \"want\", \"wear\", \"wearing\", \"week\", \"week\", \"week\", \"week\", \"without\", \"without\", \"without\", \"without\", \"work\", \"work\", \"work\", \"work\", \"worker\", \"worker\", \"worker\", \"world\", \"world\", \"world\", \"world\", \"would\", \"would\", \"would\", \"would\", \"year\", \"year\", \"year\", \"year\", \"yung\", \"\\u00e9t\\u00e9\", \"\\u092d\\u093e\\u0930\\u0924\"]}, \"R\": 30, \"lambda.step\": 0.01, \"plot.opts\": {\"xlab\": \"PC1\", \"ylab\": \"PC2\"}, \"topic.order\": [4, 2, 3, 1]};\n",
       "\n",
       "function LDAvis_load_lib(url, callback){\n",
       "  var s = document.createElement('script');\n",
       "  s.src = url;\n",
       "  s.async = true;\n",
       "  s.onreadystatechange = s.onload = callback;\n",
       "  s.onerror = function(){console.warn(\"failed to load library \" + url);};\n",
       "  document.getElementsByTagName(\"head\")[0].appendChild(s);\n",
       "}\n",
       "\n",
       "if(typeof(LDAvis) !== \"undefined\"){\n",
       "   // already loaded: just create the visualization\n",
       "   !function(LDAvis){\n",
       "       new LDAvis(\"#\" + \"ldavis_el145362512195340832604676679\", ldavis_el145362512195340832604676679_data);\n",
       "   }(LDAvis);\n",
       "}else if(typeof define === \"function\" && define.amd){\n",
       "   // require.js is available: use it to load d3/LDAvis\n",
       "   require.config({paths: {d3: \"https://d3js.org/d3.v5\"}});\n",
       "   require([\"d3\"], function(d3){\n",
       "      window.d3 = d3;\n",
       "      LDAvis_load_lib(\"https://cdn.jsdelivr.net/gh/bmabey/pyLDAvis@3.3.1/pyLDAvis/js/ldavis.v3.0.0.js\", function(){\n",
       "        new LDAvis(\"#\" + \"ldavis_el145362512195340832604676679\", ldavis_el145362512195340832604676679_data);\n",
       "      });\n",
       "    });\n",
       "}else{\n",
       "    // require.js not available: dynamically load d3 & LDAvis\n",
       "    LDAvis_load_lib(\"https://d3js.org/d3.v5.js\", function(){\n",
       "         LDAvis_load_lib(\"https://cdn.jsdelivr.net/gh/bmabey/pyLDAvis@3.3.1/pyLDAvis/js/ldavis.v3.0.0.js\", function(){\n",
       "                 new LDAvis(\"#\" + \"ldavis_el145362512195340832604676679\", ldavis_el145362512195340832604676679_data);\n",
       "            })\n",
       "         });\n",
       "}\n",
       "</script>"
      ],
      "text/plain": [
       "PreparedData(topic_coordinates=              x         y  topics  cluster       Freq\n",
       "topic                                                \n",
       "3      0.108592 -0.095556       1        1  43.102086\n",
       "1      0.055608  0.129024       2        1  24.634642\n",
       "2      0.055889 -0.015089       3        1  23.039228\n",
       "0     -0.220089 -0.018379       4        1   9.224043, topic_info=         Term          Freq         Total Category  logprob  loglift\n",
       "17       http   5057.000000   5057.000000  Default  30.0000  30.0000\n",
       "208   million    978.000000    978.000000  Default  29.0000  29.0000\n",
       "379       dos    823.000000    823.000000  Default  28.0000  28.0000\n",
       "36    Vaccine    875.000000    875.000000  Default  27.0000  27.0000\n",
       "22    vaccine  16850.000000  16850.000000  Default  26.0000  26.0000\n",
       "..        ...           ...           ...      ...      ...      ...\n",
       "27      COVID     47.952934   1059.812247   Topic4  -6.4507  -0.7123\n",
       "874        le     37.059452    186.388787   Topic4  -6.7084   0.7680\n",
       "694     trial     39.675436    459.292539   Topic4  -6.6402  -0.0656\n",
       "260  Vaccines     38.137683    338.008310   Topic4  -6.6797   0.2015\n",
       "362     first     38.614149   1172.116669   Topic4  -6.6673  -1.0296\n",
       "\n",
       "[330 rows x 6 columns], token_table=      Topic      Freq  Term\n",
       "term                       \n",
       "314       1  0.836768   're\n",
       "314       2  0.117194   're\n",
       "314       3  0.037502   're\n",
       "314       4  0.007032   're\n",
       "137       1  0.700877   ...\n",
       "...     ...       ...   ...\n",
       "201       3  0.337192  year\n",
       "201       4  0.014278  year\n",
       "713       4  0.979702  yung\n",
       "2869      4  0.935793   été\n",
       "9203      2  0.987083  भारत\n",
       "\n",
       "[619 rows x 3 columns], R=30, lambda_step=0.01, plot_opts={'xlab': 'PC1', 'ylab': 'PC2'}, topic_order=[4, 2, 3, 1])"
      ]
     },
     "execution_count": 88,
     "metadata": {},
     "output_type": "execute_result"
    }
   ],
   "source": [
    "# import pyLDAvis\n",
    "# import pyLDAvis.sklearn\n",
    "# from gensim.corpora import Dictionary\n",
    "# from gensim.models.coherencemodel import CoherenceModel\n",
    "# from gensim.models.ldamodel import LdaModel\n",
    "pyLDAvis.enable_notebook() \n",
    "vis = gensim_models.prepare(lda_model, bow_corpus, dic)\n",
    "vis"
   ]
  },
  {
   "cell_type": "markdown",
   "metadata": {},
   "source": [
    "#### Wordcloud"
   ]
  },
  {
   "cell_type": "code",
   "execution_count": 90,
   "metadata": {
    "ExecuteTime": {
     "end_time": "2021-04-26T01:02:35.543656Z",
     "start_time": "2021-04-26T01:02:25.318370Z"
    }
   },
   "outputs": [
    {
     "data": {
      "image/png": "[encoded data removed]",
      "text/plain": [
       "<Figure size 864x864 with 1 Axes>"
      ]
     },
     "metadata": {
      "needs_background": "light"
     },
     "output_type": "display_data"
    }
   ],
   "source": [
    "from wordcloud import WordCloud, STOPWORDS\n",
    "stopwords = set(STOPWORDS)\n",
    "\n",
    "def show_wordcloud(tweet):\n",
    "    wordcloud = WordCloud(\n",
    "        background_color='white',\n",
    "        stopwords=stopwords,\n",
    "        max_words=100,\n",
    "        max_font_size=30,\n",
    "        scale=3,\n",
    "        random_state=1)\n",
    "   \n",
    "    wordcloud=wordcloud.generate(str(tweet))\n",
    "\n",
    "    fig = plt.figure(1, figsize=(12, 12))\n",
    "    plt.axis('off')\n",
    "\n",
    "    plt.imshow(wordcloud)\n",
    "    plt.show()\n",
    "\n",
    "show_wordcloud(corpus)"
   ]
  },
  {
   "cell_type": "code",
   "execution_count": null,
   "metadata": {},
   "outputs": [],
   "source": []
  }
 ],
 "metadata": {
  "kernelspec": {
   "display_name": "Python 3",
   "language": "python",
   "name": "python3"
  },
  "language_info": {
   "codemirror_mode": {
    "name": "ipython",
    "version": 3
   },
   "file_extension": ".py",
   "mimetype": "text/x-python",
   "name": "python",
   "nbconvert_exporter": "python",
   "pygments_lexer": "ipython3",
   "version": "3.6.9"
  },
  "toc": {
   "base_numbering": 1,
   "nav_menu": {},
   "number_sections": false,
   "sideBar": true,
   "skip_h1_title": false,
   "title_cell": "Table of Contents",
   "title_sidebar": "Contents",
   "toc_cell": false,
   "toc_position": {},
   "toc_section_display": true,
   "toc_window_display": true
  },
  "varInspector": {
   "cols": {
    "lenName": 16,
    "lenType": 16,
    "lenVar": 40
   },
   "kernels_config": {
    "python": {
     "delete_cmd_postfix": "",
     "delete_cmd_prefix": "del ",
     "library": "var_list.py",
     "varRefreshCmd": "print(var_dic_list())"
    },
    "r": {
     "delete_cmd_postfix": ") ",
     "delete_cmd_prefix": "rm(",
     "library": "var_list.r",
     "varRefreshCmd": "cat(var_dic_list()) "
    }
   },
   "types_to_exclude": [
    "module",
    "function",
    "builtin_function_or_method",
    "instance",
    "_Feature"
   ],
   "window_display": false
  }
 },
 "nbformat": 4,
 "nbformat_minor": 2
}
